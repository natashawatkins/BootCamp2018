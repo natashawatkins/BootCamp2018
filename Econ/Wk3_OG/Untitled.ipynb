{
 "cells": [
  {
   "cell_type": "code",
   "execution_count": 1,
   "metadata": {},
   "outputs": [],
   "source": [
    "import numpy as np\n",
    "from scipy.optimize import root"
   ]
  },
  {
   "cell_type": "code",
   "execution_count": 2,
   "metadata": {},
   "outputs": [],
   "source": [
    "n = np.array([1, 1, 0.2])          # Path of labor supply\n",
    "r = np.array([0.04, 0.05, 0.051])  # Path of interest rates\n",
    "w = np.array([1.2, 1.18, 1.17])    # Path of wages\n",
    "β = 0.9                            # Discount rate\n",
    "σ = 2.2                            # CRRA utility parameter\n",
    "b_2 = 1.0\n",
    "b_4 = 0\n",
    "\n",
    "u = lambda c: (c**(1 - σ) - 1)/(1 - σ)\n",
    "u_prime = lambda c: c**(-σ)\n",
    "c = lambda b, b_prime, r, w, n: (1 + r) * b + w * n - b_prime"
   ]
  },
  {
   "cell_type": "code",
   "execution_count": 3,
   "metadata": {},
   "outputs": [],
   "source": [
    "args = (n, r, w, β, σ, b_2, u, u_prime)\n",
    "\n",
    "def solve_b_2(b_3, *args):\n",
    "    \n",
    "    c_2 = c(b_2, b_3, r[1], w[1], n[1])\n",
    "    c_3 = c(b_3, b_4, r[2], w[2], n[2])\n",
    "    \n",
    "    return -u_prime(c_2) + β * (1 + r[1]) * u_prime(c_3)"
   ]
  },
  {
   "cell_type": "code",
   "execution_count": 4,
   "metadata": {},
   "outputs": [
    {
     "data": {
      "text/plain": [
       "    fjac: array([[-1.]])\n",
       "     fun: array([2.22044605e-16])\n",
       " message: 'The solution converged.'\n",
       "    nfev: 6\n",
       "     qtf: array([8.19455614e-13])\n",
       "       r: array([2.11430856])\n",
       "  status: 1\n",
       " success: True\n",
       "       x: array([0.95743276])"
      ]
     },
     "execution_count": 4,
     "metadata": {},
     "output_type": "execute_result"
    }
   ],
   "source": [
    "# Solve for b_2 given b_3\n",
    "\n",
    "root(solve_b_2, 1, args=args)"
   ]
  },
  {
   "cell_type": "markdown",
   "metadata": {},
   "source": [
    "## Time path iteration"
   ]
  },
  {
   "cell_type": "code",
   "execution_count": 7,
   "metadata": {},
   "outputs": [],
   "source": [
    "β_year = 0.96\n",
    "β = β_year**20\n",
    "δ_year = 0.05\n",
    "δ = 1 - (1 - δ_year)**20\n",
    "T = 50\n",
    "tol = 1e-9\n",
    "ξ = 0.2"
   ]
  },
  {
   "cell_type": "code",
   "execution_count": null,
   "metadata": {},
   "outputs": [],
   "source": []
  },
  {
   "cell_type": "code",
   "execution_count": null,
   "metadata": {},
   "outputs": [],
   "source": []
  }
 ],
 "metadata": {
  "kernelspec": {
   "display_name": "Python 3",
   "language": "python",
   "name": "python3"
  },
  "language_info": {
   "codemirror_mode": {
    "name": "ipython",
    "version": 3
   },
   "file_extension": ".py",
   "mimetype": "text/x-python",
   "name": "python",
   "nbconvert_exporter": "python",
   "pygments_lexer": "ipython3",
   "version": "3.6.4"
  }
 },
 "nbformat": 4,
 "nbformat_minor": 2
}
