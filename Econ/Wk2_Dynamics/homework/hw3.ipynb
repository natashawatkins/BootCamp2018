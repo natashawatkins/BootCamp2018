{
 "cells": [
  {
   "cell_type": "markdown",
   "metadata": {},
   "source": [
    "## OSM 2018 Homework 3\n",
    "\n",
    "#### John Stachurski"
   ]
  },
  {
   "cell_type": "code",
   "execution_count": 1,
   "metadata": {},
   "outputs": [],
   "source": [
    "import numpy as np\n",
    "import quantecon as qe\n",
    "import matplotlib.pyplot as plt\n",
    "from ipywidgets import interactive"
   ]
  },
  {
   "cell_type": "markdown",
   "metadata": {},
   "source": [
    "In [this paper](http://www.econ.nyu.edu/user/benhabib/Binder4.pdf), Jess Benhabib, Alberto Bisin and Mi Luo study the wealth distribution and social mobility in the US in recent decades.\n",
    "\n",
    "In table 3 they display this matrix, which shows the probability of transitions across wealth percentiles from one generation to the next."
   ]
  },
  {
   "cell_type": "code",
   "execution_count": 2,
   "metadata": {},
   "outputs": [],
   "source": [
    "P = [[0.222, 0.222, 0.215, 0.187, 0.081, 0.038, 0.029, 0.006],\n",
    "     [0.221, 0.220, 0.215, 0.188, 0.082, 0.039, 0.029, 0.006],\n",
    "     [0.207, 0.209, 0.210, 0.194, 0.090, 0.046, 0.036, 0.008],\n",
    "     [0.198, 0.201, 0.207, 0.198, 0.095, 0.052, 0.040, 0.009],\n",
    "     [0.175, 0.178, 0.197, 0.207, 0.110, 0.067, 0.054, 0.012],\n",
    "     [0.182, 0.184, 0.200, 0.205, 0.106, 0.062, 0.050, 0.011],\n",
    "     [0.123, 0.125, 0.166, 0.216, 0.141, 0.114, 0.094, 0.021],\n",
    "     [0.084, 0.084, 0.142, 0.228, 0.170, 0.143, 0.121, 0.028]]"
   ]
  },
  {
   "cell_type": "markdown",
   "metadata": {},
   "source": [
    "### Exercise 1\n",
    "\n",
    "Compute and plot the stationary distribution of the matrix using one of the methods in `quantecon`'s `MarkovChain` object, combined with `matplotlib`."
   ]
  },
  {
   "cell_type": "code",
   "execution_count": 3,
   "metadata": {},
   "outputs": [
    {
     "data": {
      "image/png": "[encoded data removed]",
      "text/plain": [
       "<matplotlib.figure.Figure at 0x111a8bc18>"
      ]
     },
     "metadata": {},
     "output_type": "display_data"
    }
   ],
   "source": [
    "mc = qe.MarkovChain(P)\n",
    "dist = mc.stationary_distributions.flatten()\n",
    "plt.stem(dist, basefmt='w')\n",
    "plt.xlabel('Quantile')\n",
    "plt.title('Income distribution in US')\n",
    "plt.ylim(0, 1.1 * max(dist))\n",
    "plt.show()"
   ]
  },
  {
   "cell_type": "markdown",
   "metadata": {},
   "source": [
    "### Exercise 2\n",
    "\n",
    "This Markov chain is asymptotically stationary and ergodic, which means that, for any sample path $\\{X_t\\}$ generated according to $P$, we have\n",
    "\n",
    "$$ \\lim_{n \\to \\infty} \\frac{1}{n} \\sum_{t=1}^n \\mathbb 1\\{X_t = j\\} = \\psi(j) $$\n",
    "\n",
    "where $\\psi$ is the stationary distribution and $j$ is an integer between 0 and 7 (the set of possible states).\n",
    "\n",
    "Use this fact to compute an approximation to the stationary distribution $\\psi$.  Confirm visually that your result is similar to the stationary distribution you computed in exercise 1.\n",
    "\n",
    "You can make use of the `simulate` method in `MarkovChain`."
   ]
  },
  {
   "cell_type": "code",
   "execution_count": 28,
   "metadata": {},
   "outputs": [
    {
     "data": {
      "application/vnd.jupyter.widget-view+json": {
       "model_id": "0021a0f8d1cc4f13ad0af73e368f65e8",
       "version_major": 2,
       "version_minor": 0
      },
      "text/html": [
       "<p>Failed to display Jupyter Widget of type <code>interactive</code>.</p>\n",
       "<p>\n",
       "  If you're reading this message in the Jupyter Notebook or JupyterLab Notebook, it may mean\n",
       "  that the widgets JavaScript is still loading. If this message persists, it\n",
       "  likely means that the widgets JavaScript library is either not installed or\n",
       "  not enabled. See the <a href=\"https://ipywidgets.readthedocs.io/en/stable/user_install.html\">Jupyter\n",
       "  Widgets Documentation</a> for setup instructions.\n",
       "</p>\n",
       "<p>\n",
       "  If you're reading this message in another frontend (for example, a static\n",
       "  rendering on GitHub or <a href=\"https://nbviewer.jupyter.org/\">NBViewer</a>),\n",
       "  it may mean that your frontend doesn't currently support widgets.\n",
       "</p>\n"
      ],
      "text/plain": [
       "interactive(children=(IntSlider(value=260, description='N', max=500, min=20, step=20), Output()), _dom_classes=('widget-interact',))"
      ]
     },
     "metadata": {},
     "output_type": "display_data"
    }
   ],
   "source": [
    "def estimate_stem(N):\n",
    "    dist = np.zeros(mc.n)\n",
    "    true = mc.stationary_distributions.flatten()\n",
    "    plt.stem(true, basefmt='w', linefmt='k', \n",
    "             markerfmt='ko', alpha=0.5, label='true dist')\n",
    "    p = mc.simulate(N)\n",
    "\n",
    "    for i in range(mc.n):\n",
    "        dist[i] = len(p[p == i])\n",
    "\n",
    "    plt.stem(dist / N, basefmt='w', alpha=0.7, label=f'N = {N}')\n",
    "    plt.legend()\n",
    "    plt.ylim(0, max(true) * 1.5)\n",
    "    plt.xlabel('Quantile')\n",
    "    plt.show()\n",
    "    \n",
    "interactive(estimate_stem, N=(20, 500, 20))"
   ]
  },
  {
   "cell_type": "markdown",
   "metadata": {},
   "source": [
    "### Exercise 3\n",
    "\n",
    "Ergodicity also implies that, if we simulate a large number of paths and then look at the cross section at some $T$, where $T$ is suitably large, then the empirical distribution should be close to the stationary distribution.\n",
    "\n",
    "Confirm this by simulation and visual inspection, as above.\n",
    "\n",
    "(In this context, the empirical distribution of a sample is the fraction of observations that take value $j$ for each $j$ in $0, \\ldots, 7$.)"
   ]
  },
  {
   "cell_type": "code",
   "execution_count": 31,
   "metadata": {},
   "outputs": [],
   "source": [
    "def plot_stem(T):\n",
    "    x = np.ones(mc.n) / mc.n\n",
    "    true = mc.stationary_distributions.flatten()\n",
    "    plt.stem(true, basefmt='w', linefmt='k',\n",
    "             markerfmt='ko', alpha=0.5, label='true dist')\n",
    "\n",
    "    for n in range(T):\n",
    "        x = x @ np.array(P)\n",
    "\n",
    "    plt.stem(x, basefmt='w', alpha=0.7, label=f'at T = {T}')\n",
    "    plt.ylim(0, max(true) * 1.2)\n",
    "    plt.legend()\n",
    "    plt.xlabel('Quantile')\n",
    "    plt.show()"
   ]
  },
  {
   "cell_type": "code",
   "execution_count": 32,
   "metadata": {},
   "outputs": [
    {
     "data": {
      "application/vnd.jupyter.widget-view+json": {
       "model_id": "27c6e2aceeb8450f929a0a2b2452d341",
       "version_major": 2,
       "version_minor": 0
      },
      "text/html": [
       "<p>Failed to display Jupyter Widget of type <code>interactive</code>.</p>\n",
       "<p>\n",
       "  If you're reading this message in the Jupyter Notebook or JupyterLab Notebook, it may mean\n",
       "  that the widgets JavaScript is still loading. If this message persists, it\n",
       "  likely means that the widgets JavaScript library is either not installed or\n",
       "  not enabled. See the <a href=\"https://ipywidgets.readthedocs.io/en/stable/user_install.html\">Jupyter\n",
       "  Widgets Documentation</a> for setup instructions.\n",
       "</p>\n",
       "<p>\n",
       "  If you're reading this message in another frontend (for example, a static\n",
       "  rendering on GitHub or <a href=\"https://nbviewer.jupyter.org/\">NBViewer</a>),\n",
       "  it may mean that your frontend doesn't currently support widgets.\n",
       "</p>\n"
      ],
      "text/plain": [
       "interactive(children=(IntSlider(value=5, description='T', max=10), Output()), _dom_classes=('widget-interact',))"
      ]
     },
     "metadata": {},
     "output_type": "display_data"
    }
   ],
   "source": [
    "interactive(plot_stem, T=(0, 10, 1))"
   ]
  },
  {
   "cell_type": "code",
   "execution_count": null,
   "metadata": {},
   "outputs": [],
   "source": []
  }
 ],
 "metadata": {
  "kernelspec": {
   "display_name": "Python 3",
   "language": "python",
   "name": "python3"
  },
  "language_info": {
   "codemirror_mode": {
    "name": "ipython",
    "version": 3
   },
   "file_extension": ".py",
   "mimetype": "text/x-python",
   "name": "python",
   "nbconvert_exporter": "python",
   "pygments_lexer": "ipython3",
   "version": "3.6.4"
  }
 },
 "nbformat": 4,
 "nbformat_minor": 2
}
