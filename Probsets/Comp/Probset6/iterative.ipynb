{
 "cells": [
  {
   "cell_type": "markdown",
   "metadata": {},
   "source": [
    "# Iterative Solvers\n",
    "\n",
    "Natasha Watkins"
   ]
  },
  {
   "cell_type": "code",
   "execution_count": 16,
   "metadata": {},
   "outputs": [],
   "source": [
    "import numpy as np\n",
    "from scipy.linalg import norm\n",
    "import matplotlib.pyplot as plt"
   ]
  },
  {
   "cell_type": "markdown",
   "metadata": {},
   "source": [
    "## Problem 1 + 2"
   ]
  },
  {
   "cell_type": "code",
   "execution_count": 17,
   "metadata": {},
   "outputs": [],
   "source": [
    "def jacobi(A, b, tol=1e-8, maxiter=100, plot=False):\n",
    "    \n",
    "    error = 1e3\n",
    "    it = 0\n",
    "    \n",
    "    D = np.diag(A)\n",
    "    L = np.tril(A)\n",
    "    U = np.triu(A)\n",
    "    \n",
    "    x = np.ones_like(b)  # Initial guess\n",
    "    errors = np.empty(maxiter)\n",
    "    \n",
    "    while error > tol and it < maxiter:\n",
    "        x_new = x + (b - A @ x) / D\n",
    "        errors[it] = norm(x_new - x, np.inf)\n",
    "        error = errors[it]\n",
    "        it += 1\n",
    "        x = x_new\n",
    "        \n",
    "    if it < maxiter:\n",
    "        print(f'Converged in {it} iterations')\n",
    "        \n",
    "    if plot:\n",
    "        plt.plot(range(1, it + 1), errors[:it])\n",
    "        plt.semilogy()\n",
    "        plt.xlim(1, it)\n",
    "        plt.title('Covergence of Jacobi Method')\n",
    "        plt.xlabel('Iteration')\n",
    "        plt.ylabel('Absolute Error of Approximation')\n",
    "        plt.show()\n",
    "        \n",
    "    return x"
   ]
  },
  {
   "cell_type": "code",
   "execution_count": 18,
   "metadata": {},
   "outputs": [],
   "source": [
    "def diag_dom(n, num_entries=None):\n",
    "    \"\"\"Generate a strictly diagonally dominant (n, n) matrix.\n",
    "    Parameters:\n",
    "        n (int): The dimension of the system.\n",
    "        num_entries (int): The number of nonzero values.\n",
    "            Defaults to n^(3/2)-n.\n",
    "    Returns:\n",
    "        A ((n,n) ndarray): A (n, n) strictly diagonally dominant matrix.\n",
    "    \"\"\"\n",
    "    if num_entries is None:\n",
    "        num_entries = int(n**1.5) - n\n",
    "    A = np.zeros((n,n))\n",
    "    rows = np.random.choice(np.arange(0,n), size=num_entries)\n",
    "    cols = np.random.choice(np.arange(0,n), size=num_entries)\n",
    "    data = np.random.randint(-4, 4, size=num_entries)\n",
    "    for i in range(num_entries):\n",
    "        A[rows[i], cols[i]] = data[i]\n",
    "    for i in range(n):\n",
    "        A[i,i] = np.sum(np.abs(A[i])) + 1\n",
    "    return A"
   ]
  },
  {
   "cell_type": "code",
   "execution_count": 19,
   "metadata": {},
   "outputs": [],
   "source": [
    "n = 5000\n",
    "A = diag_dom(n)\n",
    "b = np.random.random(n)"
   ]
  },
  {
   "cell_type": "code",
   "execution_count": 20,
   "metadata": {},
   "outputs": [
    {
     "name": "stdout",
     "output_type": "stream",
     "text": [
      "Converged in 15 iterations\n"
     ]
    },
    {
     "data": {
      "image/png": "[encoded data removed]",
      "text/plain": [
       "<matplotlib.figure.Figure at 0x61c4f3048>"
      ]
     },
     "metadata": {},
     "output_type": "display_data"
    }
   ],
   "source": [
    "x_opt = jacobi(A, b, plot=True)"
   ]
  },
  {
   "cell_type": "code",
   "execution_count": 21,
   "metadata": {},
   "outputs": [
    {
     "data": {
      "text/plain": [
       "True"
      ]
     },
     "execution_count": 21,
     "metadata": {},
     "output_type": "execute_result"
    }
   ],
   "source": [
    "np.allclose(A @ x_opt, b, atol=1e-6)"
   ]
  },
  {
   "cell_type": "markdown",
   "metadata": {},
   "source": [
    "## Problem 3"
   ]
  },
  {
   "cell_type": "code",
   "execution_count": 22,
   "metadata": {},
   "outputs": [],
   "source": [
    "def gauss_seidel(A, b, tol=1e-8, maxiter=100, plot=False):\n",
    "    \n",
    "    error = 1e3\n",
    "    it = 0\n",
    "    \n",
    "    x = np.ones_like(b)  # Initial gues\n",
    "    x_new = x.copy()\n",
    "    errors = np.empty(maxiter)\n",
    "    \n",
    "    while error > tol and it < maxiter:\n",
    "        for i in range(len(x)):\n",
    "            x_new[i] = x_new[i] + (1 / A[i, i]) * (b[i] - A[i, :].T @ x_new)  \n",
    "        \n",
    "        errors[it] = norm(x_new - x, np.inf)\n",
    "        error = errors[it]\n",
    "        it += 1\n",
    "        x = x_new.copy()\n",
    "        \n",
    "    if it < maxiter:\n",
    "        print(f'Converged in {it} iterations')\n",
    "        \n",
    "    if plot:\n",
    "        plt.plot(range(1, it + 1), errors[:it])\n",
    "        plt.semilogy()\n",
    "        plt.xlim(1, it)\n",
    "        plt.title('Covergence of Gauss-Seidel Method')\n",
    "        plt.xlabel('Iteration')\n",
    "        plt.ylabel('Absolute Error of Approximation')\n",
    "        plt.show()\n",
    "        \n",
    "    return x"
   ]
  },
  {
   "cell_type": "code",
   "execution_count": 23,
   "metadata": {},
   "outputs": [
    {
     "name": "stdout",
     "output_type": "stream",
     "text": [
      "Converged in 10 iterations\n"
     ]
    },
    {
     "data": {
      "image/png": "[encoded data removed]",
      "text/plain": [
       "<matplotlib.figure.Figure at 0x639769b38>"
      ]
     },
     "metadata": {},
     "output_type": "display_data"
    }
   ],
   "source": [
    "x_opt = gauss_seidel(A, b, plot=True)"
   ]
  },
  {
   "cell_type": "code",
   "execution_count": 25,
   "metadata": {},
   "outputs": [
    {
     "data": {
      "text/plain": [
       "True"
      ]
     },
     "execution_count": 25,
     "metadata": {},
     "output_type": "execute_result"
    }
   ],
   "source": [
    "np.allclose(A @ x_opt, b, atol=1e-6)"
   ]
  },
  {
   "cell_type": "markdown",
   "metadata": {},
   "source": [
    "## Problem 4"
   ]
  },
  {
   "cell_type": "code",
   "execution_count": 26,
   "metadata": {},
   "outputs": [],
   "source": [
    "def gauss_seidel_sparse(A, b, tol=1e-8, maxiter=100):\n",
    "    \n",
    "    error = 1e3\n",
    "    it = 0\n",
    "    \n",
    "    x = np.ones_like(b)  # Initial guess\n",
    "    x_new = x.copy()\n",
    "    errors = np.empty(maxiter)\n",
    "    \n",
    "    while error > tol and it < maxiter:\n",
    "        for i in range(len(x)):\n",
    "            # Get the indices of where the i-th row of A starts and ends if the\n",
    "            # nonzero entries of A were flattened.\n",
    "            rowstart = A.indptr[i]\n",
    "            rowend = A.indptr[i+1]\n",
    "\n",
    "            # Multiply only the nonzero elements of the i-th row of A with the\n",
    "            # corresponding elements of x.\n",
    "            Aix = A.data[rowstart:rowend] @ x[A.indices[rowstart:rowend]]\n",
    "            x_new[i] = x_new[i] + (1 / A[i, i]) * (b[i] - Aix)  \n",
    "        \n",
    "        errors[it] = norm(x_new - x, np.inf)\n",
    "        error = errors[it]\n",
    "        it += 1\n",
    "        x = x_new.copy()\n",
    "        \n",
    "    if it < maxiter:\n",
    "        print(f'Converged in {it} iterations')\n",
    "    else:\n",
    "        print('Did not converge')\n",
    "        \n",
    "    return x"
   ]
  },
  {
   "cell_type": "code",
   "execution_count": 27,
   "metadata": {},
   "outputs": [],
   "source": [
    "from scipy import sparse\n",
    "\n",
    "A_sparse = sparse.csr_matrix(diag_dom(500))\n",
    "b_sparse = np.random.random(500)"
   ]
  },
  {
   "cell_type": "code",
   "execution_count": 28,
   "metadata": {},
   "outputs": [
    {
     "name": "stdout",
     "output_type": "stream",
     "text": [
      "Converged in 16 iterations\n"
     ]
    },
    {
     "data": {
      "text/plain": [
       "False"
      ]
     },
     "execution_count": 28,
     "metadata": {},
     "output_type": "execute_result"
    }
   ],
   "source": [
    "x_opt = gauss_seidel_sparse(A_sparse, b_sparse)\n",
    "np.allclose(A_sparse @ x_opt, b_sparse)"
   ]
  },
  {
   "cell_type": "markdown",
   "metadata": {},
   "source": [
    "## Problem 5"
   ]
  },
  {
   "cell_type": "code",
   "execution_count": 29,
   "metadata": {},
   "outputs": [],
   "source": [
    "def SOR(A, b, ω, tol=1e-8, maxiter=100, plot=False):\n",
    "    \n",
    "    error = 1e3\n",
    "    it = 0\n",
    "    \n",
    "    x = np.ones_like(b)  # Initial gues\n",
    "    x_new = x.copy()\n",
    "    errors = np.empty(maxiter)\n",
    "    \n",
    "    while error > tol and it < maxiter:\n",
    "        for i in range(len(x)):\n",
    "            x_new[i] = x_new[i] + (ω / A[i, i]) * (b[i] - A[i, :].T @ x_new)  \n",
    "        \n",
    "        errors[it] = norm(x_new - x, np.inf)\n",
    "        error = errors[it]\n",
    "        it += 1\n",
    "        x = x_new.copy()\n",
    "        \n",
    "    if it < maxiter:\n",
    "        print(f'Converged in {it} iterations')\n",
    "    else:\n",
    "        print('Did not converge')\n",
    "        \n",
    "    return x"
   ]
  },
  {
   "cell_type": "code",
   "execution_count": 33,
   "metadata": {},
   "outputs": [
    {
     "name": "stdout",
     "output_type": "stream",
     "text": [
      "Converged in 24 iterations\n"
     ]
    },
    {
     "data": {
      "text/plain": [
       "array([0.00805133, 0.00496705, 0.01103715, ..., 0.00511524, 0.00311642,\n",
       "       0.00277329])"
      ]
     },
     "execution_count": 33,
     "metadata": {},
     "output_type": "execute_result"
    }
   ],
   "source": [
    "SOR(A, b, 1.3)"
   ]
  },
  {
   "cell_type": "markdown",
   "metadata": {},
   "source": [
    "## Problem 6"
   ]
  },
  {
   "cell_type": "code",
   "execution_count": null,
   "metadata": {},
   "outputs": [],
   "source": []
  }
 ],
 "metadata": {
  "kernelspec": {
   "display_name": "Python 3",
   "language": "python",
   "name": "python3"
  },
  "language_info": {
   "codemirror_mode": {
    "name": "ipython",
    "version": 3
   },
   "file_extension": ".py",
   "mimetype": "text/x-python",
   "name": "python",
   "nbconvert_exporter": "python",
   "pygments_lexer": "ipython3",
   "version": "3.6.4"
  }
 },
 "nbformat": 4,
 "nbformat_minor": 2
}
