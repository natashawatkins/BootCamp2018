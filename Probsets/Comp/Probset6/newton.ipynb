{
 "cells": [
  {
   "cell_type": "markdown",
   "metadata": {},
   "source": [
    "# Newton's Method\n",
    "\n",
    "Natasha Watkins"
   ]
  },
  {
   "cell_type": "code",
   "execution_count": 52,
   "metadata": {},
   "outputs": [],
   "source": [
    "import numpy as np\n",
    "from scipy.optimize import newton\n",
    "import matplotlib.pyplot as plt\n",
    "from scipy.linalg import norm"
   ]
  },
  {
   "cell_type": "markdown",
   "metadata": {},
   "source": [
    "## Problem 1"
   ]
  },
  {
   "cell_type": "code",
   "execution_count": 26,
   "metadata": {},
   "outputs": [],
   "source": [
    "def newton_1(f, f_prime, x0, tol=1e-5, maxiter=15):\n",
    "    i = 0\n",
    "    diff = 1e3\n",
    "    x = x0\n",
    "    while diff > tol and i < maxiter:\n",
    "        x_new = x - f(x) / f_prime(x)\n",
    "        diff = np.abs(x_new - x)\n",
    "        x = x_new\n",
    "        i += 1\n",
    "    if i < maxiter:\n",
    "        print(f'Converged in {i} iterations.')\n",
    "    else:\n",
    "        print('Did not converge')\n",
    "    return x, i < maxiter, i"
   ]
  },
  {
   "cell_type": "code",
   "execution_count": 27,
   "metadata": {},
   "outputs": [],
   "source": [
    "f = lambda x: np.exp(x) - 2\n",
    "f_prime = lambda x: np.exp(x)"
   ]
  },
  {
   "cell_type": "code",
   "execution_count": 28,
   "metadata": {},
   "outputs": [
    {
     "name": "stdout",
     "output_type": "stream",
     "text": [
      "Converged in 4 iterations.\n"
     ]
    },
    {
     "data": {
      "text/plain": [
       "(0.6931471805600254, True, 4)"
      ]
     },
     "execution_count": 28,
     "metadata": {},
     "output_type": "execute_result"
    }
   ],
   "source": [
    "newton_1(f, f_prime, 1)"
   ]
  },
  {
   "cell_type": "code",
   "execution_count": 29,
   "metadata": {},
   "outputs": [
    {
     "name": "stdout",
     "output_type": "stream",
     "text": [
      "Converged in 4 iterations.\n"
     ]
    },
    {
     "data": {
      "text/plain": [
       "1.603162047558726e-13"
      ]
     },
     "execution_count": 29,
     "metadata": {},
     "output_type": "execute_result"
    }
   ],
   "source": [
    "f(newton_1(f, f_prime, 1)[0])"
   ]
  },
  {
   "cell_type": "code",
   "execution_count": 30,
   "metadata": {},
   "outputs": [],
   "source": [
    "g = lambda x: x**4 - 3\n",
    "g_prime = lambda x: 4 * x**3"
   ]
  },
  {
   "cell_type": "code",
   "execution_count": 31,
   "metadata": {},
   "outputs": [
    {
     "name": "stdout",
     "output_type": "stream",
     "text": [
      "Converged in 5 iterations.\n"
     ]
    },
    {
     "data": {
      "text/plain": [
       "(1.3160740129543826, True, 5)"
      ]
     },
     "execution_count": 31,
     "metadata": {},
     "output_type": "execute_result"
    }
   ],
   "source": [
    "newton_1(g, g_prime, 1)"
   ]
  },
  {
   "cell_type": "code",
   "execution_count": 32,
   "metadata": {},
   "outputs": [
    {
     "data": {
      "text/plain": [
       "1.3160740129524924"
      ]
     },
     "execution_count": 32,
     "metadata": {},
     "output_type": "execute_result"
    }
   ],
   "source": [
    "newton(g, 1, g_prime)"
   ]
  },
  {
   "cell_type": "markdown",
   "metadata": {},
   "source": [
    "## Problem 2"
   ]
  },
  {
   "cell_type": "code",
   "execution_count": 33,
   "metadata": {},
   "outputs": [],
   "source": [
    "def find_r(N1, N2, P1, P2):\n",
    "    f = lambda r: P1 * ((1 + r)**N1 - 1) - P2 * (1 - (1 + r)**(-N2))\n",
    "    f_prime = lambda r: P1 * N1 * (1 + r)**(N1 - 1) - P2 * N2 * (1 + r)**(-N2 - 1)\n",
    "    return newton_1(f, f_prime, 1, maxiter=50)"
   ]
  },
  {
   "cell_type": "code",
   "execution_count": 34,
   "metadata": {},
   "outputs": [
    {
     "name": "stdout",
     "output_type": "stream",
     "text": [
      "Converged in 24 iterations.\n"
     ]
    },
    {
     "data": {
      "text/plain": [
       "(0.03877843204285935, True, 24)"
      ]
     },
     "execution_count": 34,
     "metadata": {},
     "output_type": "execute_result"
    }
   ],
   "source": [
    "find_r(30, 20, 2000, 8000)"
   ]
  },
  {
   "cell_type": "markdown",
   "metadata": {},
   "source": [
    "## Problem 3"
   ]
  },
  {
   "cell_type": "code",
   "execution_count": 35,
   "metadata": {},
   "outputs": [],
   "source": [
    "def newton_b(f, f_prime, x0, α, tol=1e-5, maxiter=15, print_flag=True):\n",
    "    i = 0\n",
    "    diff = 1e3\n",
    "    x = x0\n",
    "    \n",
    "    while diff > tol and i < maxiter:\n",
    "        x_new = x - α * f(x) / f_prime(x)\n",
    "        diff = np.abs(x_new - x)\n",
    "        x = x_new\n",
    "        i += 1\n",
    "        \n",
    "    if print_flag:\n",
    "        if i < maxiter:\n",
    "            print(f'Converged in {i} iterations.')\n",
    "        else:\n",
    "            print('Did not converge')\n",
    "    return x, i < maxiter, i"
   ]
  },
  {
   "cell_type": "code",
   "execution_count": 36,
   "metadata": {},
   "outputs": [],
   "source": [
    "f = lambda x: np.sign(x) * np.power(np.abs(x), 1/3)\n",
    "f_prime = lambda x: 1 / 3 * np.power(np.abs(x), -2/3)"
   ]
  },
  {
   "cell_type": "code",
   "execution_count": 37,
   "metadata": {},
   "outputs": [
    {
     "name": "stdout",
     "output_type": "stream",
     "text": [
      "Did not converge\n"
     ]
    },
    {
     "data": {
      "text/plain": [
       "(11258999068425.709, False, 50)"
      ]
     },
     "execution_count": 37,
     "metadata": {},
     "output_type": "execute_result"
    }
   ],
   "source": [
    "newton_b(f, f_prime, 0.01, 1, maxiter=50)"
   ]
  },
  {
   "cell_type": "code",
   "execution_count": 38,
   "metadata": {},
   "outputs": [
    {
     "name": "stdout",
     "output_type": "stream",
     "text": [
      "Converged in 6 iterations.\n"
     ]
    },
    {
     "data": {
      "text/plain": [
       "(6.400000000000134e-07, True, 6)"
      ]
     },
     "execution_count": 38,
     "metadata": {},
     "output_type": "execute_result"
    }
   ],
   "source": [
    "newton_b(f, f_prime, 0.01, 0.4, maxiter=50)"
   ]
  },
  {
   "cell_type": "markdown",
   "metadata": {},
   "source": [
    "## Problem 4"
   ]
  },
  {
   "cell_type": "code",
   "execution_count": 46,
   "metadata": {},
   "outputs": [
    {
     "data": {
      "image/png": "[encoded data removed]",
      "text/plain": [
       "<matplotlib.figure.Figure at 0x1518c09f28>"
      ]
     },
     "metadata": {},
     "output_type": "display_data"
    }
   ],
   "source": [
    "n = 50\n",
    "α_grid = np.linspace(1e-1, 1, n)\n",
    "points = np.zeros((n, 2))\n",
    "\n",
    "for i, α in enumerate(α_grid):\n",
    "    result = newton_b(f, f_prime, 0.01, α, maxiter=100, \n",
    "                      print_flag=False)\n",
    "    if result[1]:\n",
    "        points[i, :] = (α, result[2])\n",
    "    else:\n",
    "        points[i, :] = np.nan * np.ones(2)\n",
    "\n",
    "plt.figure(figsize=(8, 6))\n",
    "plt.scatter(points[:, 0], points[:, 1])\n",
    "plt.xlabel(r'$\\alpha$')\n",
    "plt.ylabel('Iterations')\n",
    "plt.show()"
   ]
  },
  {
   "cell_type": "markdown",
   "metadata": {},
   "source": [
    "## Problem 5"
   ]
  },
  {
   "cell_type": "code",
   "execution_count": 53,
   "metadata": {},
   "outputs": [],
   "source": [
    "def newton_vec(f, f_prime, x0, α, tol=1e-5, maxiter=15, print_flag=True):\n",
    "    \n",
    "    i = 0\n",
    "    diff = 1e3\n",
    "    x = x0\n",
    "    \n",
    "    if np.isscalar(x0):\n",
    "        while diff > tol and i < maxiter:\n",
    "            x_new = x - α * f(x) / f_prime(x)\n",
    "            diff = np.abs(x_new - x)\n",
    "            x = x_new\n",
    "            i += 1\n",
    "    else:\n",
    "        while diff > tol and i < maxiter:\n",
    "            y = np.linalg.solve(f_prime(x), f(x))\n",
    "            x_new = x - α * y\n",
    "            diff = norm(x_new - x, np.inf)\n",
    "            x = x_new\n",
    "            i += 1\n",
    "        \n",
    "    if print_flag:\n",
    "        if i < maxiter:\n",
    "            print(f'Converged in {i} iterations.')\n",
    "        else:\n",
    "            print('Did not converge')\n",
    "    return x, i < maxiter, i"
   ]
  },
  {
   "cell_type": "code",
   "execution_count": 54,
   "metadata": {},
   "outputs": [
    {
     "name": "stdout",
     "output_type": "stream",
     "text": [
      "Converged in 9 iterations.\n"
     ]
    },
    {
     "data": {
      "text/plain": [
       "(-5.120000000000109e-07, True, 9)"
      ]
     },
     "execution_count": 54,
     "metadata": {},
     "output_type": "execute_result"
    }
   ],
   "source": [
    "newton_vec(f, f_prime, 1, 0.4)"
   ]
  },
  {
   "cell_type": "code",
   "execution_count": 59,
   "metadata": {},
   "outputs": [],
   "source": [
    "def find_r(N1, N2, P1, P2):\n",
    "    f = lambda r: P1 * ((1 + r)**N1 - 1) - P2 * (1 - (1 + r)**(-N2))\n",
    "    f_prime = lambda r: P1 * N1 * (1 + r)**(N1 - 1) - P2 * N2 * (1 + r)**(-N2 - 1)\n",
    "    return newton_vec(f, f_prime, 1, 1, maxiter=50)"
   ]
  },
  {
   "cell_type": "code",
   "execution_count": 60,
   "metadata": {},
   "outputs": [
    {
     "name": "stdout",
     "output_type": "stream",
     "text": [
      "Converged in 24 iterations.\n"
     ]
    },
    {
     "data": {
      "text/plain": [
       "(0.03877843204285935, True, 24)"
      ]
     },
     "execution_count": 60,
     "metadata": {},
     "output_type": "execute_result"
    }
   ],
   "source": [
    "find_r(30, 20, 2000, 8000)"
   ]
  },
  {
   "cell_type": "code",
   "execution_count": 61,
   "metadata": {},
   "outputs": [],
   "source": [
    "def f(xvec):\n",
    "    x, y = xvec\n",
    "    return np.array([x**2, x**3 - y])"
   ]
  },
  {
   "cell_type": "code",
   "execution_count": 64,
   "metadata": {},
   "outputs": [],
   "source": [
    "def Df(xvec):\n",
    "    x, y = xvec\n",
    "    return np.array([[2 * x , 0],\n",
    "                     [3 * x**2, -1]])"
   ]
  },
  {
   "cell_type": "code",
   "execution_count": 68,
   "metadata": {},
   "outputs": [
    {
     "name": "stdout",
     "output_type": "stream",
     "text": [
      "Converged in 38 iterations.\n"
     ]
    },
    {
     "data": {
      "text/plain": [
       "(array([ 2.68175604e-05, -3.37714855e-11]), True, 38)"
      ]
     },
     "execution_count": 68,
     "metadata": {},
     "output_type": "execute_result"
    }
   ],
   "source": [
    "newton_vec(f, Df, [1.5, 1.5], α=0.5, maxiter=100)"
   ]
  },
  {
   "cell_type": "markdown",
   "metadata": {},
   "source": [
    "## Problem 6"
   ]
  },
  {
   "cell_type": "code",
   "execution_count": 97,
   "metadata": {},
   "outputs": [],
   "source": [
    "γ = 5\n",
    "δ = 1\n",
    "\n",
    "def h(vec):\n",
    "    x, y = vec\n",
    "    return np.array([γ * x * y - x * (1 + y),\n",
    "                     -x * y + (δ - y) * (1 + y)])\n",
    "\n",
    "def Dh(vec):\n",
    "    x, y = vec\n",
    "    return np.array([[γ * y - (1 + y), γ * x - x],\n",
    "                     [-y, -x + δ - 1 - 2 * y]])\n",
    "\n",
    "def init_point(α, converge1, converge2=None):\n",
    "    for x in np.linspace(-1/4, 0):\n",
    "        for y in np.linspace(0, 1/4):\n",
    "            result = newton_vec(h, Dh, [x, y], α, \n",
    "                                maxiter=100, print_flag=False)\n",
    "            if converge2 is None:\n",
    "                if np.allclose(result[0], converge1):\n",
    "                    return np.array([x, y])\n",
    "            else:\n",
    "                if np.allclose(result[0], converge1) or np.allclose(result[0], converge2):\n",
    "                    return np.array([x, y])"
   ]
  },
  {
   "cell_type": "code",
   "execution_count": 98,
   "metadata": {},
   "outputs": [
    {
     "data": {
      "text/plain": [
       "array([-0.25      ,  0.20408163])"
      ]
     },
     "execution_count": 98,
     "metadata": {},
     "output_type": "execute_result"
    }
   ],
   "source": [
    "xvec = init_point(0.55, [3.75, 0.25])\n",
    "xvec"
   ]
  },
  {
   "cell_type": "code",
   "execution_count": 99,
   "metadata": {},
   "outputs": [
    {
     "name": "stdout",
     "output_type": "stream",
     "text": [
      "Converged in 18 iterations.\n"
     ]
    },
    {
     "data": {
      "text/plain": [
       "(array([3.75000695, 0.25000218]), True, 18)"
      ]
     },
     "execution_count": 99,
     "metadata": {},
     "output_type": "execute_result"
    }
   ],
   "source": [
    "newton_vec(h, Dh, xvec, 0.55, maxiter=100)"
   ]
  },
  {
   "cell_type": "code",
   "execution_count": 101,
   "metadata": {},
   "outputs": [
    {
     "data": {
      "text/plain": [
       "array([-0.25,  0.  ])"
      ]
     },
     "execution_count": 101,
     "metadata": {},
     "output_type": "execute_result"
    }
   ],
   "source": [
    "xvec2 = init_point(1, [0, -1], [0, 1])\n",
    "xvec2"
   ]
  },
  {
   "cell_type": "code",
   "execution_count": 102,
   "metadata": {},
   "outputs": [
    {
     "name": "stdout",
     "output_type": "stream",
     "text": [
      "Converged in 7 iterations.\n"
     ]
    },
    {
     "data": {
      "text/plain": [
       "(array([-1.39269534e-16, -1.00000000e+00]), True, 7)"
      ]
     },
     "execution_count": 102,
     "metadata": {},
     "output_type": "execute_result"
    }
   ],
   "source": [
    "newton_vec(h, Dh, xvec2, 1, maxiter=100)"
   ]
  },
  {
   "cell_type": "markdown",
   "metadata": {},
   "source": [
    "## Problem 7"
   ]
  },
  {
   "cell_type": "code",
   "execution_count": null,
   "metadata": {},
   "outputs": [],
   "source": [
    "def basins(f, f_prime, zeros, r_min, r_max, \n",
    "           i_min, i_max, res, iters):\n",
    "    X_0 = "
   ]
  }
 ],
 "metadata": {
  "kernelspec": {
   "display_name": "Python 3",
   "language": "python",
   "name": "python3"
  },
  "language_info": {
   "codemirror_mode": {
    "name": "ipython",
    "version": 3
   },
   "file_extension": ".py",
   "mimetype": "text/x-python",
   "name": "python",
   "nbconvert_exporter": "python",
   "pygments_lexer": "ipython3",
   "version": "3.6.4"
  }
 },
 "nbformat": 4,
 "nbformat_minor": 2
}
