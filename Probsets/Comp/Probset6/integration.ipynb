{
 "cells": [
  {
   "cell_type": "markdown",
   "metadata": {},
   "source": [
    "# Numerical Integration"
   ]
  },
  {
   "cell_type": "code",
   "execution_count": 135,
   "metadata": {},
   "outputs": [],
   "source": [
    "import numpy as np\n",
    "from scipy.stats import norm"
   ]
  },
  {
   "cell_type": "markdown",
   "metadata": {},
   "source": [
    "## Exercise 14.1"
   ]
  },
  {
   "cell_type": "code",
   "execution_count": 128,
   "metadata": {},
   "outputs": [],
   "source": [
    "def integrate(f, a, b, N, method):\n",
    "    \n",
    "    i = np.arange(0, N, 1)\n",
    "    x = a + ((2 * i + 1) * (b - a)) / (2 * N)\n",
    "    \n",
    "    if method == 'midpoint':\n",
    "        return ((b - a) / N) * np.sum(f(x))\n",
    "    \n",
    "    if method == 'trapezoid':\n",
    "        return (b - a) / (2 * N) * (f(x[0]) + 2 * np.sum(f(x[1:-1])) + f(x[-1]))\n",
    "    \n",
    "    if method == 'simpson':\n",
    "        i = np.arange(0, 2 * N, 1)\n",
    "        x = a + (i * (b - a)) / (2 * N)\n",
    "        return ((b - a) / (6 * (N + 1))) * (f(x[0]) + 4 * np.sum(f(x[1:(2*N-1):2])) + \\\n",
    "                2 * np.sum(f(x[2:(2*N-2):2])) + f(x[-1]))"
   ]
  },
  {
   "cell_type": "code",
   "execution_count": 129,
   "metadata": {},
   "outputs": [],
   "source": [
    "f = lambda x: 0.1 * x**4 - 1.5 * x**3 + 0.53 * x**2 + 2 * x + 1"
   ]
  },
  {
   "cell_type": "code",
   "execution_count": 130,
   "metadata": {},
   "outputs": [
    {
     "data": {
      "text/plain": [
       "4373.278586816"
      ]
     },
     "execution_count": 130,
     "metadata": {},
     "output_type": "execute_result"
    }
   ],
   "source": [
    "integrate(f, -10, 10, 500, 'midpoint')"
   ]
  },
  {
   "cell_type": "code",
   "execution_count": 131,
   "metadata": {},
   "outputs": [
    {
     "data": {
      "text/plain": [
       "4352.321645695981"
      ]
     },
     "execution_count": 131,
     "metadata": {},
     "output_type": "execute_result"
    }
   ],
   "source": [
    "integrate(f, -10, 10, 1000, 'trapezoid')"
   ]
  },
  {
   "cell_type": "code",
   "execution_count": 134,
   "metadata": {},
   "outputs": [
    {
     "data": {
      "text/plain": [
       "4381.574824044178"
      ]
     },
     "execution_count": 134,
     "metadata": {},
     "output_type": "execute_result"
    }
   ],
   "source": [
    "integrate(f, -10, 10, 500, 'simpson')"
   ]
  },
  {
   "cell_type": "markdown",
   "metadata": {},
   "source": [
    "## Exercise 14.2"
   ]
  },
  {
   "cell_type": "code",
   "execution_count": 163,
   "metadata": {},
   "outputs": [],
   "source": [
    "def approx_distribution(μ, σ, N, k):\n",
    "    dist = norm(loc=μ, scale=σ)\n",
    "    ω = np.zeros(N)\n",
    "    z = np.linspace(μ - k * σ, μ + k * σ, N)\n",
    "    ω[0] = dist.cdf((z[0] + z[1]) / 2)\n",
    "    \n",
    "    for i in range(1, N-1):\n",
    "        z_min = (z[i-1] + z[i]) / 2\n",
    "        z_max = (z[i] + z[i+1]) / 2\n",
    "        ω[i] = dist.cdf(z_max) - dist.cdf(z_min)\n",
    "    \n",
    "    ω[-1] = 1 - dist.cdf(z[-2] + z[-1])\n",
    "    return z, ω"
   ]
  },
  {
   "cell_type": "code",
   "execution_count": 166,
   "metadata": {},
   "outputs": [
    {
     "data": {
      "text/plain": [
       "array([-3. , -2.4, -1.8, -1.2, -0.6,  0. ,  0.6,  1.2,  1.8,  2.4,  3. ])"
      ]
     },
     "execution_count": 166,
     "metadata": {},
     "output_type": "execute_result"
    }
   ],
   "source": [
    "nodes, weights = approx_distribution(0, 1, 11, 3)\n",
    "nodes"
   ]
  },
  {
   "cell_type": "code",
   "execution_count": 167,
   "metadata": {},
   "outputs": [
    {
     "data": {
      "text/plain": [
       "array([3.46697380e-03, 1.43974468e-02, 4.89427807e-02, 1.17252924e-01,\n",
       "       1.98028452e-01, 2.35822844e-01, 1.98028452e-01, 1.17252924e-01,\n",
       "       4.89427807e-02, 1.43974468e-02, 3.33204485e-08])"
      ]
     },
     "execution_count": 167,
     "metadata": {},
     "output_type": "execute_result"
    }
   ],
   "source": [
    "weights"
   ]
  },
  {
   "cell_type": "markdown",
   "metadata": {},
   "source": [
    "## Exercise 14.3"
   ]
  },
  {
   "cell_type": "code",
   "execution_count": 171,
   "metadata": {},
   "outputs": [],
   "source": [
    "def approx_logdistribution(μ, σ, N, k):\n",
    "    z, ω = approx_distribution(μ, σ, N, k)\n",
    "    return np.exp(z), ω"
   ]
  },
  {
   "cell_type": "code",
   "execution_count": 172,
   "metadata": {},
   "outputs": [
    {
     "data": {
      "text/plain": [
       "array([ 0.04978707,  0.09071795,  0.16529889,  0.30119421,  0.54881164,\n",
       "        1.        ,  1.8221188 ,  3.32011692,  6.04964746, 11.02317638,\n",
       "       20.08553692])"
      ]
     },
     "execution_count": 172,
     "metadata": {},
     "output_type": "execute_result"
    }
   ],
   "source": [
    "nodes, weights = approx_logdistribution(0, 1, 11, 3)\n",
    "nodes"
   ]
  },
  {
   "cell_type": "code",
   "execution_count": 173,
   "metadata": {},
   "outputs": [
    {
     "data": {
      "text/plain": [
       "array([3.46697380e-03, 1.43974468e-02, 4.89427807e-02, 1.17252924e-01,\n",
       "       1.98028452e-01, 2.35822844e-01, 1.98028452e-01, 1.17252924e-01,\n",
       "       4.89427807e-02, 1.43974468e-02, 3.33204485e-08])"
      ]
     },
     "execution_count": 173,
     "metadata": {},
     "output_type": "execute_result"
    }
   ],
   "source": [
    "weights"
   ]
  },
  {
   "cell_type": "markdown",
   "metadata": {},
   "source": [
    "## Exercise 14.4"
   ]
  },
  {
   "cell_type": "code",
   "execution_count": 186,
   "metadata": {},
   "outputs": [],
   "source": [
    "μ = 10.5\n",
    "σ = 0.8\n",
    "nodes, weights = approx_logdistribution(μ, σ, 11, 3)"
   ]
  },
  {
   "cell_type": "code",
   "execution_count": 187,
   "metadata": {},
   "outputs": [
    {
     "data": {
      "text/plain": [
       "48964.58431238742"
      ]
     },
     "execution_count": 187,
     "metadata": {},
     "output_type": "execute_result"
    }
   ],
   "source": [
    "np.sum(nodes * weights)"
   ]
  },
  {
   "cell_type": "code",
   "execution_count": 188,
   "metadata": {},
   "outputs": [
    {
     "data": {
      "text/plain": [
       "50011.087008521754"
      ]
     },
     "execution_count": 188,
     "metadata": {},
     "output_type": "execute_result"
    }
   ],
   "source": [
    "np.exp(μ + σ**2/2)"
   ]
  },
  {
   "cell_type": "markdown",
   "metadata": {},
   "source": [
    "## Exercise 14.5"
   ]
  },
  {
   "cell_type": "code",
   "execution_count": 189,
   "metadata": {},
   "outputs": [],
   "source": [
    "f = lambda x: 0.1 * x**4 - 1.5 * x**3 + 0.53 * x**2 + 2 * x + 1"
   ]
  },
  {
   "cell_type": "code",
   "execution_count": 217,
   "metadata": {},
   "outputs": [],
   "source": [
    "from scipy.optimize import root\n",
    "\n",
    "def quad_3(params, a, b):\n",
    "    \n",
    "    ω, x = params[:3], params[3:]\n",
    "    equations = np.empty(len(params))\n",
    "    \n",
    "    for i in range(1, len(params)+1):\n",
    "        equations[i-1] = ((b**i - a**i) / i) - ω @ x**(i-1)\n",
    "        \n",
    "    return equations"
   ]
  },
  {
   "cell_type": "code",
   "execution_count": 220,
   "metadata": {},
   "outputs": [
    {
     "data": {
      "text/plain": [
       "4373.333333340381"
      ]
     },
     "execution_count": 220,
     "metadata": {},
     "output_type": "execute_result"
    }
   ],
   "source": [
    "from scipy.optimize import root\n",
    "\n",
    "params = root(quad_3, x0=np.ones(6), args=(-10, 10)).x\n",
    "weights, nodes = params[:3], params[3:]\n",
    "weights, nodes\n",
    "np.sum(weights * f(nodes))"
   ]
  },
  {
   "cell_type": "markdown",
   "metadata": {},
   "source": [
    "## Exercise 14.6"
   ]
  },
  {
   "cell_type": "code",
   "execution_count": 221,
   "metadata": {},
   "outputs": [],
   "source": [
    "from scipy.integrate import quad"
   ]
  },
  {
   "cell_type": "code",
   "execution_count": 222,
   "metadata": {},
   "outputs": [
    {
     "data": {
      "text/plain": [
       "(4373.333333333334, 8.109531705284936e-11)"
      ]
     },
     "execution_count": 222,
     "metadata": {},
     "output_type": "execute_result"
    }
   ],
   "source": [
    "quad(f, -10, 10)"
   ]
  },
  {
   "cell_type": "markdown",
   "metadata": {},
   "source": [
    "## Exercise 14.7"
   ]
  },
  {
   "cell_type": "code",
   "execution_count": null,
   "metadata": {},
   "outputs": [],
   "source": [
    "def approx_pi(g, x, Ω, )"
   ]
  },
  {
   "cell_type": "code",
   "execution_count": null,
   "metadata": {},
   "outputs": [],
   "source": []
  }
 ],
 "metadata": {
  "kernelspec": {
   "display_name": "Python 3",
   "language": "python",
   "name": "python3"
  },
  "language_info": {
   "codemirror_mode": {
    "name": "ipython",
    "version": 3
   },
   "file_extension": ".py",
   "mimetype": "text/x-python",
   "name": "python",
   "nbconvert_exporter": "python",
   "pygments_lexer": "ipython3",
   "version": "3.6.4"
  }
 },
 "nbformat": 4,
 "nbformat_minor": 2
}
