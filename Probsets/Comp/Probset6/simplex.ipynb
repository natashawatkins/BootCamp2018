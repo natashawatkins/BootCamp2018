{
 "cells": [
  {
   "cell_type": "markdown",
   "metadata": {},
   "source": [
    "# Simplex\n",
    "\n",
    "Natasha Watkins"
   ]
  },
  {
   "cell_type": "code",
   "execution_count": 523,
   "metadata": {},
   "outputs": [],
   "source": [
    "import numpy as np"
   ]
  },
  {
   "cell_type": "markdown",
   "metadata": {},
   "source": [
    "## Problem 1 - 6"
   ]
  },
  {
   "cell_type": "code",
   "execution_count": 1274,
   "metadata": {},
   "outputs": [],
   "source": [
    "class LinearProblem:\n",
    "    \n",
    "    def __init__(self, c, A, b):\n",
    "        self.c, self.A, self.b = np.array(c), np.array(A), np.array(b)\n",
    "        \n",
    "        if np.any(self.b < 0):\n",
    "            raise ValueError('Problem is infeasible')\n",
    "        \n",
    "        self.m, self.n = self.A.shape\n",
    "        \n",
    "        t = self.m + self.n\n",
    "        self.L = np.concatenate([np.arange(self.n, t, 1),   # Basic variables\n",
    "                                 np.arange(0, self.n, 1)])  # Non-basic variables\n",
    "        \n",
    "        self.T = self.init_tableau()\n",
    "        \n",
    "    def init_tableau(self):\n",
    "        I_m = np.eye(self.m)\n",
    "        A_bar = np.hstack([self.A, I_m])\n",
    "        c_bar = np.hstack([self.c, np.zeros(self.m)])\n",
    "        T1 = np.hstack([0, -c_bar.T, 1])\n",
    "        T2 = np.column_stack([self.b, A_bar, np.zeros(self.m)])\n",
    "        return np.vstack([T1, T2])\n",
    "    \n",
    "    def pivot_id(self):\n",
    "        T = self.T.copy()\n",
    "        col_id = int(np.argwhere(T[0, 1:] < 0)[0]) + 1\n",
    "                \n",
    "        if np.all(T[:, col_id] <= 0):\n",
    "            raise ValueError('Problem is unbounded')\n",
    "            \n",
    "        nonpos_T = T[:, col_id] <= 0\n",
    "        T[nonpos_T, col_id] = np.nan\n",
    "        row_id = np.nanargmin(T[:, 0] / T[:, col_id])\n",
    "                \n",
    "        return row_id, col_id \n",
    "    \n",
    "    def pivot(self):\n",
    "                \n",
    "        L, T, m = self.L, self.T, self.m\n",
    "        row_id, col_id = self.pivot_id()\n",
    "        \n",
    "        L_temp = L.copy()\n",
    "        \n",
    "        L[row_id - 1] = L_temp[col_id + m - 1]\n",
    "        L[col_id + m - 1] = L_temp[row_id - 1]\n",
    "                        \n",
    "        T[row_id, :] /= T[row_id, col_id]  # Divide pivot row\n",
    "        \n",
    "        for i in range(T.shape[0]):\n",
    "            if i == row_id:\n",
    "                pass\n",
    "            else:\n",
    "                k = -T[i, col_id]\n",
    "                T[i, :] += k * T[row_id, :]\n",
    "        \n",
    "        self.T = T\n",
    "        self.L = L\n",
    "        \n",
    "    def solve(self):\n",
    "        \n",
    "        while np.any(self.T[0, :] < 0):\n",
    "            self.pivot()\n",
    "                    \n",
    "        max_value = self.T[0, 0]\n",
    "        basic = self.L[:self.m]\n",
    "        nonbasic = self.L[self.m:]\n",
    "        d1 = dict(zip(nonbasic, np.zeros(self.m)))\n",
    "        d2 = dict(zip(basic, self.T[1:, 0]))\n",
    "        return (max_value, d1, d2)      "
   ]
  },
  {
   "cell_type": "code",
   "execution_count": 1275,
   "metadata": {},
   "outputs": [],
   "source": [
    "c = [3, 2]\n",
    "A = [[1, -1], \n",
    "     [3, 1],\n",
    "     [4, 3]]\n",
    "b = [2, 5, 7]"
   ]
  },
  {
   "cell_type": "code",
   "execution_count": 1276,
   "metadata": {},
   "outputs": [
    {
     "data": {
      "text/plain": [
       "(5.2,\n",
       " {3: 0.0, 4: 0.0},\n",
       " {0: 1.6, 1: 0.19999999999999982, 2: 0.5999999999999996})"
      ]
     },
     "execution_count": 1276,
     "metadata": {},
     "output_type": "execute_result"
    }
   ],
   "source": [
    "lp = LinearProblem(c, A, b)\n",
    "lp.solve()"
   ]
  },
  {
   "cell_type": "markdown",
   "metadata": {},
   "source": [
    "## Problem 7"
   ]
  },
  {
   "cell_type": "code",
   "execution_count": 1277,
   "metadata": {},
   "outputs": [],
   "source": [
    "data = np.load('productMix.npz')\n",
    "a = data['A']\n",
    "p = data['p']\n",
    "m = data['m']\n",
    "d = data['d']"
   ]
  },
  {
   "cell_type": "code",
   "execution_count": 1279,
   "metadata": {},
   "outputs": [],
   "source": [
    "A = np.row_stack([a, np.eye((4))])\n",
    "b = np.concatenate([m, d])"
   ]
  },
  {
   "cell_type": "code",
   "execution_count": 1280,
   "metadata": {},
   "outputs": [
    {
     "data": {
      "text/plain": [
       "(7453.596491228071,\n",
       " {4: 0.0, 5: 0.0, 7: 0.0, 9: 0.0},\n",
       " {0: 10.0,\n",
       "  1: 6.192982456140348,\n",
       "  2: 12.0,\n",
       "  3: 1.7894736842105292,\n",
       "  6: 0.9659649122807016,\n",
       "  8: 13.807017543859653,\n",
       "  10: 8.21052631578947})"
      ]
     },
     "execution_count": 1280,
     "metadata": {},
     "output_type": "execute_result"
    }
   ],
   "source": [
    "LinearProblem(p, A, b).solve()"
   ]
  },
  {
   "cell_type": "code",
   "execution_count": null,
   "metadata": {},
   "outputs": [],
   "source": []
  }
 ],
 "metadata": {
  "kernelspec": {
   "display_name": "Python 3",
   "language": "python",
   "name": "python3"
  },
  "language_info": {
   "codemirror_mode": {
    "name": "ipython",
    "version": 3
   },
   "file_extension": ".py",
   "mimetype": "text/x-python",
   "name": "python",
   "nbconvert_exporter": "python",
   "pygments_lexer": "ipython3",
   "version": "3.6.4"
  }
 },
 "nbformat": 4,
 "nbformat_minor": 2
}
