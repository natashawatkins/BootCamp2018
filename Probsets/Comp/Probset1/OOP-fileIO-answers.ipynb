{
 "cells": [
  {
   "cell_type": "markdown",
   "metadata": {},
   "source": [
    "# Object orientated programming"
   ]
  },
  {
   "cell_type": "markdown",
   "metadata": {},
   "source": [
    "Natasha Watkins"
   ]
  },
  {
   "cell_type": "markdown",
   "metadata": {},
   "source": [
    "### Problem 1"
   ]
  },
  {
   "cell_type": "code",
   "execution_count": 21,
   "metadata": {},
   "outputs": [],
   "source": [
    "class Backpack:\n",
    "    \n",
    "    \"\"\"\n",
    "    A Backpack object class. Has a name, color, size and a list of contents.\n",
    "    Attributes:\n",
    "        name (str): the name of the backpack's owner.\n",
    "        color (str): the color of the backpack.\n",
    "        max_size (int), optional: maximum capacity in backpack.\n",
    "        contents (list): the contents of the backpack.\n",
    "    \"\"\"\n",
    "    def __init__(self, name, color, max_size=5):           # This function is the constructor.\n",
    "        \"\"\"\n",
    "        Set the attributes and initialize an empty list of contents.\n",
    "        Parameters:\n",
    "            name (str): the name of the backpack's owner.\n",
    "            color (str): the color of the backpack.\n",
    "            max_size (int), optional: maximum capacity in backpack.\n",
    "        \"\"\"\n",
    "        self.name, self.color, self.max_size = name, color, max_size\n",
    "        self.contents = []\n",
    "    \n",
    "    def put(self, item):\n",
    "        \"\"\"Add 'item' to the backpack's list of contents.\"\"\"\n",
    "        if len(self.contents) >= self.max_size:\n",
    "            print(\"No room!\")\n",
    "        else:\n",
    "            self.contents.append(item)  # Use 'self.contents', not just 'contents'.\n",
    "         \n",
    "    def take(self, item):\n",
    "        \"\"\"Remove 'item' from the backpack's list of contents.\"\"\"\n",
    "        self.contents.remove(item)\n",
    "        \n",
    "    def dump(self):\n",
    "        '''Remove all contents from the backpack'''\n",
    "        self.contents = []"
   ]
  },
  {
   "cell_type": "code",
   "execution_count": 11,
   "metadata": {},
   "outputs": [
    {
     "name": "stdout",
     "output_type": "stream",
     "text": [
      "Contents: ['pencil', 'pen', 'paper', 'computer', 'notebook']\n",
      "Try put more items in...\n",
      "No room!\n",
      "Removing last item...\n",
      "Contents: ['pencil', 'pen', 'paper', 'computer']\n",
      "Dumping contents...\n",
      "Contents: []\n"
     ]
    }
   ],
   "source": [
    "def test_backpack():\n",
    "    testpack = Backpack(\"Barry\", \"black\")       # Instantiate the object.\n",
    "    if testpack.name != \"Barry\":                # Test an attribute.\n",
    "        print(\"Backpack.name assigned incorrectly\")\n",
    "    for item in [\"pencil\", \"pen\", \"paper\", \"computer\", \"notebook\"]:\n",
    "        testpack.put(item)                      # Test a method.\n",
    "    print(\"Contents:\", testpack.contents)\n",
    "    print(\"Try put more items in...\")\n",
    "    testpack.put(\"ruler\")\n",
    "    print(\"Removing last item...\")\n",
    "    testpack.take(testpack.contents[-1])\n",
    "    print(\"Contents:\", testpack.contents)\n",
    "    print(\"Dumping contents...\")\n",
    "    testpack.dump()\n",
    "    print(\"Contents:\", testpack.contents)\n",
    "    \n",
    "test_backpack()"
   ]
  },
  {
   "cell_type": "markdown",
   "metadata": {},
   "source": [
    "### Problem 2"
   ]
  },
  {
   "cell_type": "code",
   "execution_count": 23,
   "metadata": {},
   "outputs": [],
   "source": [
    "class JetPack(Backpack):\n",
    "    \n",
    "    \"\"\"\n",
    "    A JetPack object subclass (of Backpack). Has a name, color, \n",
    "    size, pre-loaded fuel and a list of contents.\n",
    "    Attributes:\n",
    "        name (str): the name of the backpack's owner.\n",
    "        color (str): the color of the backpack.\n",
    "        max_size (int), optional: maximum capacity in backpack.\n",
    "        fuel_amount (int), optional: initial fuel tank volume.\n",
    "        contents (list): the contents of the backpack.\n",
    "    \"\"\"\n",
    "    \n",
    "    def __init__(self, name, color, max_size=2, fuel_amount=10):\n",
    "        \"\"\"\n",
    "        Set the attributes and initialize an empty list of contents.\n",
    "        Parameters:\n",
    "            name (str): the name of the jetpack's owner.\n",
    "            color (str): the color of the jetpack.\n",
    "            max_size (int), optional: maximum capacity in backpack.\n",
    "            fuel_amount (int), optional: initial fuel tank volume.\n",
    "        \"\"\"\n",
    "        \n",
    "        self.name, self.color, self.max_size = name, color, max_size\n",
    "        self.fuel_amount = fuel_amount\n",
    "        self.contents = []\n",
    "        \n",
    "    def fly(self, fuel_burned):\n",
    "        '''Use the jetpack to fly if there is enough fuel left'''\n",
    "        if fuel_burned > self.fuel_amount:\n",
    "            print(\"Not enough fuel!\")\n",
    "        else:\n",
    "            self.fuel_amount =- fuel_burned\n",
    "            \n",
    "    def dump(self):\n",
    "        '''Remove all contents from the backpack and empty the fuel tank'''\n",
    "        self.fuel_amount = 0\n",
    "        self.contents = []"
   ]
  },
  {
   "cell_type": "markdown",
   "metadata": {},
   "source": [
    "### Problem 3"
   ]
  },
  {
   "cell_type": "code",
   "execution_count": 39,
   "metadata": {},
   "outputs": [],
   "source": [
    "class Backpack:\n",
    "    \n",
    "    \"\"\"\n",
    "    A Backpack object class. Has a name, color, size and a list of contents.\n",
    "    Attributes:\n",
    "        name (str): the name of the backpack's owner.\n",
    "        color (str): the color of the backpack.\n",
    "        max_size (int), optional: maximum capacity in backpack.\n",
    "        contents (list): the contents of the backpack.\n",
    "    \"\"\"\n",
    "    def __init__(self, name, color, max_size=5):           # This function is the constructor.\n",
    "        \"\"\"\n",
    "        Set the attributes and initialize an empty list of contents.\n",
    "        Parameters:\n",
    "            name (str): the name of the backpack's owner.\n",
    "            color (str): the color of the backpack.\n",
    "            max_size (int), optional: maximum capacity in backpack.\n",
    "        \"\"\"\n",
    "        self.name, self.color, self.max_size = name, color, max_size\n",
    "        self.contents = []\n",
    "    \n",
    "    def put(self, item):\n",
    "        \"\"\"Add 'item' to the backpack's list of contents.\"\"\"\n",
    "        if len(self.contents) >= self.max_size:\n",
    "            print(\"No room!\")\n",
    "        else:\n",
    "            self.contents.append(item)  # Use 'self.contents', not just 'contents'.\n",
    "         \n",
    "    def take(self, item):\n",
    "        \"\"\"Remove 'item' from the backpack's list of contents.\"\"\"\n",
    "        self.contents.remove(item)\n",
    "        \n",
    "    def dump(self):\n",
    "        '''Remove all contents from the backpack'''\n",
    "        self.contents = []\n",
    "        \n",
    "    def __eq__(self, other):\n",
    "        \n",
    "        return self.name == other.name and self.color == other.color \\\n",
    "        and len(self.contents) == len(other.contents)\n",
    "        \n",
    "    def __str__(self):\n",
    "        \n",
    "        return f'''\n",
    "        Owner: \\t \\t {self.name}  \\n\n",
    "        Color: \\t \\t {self.color} \\n\n",
    "        Size: \\t \\t {len(self.contents)} \\n\n",
    "        Max Size: \\t {self.max_size} \\n\n",
    "        Contents: \\t {self.contents}\n",
    "        '''"
   ]
  },
  {
   "cell_type": "code",
   "execution_count": 40,
   "metadata": {},
   "outputs": [],
   "source": [
    "bp1 = Backpack('natasha', 'blue')\n",
    "for item in [\"pencil\", \"pen\", \"paper\", \"computer\", \"notebook\"]:\n",
    "    bp1.put(item)                      # Test a method."
   ]
  },
  {
   "cell_type": "code",
   "execution_count": 41,
   "metadata": {},
   "outputs": [
    {
     "name": "stdout",
     "output_type": "stream",
     "text": [
      "\n",
      "        Owner: \t \t natasha  \n",
      "\n",
      "        Color: \t \t blue \n",
      "\n",
      "        Size: \t \t 5 \n",
      "\n",
      "        Max Size: \t 5 \n",
      "\n",
      "        Contents: \t ['pencil', 'pen', 'paper', 'computer', 'notebook']\n",
      "        \n"
     ]
    }
   ],
   "source": [
    "print(bp1)"
   ]
  },
  {
   "cell_type": "markdown",
   "metadata": {},
   "source": [
    "### Problem 4"
   ]
  },
  {
   "cell_type": "code",
   "execution_count": 102,
   "metadata": {},
   "outputs": [],
   "source": [
    "class ComplexNumber:\n",
    "    \n",
    "    def __init__(self, real, imag):\n",
    "        self.real, self.imag = real, imag\n",
    "        \n",
    "    def conjugate(self):\n",
    "        return ComplexNumber(self.real, -self.imag)\n",
    "    \n",
    "    def __str__(self):\n",
    "        a, b = self.real, self.imag\n",
    "        if b >= 0:\n",
    "            return f'({a} + {b}j)'\n",
    "        else:\n",
    "            return f'({a} - {abs(b)}j)'\n",
    "        \n",
    "    def __abs__(self):\n",
    "        a, b = self.real, self.imag\n",
    "        return (a**2 + b**2)**(0.5)\n",
    "    \n",
    "    def __eq__(self, other):\n",
    "        return self.real == other.real and self.imag == other.imag\n",
    "    \n",
    "    def __add__(self, other):\n",
    "        return ComplexNumber(self.real + other.real, self.imag + other.imag)\n",
    "    \n",
    "    def __sub__(self, other):\n",
    "        return ComplexNumber(self.real - other.real, self.imag - other.imag)\n",
    "    \n",
    "    def __mul__(self, other):\n",
    "        a = self.real * other.real + self.imag * other.imag * -1\n",
    "        b = self.real * other.imag + self.imag * other.real\n",
    "        return ComplexNumber(a, b)\n",
    "    \n",
    "    def __truediv__(self, other):\n",
    "        conj = other.conjugate()\n",
    "        numer = self * conj\n",
    "        denom = other * conj\n",
    "        if denom.real != 0:\n",
    "            return ComplexNumber(numer.real / denom.real, numer.imag / denom.real)\n",
    "        else:\n",
    "            raise ZeroDivisionError(\"cannot divide by zero\")"
   ]
  },
  {
   "cell_type": "code",
   "execution_count": 108,
   "metadata": {},
   "outputs": [
    {
     "name": "stdout",
     "output_type": "stream",
     "text": [
      "(0.8 + 0.6j)\n"
     ]
    }
   ],
   "source": [
    "print(ComplexNumber(1, 2) / ComplexNumber(2, 1))"
   ]
  },
  {
   "cell_type": "markdown",
   "metadata": {},
   "source": [
    "# File I/O"
   ]
  },
  {
   "cell_type": "markdown",
   "metadata": {},
   "source": [
    "### Problem 3"
   ]
  },
  {
   "cell_type": "code",
   "execution_count": 794,
   "metadata": {},
   "outputs": [],
   "source": [
    "class ContentFilter:\n",
    "    \n",
    "    def __init__(self, filename):\n",
    "        self.filename = filename\n",
    "        self.contents = None\n",
    "        while self.contents is None:\n",
    "            try:\n",
    "                with open(self.filename, 'r') as file:\n",
    "                    contents = file.readlines()\n",
    "                self.contents = ''.join(contents)\n",
    "            except:\n",
    "                self.filename = input(\"Please provide a valid filename: \")\n",
    "           \n",
    "    def __str__(self):\n",
    "        \n",
    "        contents = self.contents\n",
    "        \n",
    "        letters = 0\n",
    "        numbers = 0\n",
    "        whitespace = 0\n",
    "        for char in contents:\n",
    "            letters += char.isalpha()\n",
    "            numbers += char.isdigit()\n",
    "            whitespace += char.isspace()\n",
    "            \n",
    "        no_lines = len(contents.split('\\n'))\n",
    "        \n",
    "        return f'''\n",
    "        Source file: \\t \\t {self.filename} \\n\n",
    "        Total characters: \\t {len(contents)} \\n\n",
    "        Alphabetic characters: \\t {letters} \\n\n",
    "        Numerical characters: \\t {numbers} \\n\n",
    "        Whitespace characters: \\t {whitespace} \\n\n",
    "        Number of lines: \\t {no_lines} \\n\n",
    "        '''\n",
    "    \n",
    "    def uniform(self, file, mode='w', case='upper'):\n",
    "        if mode not in ['w', 'x', 'a']:\n",
    "            raise ValueError('invalid writing mode')\n",
    "        with open(file, mode) as f:\n",
    "            if case == 'upper':\n",
    "                f.write(self.contents.upper())\n",
    "            elif case == 'lower':\n",
    "                f.write(self.contents.lower())\n",
    "            else:\n",
    "                raise ValueError('case must be either upper or lower')\n",
    "                \n",
    "    def reverse(self, file, mode='w', unit='line'):\n",
    "        with open(file, mode) as f:\n",
    "            if unit == 'line':\n",
    "                lines = self.contents.split('\\n')\n",
    "                lines.reverse()\n",
    "                f.write('\\n'.join(lines))\n",
    "            elif unit == 'word':\n",
    "                lines = self.contents.split('\\n')\n",
    "                for i, line in enumerate(lines):\n",
    "                    words = line.split(' ')\n",
    "                    words.reverse()\n",
    "                    lines[i] = ' '.join(words)\n",
    "                f.write('\\n'.join(lines))\n",
    "            else:\n",
    "                raise ValueError('unit should be either line or word')\n",
    "    \n",
    "    def transpose(self, file, mode='w'):\n",
    "        with open(file, mode) as f:\n",
    "            lines = self.contents.split('\\n')\n",
    "            list_lists = []\n",
    "            for line in lines:\n",
    "                words = line.split(' ')\n",
    "                list_lists.append(words)\n",
    "            trans = [list(i) for i in zip(*list_lists)]\n",
    "            for i, line in enumerate(trans):\n",
    "                trans[i] = ' '.join(line)\n",
    "            f.write('\\n'.join(trans))"
   ]
  },
  {
   "cell_type": "code",
   "execution_count": 795,
   "metadata": {},
   "outputs": [],
   "source": [
    "cf = ContentFilter('test.txt')"
   ]
  },
  {
   "cell_type": "code",
   "execution_count": 796,
   "metadata": {},
   "outputs": [],
   "source": [
    "cf.transpose('new_test.txt')"
   ]
  },
  {
   "cell_type": "code",
   "execution_count": 792,
   "metadata": {},
   "outputs": [
    {
     "data": {
      "text/plain": [
       "'A b C\\nd E f'"
      ]
     },
     "execution_count": 792,
     "metadata": {},
     "output_type": "execute_result"
    }
   ],
   "source": [
    "cf.contents"
   ]
  },
  {
   "cell_type": "code",
   "execution_count": 793,
   "metadata": {},
   "outputs": [
    {
     "name": "stdout",
     "output_type": "stream",
     "text": [
      "\n",
      "        Source file: \t \t test.txt \n",
      "\n",
      "        Total characters: \t 11 \n",
      "\n",
      "        Alphabetic characters: \t 6 \n",
      "\n",
      "        Numerical characters: \t 0 \n",
      "\n",
      "        Whitespace characters: \t 5 \n",
      "\n",
      "        Number of lines: \t 2 \n",
      "\n",
      "        \n"
     ]
    }
   ],
   "source": [
    "print(cf)"
   ]
  },
  {
   "cell_type": "code",
   "execution_count": null,
   "metadata": {},
   "outputs": [],
   "source": []
  }
 ],
 "metadata": {
  "kernelspec": {
   "display_name": "Python 3",
   "language": "python",
   "name": "python3"
  },
  "language_info": {
   "codemirror_mode": {
    "name": "ipython",
    "version": 3
   },
   "file_extension": ".py",
   "mimetype": "text/x-python",
   "name": "python",
   "nbconvert_exporter": "python",
   "pygments_lexer": "ipython3",
   "version": "3.6.4"
  }
 },
 "nbformat": 4,
 "nbformat_minor": 2
}
