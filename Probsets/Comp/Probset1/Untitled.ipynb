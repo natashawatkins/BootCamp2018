{
 "cells": [
  {
   "cell_type": "code",
   "execution_count": 1,
   "metadata": {},
   "outputs": [],
   "source": [
    "def is_set(a, b, c):\n",
    "    \"\"\"\n",
    "    Determine if the cards a, b, and c constitute a set.\n",
    "    Parameters:\n",
    "     a, b, c (str): string representations of 4-bit integers in base 3.\n",
    "         For example, \"1022\", \"1122\", and \"1020\" (which is not a set).\n",
    "    Returns:\n",
    "     True if a, b, and c form a set, meaning the ith digit of a, b,\n",
    "         and c are either the same or all different for i=1,2,3,4.\n",
    "     False if a, b, and c do not form a set.\n",
    "    \"\"\"\n",
    "    for i in range(4):\n",
    "        if not sum([int(a[i]), int(b[i]), int(c[i])]) % 3 == 0:\n",
    "            return False\n",
    "    return True"
   ]
  },
  {
   "cell_type": "code",
   "execution_count": 2,
   "metadata": {},
   "outputs": [],
   "source": [
    "from itertools import combinations"
   ]
  },
  {
   "cell_type": "code",
   "execution_count": 67,
   "metadata": {},
   "outputs": [],
   "source": [
    "def count_sets(cards):\n",
    "    \"\"\"\n",
    "    Return the number of sets in the provided Set hand.\n",
    "    Parameters:\n",
    "     cards (list(str)) a list of twelve cards as 4-bit integers in\n",
    "     base 3 as strings, such as [\"1022\", \"1122\", ..., \"1020\"].\n",
    "    Returns:\n",
    "     (int) The number of sets in the hand.\n",
    "    Raises:\n",
    "     ValueError: if the list does not contain a valid Set hand, meaning\n",
    "         - there are not exactly 12 cards,\n",
    "         - the cards are not all unique,\n",
    "         - one or more cards does not have exactly 4 digits, or\n",
    "         - one or more cards has a character other than 0, 1, or 2.\n",
    "    \"\"\"\n",
    "    \n",
    "    if len(cards) != 12:\n",
    "        raise ValueError(\"there are not exactly twelve cards\")\n",
    "        \n",
    "    if len(set(cards)) != 12:\n",
    "        raise ValueError(\"the cards are not all unique\")\n",
    "        \n",
    "    for card in cards:\n",
    "        if len(card) != 4:\n",
    "            raise ValueError(\"one or more cards does not have exactly 4 digits\")\n",
    "            \n",
    "    for i in set(''.join(cards)):\n",
    "        if int(i) not in [0, 1, 2]:\n",
    "            raise ValueError(\"one or more cards has a character other than 0, 1, or 2\")\n",
    "    \n",
    "    count = 0\n",
    "    for c in combinations(cards, 3):\n",
    "        if is_set(c[0], c[1], c[2]):\n",
    "            count += 1\n",
    "            \n",
    "    return count"
   ]
  },
  {
   "cell_type": "code",
   "execution_count": 68,
   "metadata": {},
   "outputs": [],
   "source": [
    "hand1 = [\"1022\", \"1122\", \"0100\", \"2021\",\n",
    "         \"0010\", \"2201\", \"2111\", \"0020\",\n",
    "         \"1102\", \"0210\", \"2110\", \"1020\"]"
   ]
  },
  {
   "cell_type": "code",
   "execution_count": 69,
   "metadata": {},
   "outputs": [
    {
     "data": {
      "text/plain": [
       "6"
      ]
     },
     "execution_count": 69,
     "metadata": {},
     "output_type": "execute_result"
    }
   ],
   "source": [
    "count_sets(hand1)"
   ]
  },
  {
   "cell_type": "code",
   "execution_count": 41,
   "metadata": {},
   "outputs": [
    {
     "ename": "ValueError",
     "evalue": "one or more cards has a character other than 0, 1, or 2",
     "output_type": "error",
     "traceback": [
      "\u001b[0;31m---------------------------------------------------------------------------\u001b[0m",
      "\u001b[0;31mValueError\u001b[0m                                Traceback (most recent call last)",
      "\u001b[0;32m<ipython-input-41-9a0ecbf9b02a>\u001b[0m in \u001b[0;36m<module>\u001b[0;34m()\u001b[0m\n\u001b[0;32m----> 1\u001b[0;31m \u001b[0mcount_sets\u001b[0m\u001b[0;34m(\u001b[0m\u001b[0mhand1\u001b[0m\u001b[0;34m)\u001b[0m\u001b[0;34m\u001b[0m\u001b[0m\n\u001b[0m",
      "\u001b[0;32m<ipython-input-38-1c324bc7226f>\u001b[0m in \u001b[0;36mcount_sets\u001b[0;34m(cards)\u001b[0m\n\u001b[1;32m     27\u001b[0m     \u001b[0;32mfor\u001b[0m \u001b[0mi\u001b[0m \u001b[0;32min\u001b[0m \u001b[0mset\u001b[0m\u001b[0;34m(\u001b[0m\u001b[0;34m''\u001b[0m\u001b[0;34m.\u001b[0m\u001b[0mjoin\u001b[0m\u001b[0;34m(\u001b[0m\u001b[0mcards\u001b[0m\u001b[0;34m)\u001b[0m\u001b[0;34m)\u001b[0m\u001b[0;34m:\u001b[0m\u001b[0;34m\u001b[0m\u001b[0m\n\u001b[1;32m     28\u001b[0m         \u001b[0;32mif\u001b[0m \u001b[0mi\u001b[0m \u001b[0;32mnot\u001b[0m \u001b[0;32min\u001b[0m \u001b[0;34m[\u001b[0m\u001b[0;36m0\u001b[0m\u001b[0;34m,\u001b[0m \u001b[0;36m1\u001b[0m\u001b[0;34m,\u001b[0m \u001b[0;36m2\u001b[0m\u001b[0;34m]\u001b[0m\u001b[0;34m:\u001b[0m\u001b[0;34m\u001b[0m\u001b[0m\n\u001b[0;32m---> 29\u001b[0;31m             \u001b[0;32mraise\u001b[0m \u001b[0mValueError\u001b[0m\u001b[0;34m(\u001b[0m\u001b[0;34m\"one or more cards has a character other than 0, 1, or 2\"\u001b[0m\u001b[0;34m)\u001b[0m\u001b[0;34m\u001b[0m\u001b[0m\n\u001b[0m\u001b[1;32m     30\u001b[0m \u001b[0;34m\u001b[0m\u001b[0m\n\u001b[1;32m     31\u001b[0m     \u001b[0mcount\u001b[0m \u001b[0;34m=\u001b[0m \u001b[0;36m0\u001b[0m\u001b[0;34m\u001b[0m\u001b[0m\n",
      "\u001b[0;31mValueError\u001b[0m: one or more cards has a character other than 0, 1, or 2"
     ]
    }
   ],
   "source": [
    "count_sets(hand1)"
   ]
  },
  {
   "cell_type": "code",
   "execution_count": 37,
   "metadata": {},
   "outputs": [
    {
     "name": "stdout",
     "output_type": "stream",
     "text": [
      "2\n",
      "1\n",
      "0\n"
     ]
    }
   ],
   "source": [
    "for i in set(''.join(hand1)):\n",
    "    print(i)"
   ]
  },
  {
   "cell_type": "code",
   "execution_count": 66,
   "metadata": {},
   "outputs": [
    {
     "data": {
      "text/plain": [
       "{'0', '1', '2'}"
      ]
     },
     "execution_count": 66,
     "metadata": {},
     "output_type": "execute_result"
    }
   ],
   "source": [
    "set(''.join(hand1))"
   ]
  },
  {
   "cell_type": "code",
   "execution_count": null,
   "metadata": {},
   "outputs": [],
   "source": []
  }
 ],
 "metadata": {
  "kernelspec": {
   "display_name": "Python 3",
   "language": "python",
   "name": "python3"
  },
  "language_info": {
   "codemirror_mode": {
    "name": "ipython",
    "version": 3
   },
   "file_extension": ".py",
   "mimetype": "text/x-python",
   "name": "python",
   "nbconvert_exporter": "python",
   "pygments_lexer": "ipython3",
   "version": "3.6.4"
  }
 },
 "nbformat": 4,
 "nbformat_minor": 2
}
