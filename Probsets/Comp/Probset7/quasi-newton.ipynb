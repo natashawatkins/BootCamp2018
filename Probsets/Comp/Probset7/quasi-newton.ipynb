{
 "cells": [
  {
   "cell_type": "markdown",
   "metadata": {},
   "source": [
    "# Quasi-Newton\n",
    "\n",
    "Natasha Watkins"
   ]
  },
  {
   "cell_type": "code",
   "execution_count": 96,
   "metadata": {},
   "outputs": [],
   "source": [
    "import numpy as np\n",
    "from scipy.linalg import norm\n",
    "from scipy.optimize import rosen, rosen_der, rosen_hess, fmin_bfgs\n",
    "import time\n",
    "import matplotlib.pyplot as plt"
   ]
  },
  {
   "cell_type": "markdown",
   "metadata": {},
   "source": [
    "## Problem 1"
   ]
  },
  {
   "cell_type": "code",
   "execution_count": 82,
   "metadata": {},
   "outputs": [],
   "source": [
    "def newton(f_prime, f_prime2, x0, maxiter=500, tol=1e-5):\n",
    "    \n",
    "    diff = 1e3\n",
    "    i = 0\n",
    "    x = x0\n",
    "    \n",
    "    while diff > tol and i < maxiter:\n",
    "        df_new = f_prime(x)\n",
    "        z = np.linalg.solve(f_prime2(x), df_new.T)\n",
    "        new_x = x - z\n",
    "        diff = norm(df_new, np.inf)\n",
    "        x = new_x\n",
    "        i += 1\n",
    "        \n",
    "    return x, i < maxiter, i"
   ]
  },
  {
   "cell_type": "code",
   "execution_count": 83,
   "metadata": {
    "scrolled": true
   },
   "outputs": [
    {
     "data": {
      "text/plain": [
       "(array([1., 1.]), True, 6)"
      ]
     },
     "execution_count": 83,
     "metadata": {},
     "output_type": "execute_result"
    }
   ],
   "source": [
    "newton(rosen_der, rosen_hess, [-2, 2])"
   ]
  },
  {
   "cell_type": "markdown",
   "metadata": {},
   "source": [
    "## Problem 2"
   ]
  },
  {
   "cell_type": "code",
   "execution_count": 79,
   "metadata": {},
   "outputs": [],
   "source": [
    "def bfgs(f_prime, x0, maxiter=500, tol=1e-5):\n",
    "    \n",
    "    diff = 1e3\n",
    "    i = 0\n",
    "    x = x0\n",
    "    A_inv = np.eye(len(x0))\n",
    "    df = f_prime(x)\n",
    "    \n",
    "    while diff > tol and i < maxiter:\n",
    "                \n",
    "        x_new = x - A_inv @ df\n",
    "        df_new = f_prime(x_new)\n",
    "        s = x_new - x\n",
    "        y = df_new - df\n",
    "        \n",
    "        if (s @ y)**2 == 0:\n",
    "            return False\n",
    "\n",
    "        A_inv_new = A_inv + (s @ y + y @ A_inv @ y) * np.outer(s, s) / (s @ y)**2 - \\\n",
    "                    (A_inv @ np.outer(y, s) + np.outer(s, y) @ A_inv) / (s @ y)\n",
    "        \n",
    "        diff = norm(df_new, np.inf)\n",
    "        i += 1\n",
    "        \n",
    "        x = x_new\n",
    "        df = df_new\n",
    "        A_inv = A_inv_new\n",
    "        \n",
    "    return x, i < maxiter, i"
   ]
  },
  {
   "cell_type": "code",
   "execution_count": 81,
   "metadata": {},
   "outputs": [
    {
     "data": {
      "text/plain": [
       "(array([1.00000002, 1.00000003]), True, 150)"
      ]
     },
     "execution_count": 81,
     "metadata": {},
     "output_type": "execute_result"
    }
   ],
   "source": [
    "bfgs(rosen_der, [-2, 2])"
   ]
  },
  {
   "cell_type": "markdown",
   "metadata": {},
   "source": [
    "## Problem 3"
   ]
  },
  {
   "cell_type": "code",
   "execution_count": 141,
   "metadata": {},
   "outputs": [],
   "source": [
    "def test_methods(N):\n",
    "    \n",
    "    newton_times = np.empty(N)\n",
    "    newton_iters = np.empty(N)\n",
    "    \n",
    "    bfgs_times = np.empty(N)\n",
    "    bfgs_iters = np.empty(N)\n",
    "    \n",
    "    scipy_times = np.empty(N)\n",
    "    scipy_iters = np.empty(N)\n",
    "    \n",
    "    for i in range(N):\n",
    "        \n",
    "        x0 = np.random.uniform(-3, 3, size=2)\n",
    "        \n",
    "        start_newton = time.time()\n",
    "        newton_iters[i] = newton(rosen_der, rosen_hess, x0)[-1]\n",
    "        end_newton = time.time() - start_newton\n",
    "        newton_times[i] = end_newton\n",
    "\n",
    "        start_bfgs = time.time()\n",
    "        bfgs_iters[i] = bfgs(rosen_der, x0)[-1]\n",
    "        end_bfgs = time.time() - start_bfgs\n",
    "        bfgs_times[i] = end_bfgs\n",
    "        \n",
    "        start_scipy = time.time()\n",
    "        scipy_iters[i] = len(fmin_bfgs(rosen, x0, rosen_der, disp=False, retall=True)[-1])\n",
    "        end_scipy = time.time() - start_scipy\n",
    "        scipy_times[i] = end_scipy\n",
    "      \n",
    "    plt.figure(figsize=(10, 6))\n",
    "    plt.scatter(newton_times, newton_iters, alpha=0.4, label='Newton\\'s Method')\n",
    "    plt.scatter(bfgs_times, bfgs_iters, alpha=0.4, label='BFGS')\n",
    "    plt.scatter(scipy_times, scipy_iters, alpha=0.4, label='scipy.optimize.fmin_bfgs()')\n",
    "    plt.loglog()\n",
    "    plt.xlabel('Time (seconds)')\n",
    "    plt.ylabel('Iterations')\n",
    "    plt.legend()\n",
    "    plt.show()"
   ]
  },
  {
   "cell_type": "code",
   "execution_count": 142,
   "metadata": {},
   "outputs": [
    {
     "data": {
      "image/png": "[encoded data removed]",
      "text/plain": [
       "<matplotlib.figure.Figure at 0x10650aef0>"
      ]
     },
     "metadata": {},
     "output_type": "display_data"
    }
   ],
   "source": [
    "test_methods(100)"
   ]
  },
  {
   "cell_type": "code",
   "execution_count": null,
   "metadata": {},
   "outputs": [],
   "source": []
  }
 ],
 "metadata": {
  "kernelspec": {
   "display_name": "Python 3",
   "language": "python",
   "name": "python3"
  },
  "language_info": {
   "codemirror_mode": {
    "name": "ipython",
    "version": 3
   },
   "file_extension": ".py",
   "mimetype": "text/x-python",
   "name": "python",
   "nbconvert_exporter": "python",
   "pygments_lexer": "ipython3",
   "version": "3.6.4"
  }
 },
 "nbformat": 4,
 "nbformat_minor": 2
}
