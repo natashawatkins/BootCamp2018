{
 "cells": [
  {
   "cell_type": "markdown",
   "metadata": {},
   "source": [
    "# QR Decomposition"
   ]
  },
  {
   "cell_type": "code",
   "execution_count": 46,
   "metadata": {},
   "outputs": [],
   "source": [
    "from scipy.linalg import norm\n",
    "import numpy as np\n",
    "import scipy"
   ]
  },
  {
   "cell_type": "markdown",
   "metadata": {},
   "source": [
    "### Problem 1"
   ]
  },
  {
   "cell_type": "code",
   "execution_count": 343,
   "metadata": {},
   "outputs": [],
   "source": [
    "def qr(A):\n",
    "    m, n = A.shape\n",
    "    Q = A.copy()\n",
    "    R = np.zeros((n, n))\n",
    "    \n",
    "    for i in range(n):\n",
    "        R[i, i] = norm(Q[:, i])\n",
    "        Q[:, i] = Q[:, i] / R[i, i]\n",
    "        for j in range(i + 1, n):\n",
    "            R[i, j] = Q[:, j].T @ Q[:, i]\n",
    "            Q[:, j] = Q[:, j] - R[i, j] * Q[:, i]\n",
    "            \n",
    "    return Q, R"
   ]
  },
  {
   "cell_type": "code",
   "execution_count": 344,
   "metadata": {},
   "outputs": [],
   "source": [
    "A = np.random.random((5, 5))"
   ]
  },
  {
   "cell_type": "code",
   "execution_count": 345,
   "metadata": {},
   "outputs": [
    {
     "data": {
      "text/plain": [
       "(array([[ 0.43369346,  0.44976826, -0.18146159, -0.4148924 , -0.63604598],\n",
       "        [ 0.61686085, -0.56233206, -0.14735674,  0.47182441, -0.24276133],\n",
       "        [ 0.29907386, -0.33835564,  0.71892615, -0.51919787,  0.09822957],\n",
       "        [ 0.18303336,  0.53814944,  0.59300856,  0.56921039, -0.03513335],\n",
       "        [ 0.55537941,  0.2782118 , -0.27720701, -0.10807002,  0.72500279]]),\n",
       " array([[ 1.57317576,  1.47130205,  0.86631324,  1.58320899,  1.02602758],\n",
       "        [ 0.        ,  0.38137068,  0.52399991,  0.58511649, -0.21251561],\n",
       "        [ 0.        ,  0.        ,  0.82195849,  0.10016413, -0.00426562],\n",
       "        [ 0.        ,  0.        ,  0.        ,  0.23293437, -0.07683629],\n",
       "        [ 0.        ,  0.        ,  0.        ,  0.        ,  0.10241293]]))"
      ]
     },
     "execution_count": 345,
     "metadata": {},
     "output_type": "execute_result"
    }
   ],
   "source": [
    "Q, R = mod_gramschmidt(A)\n",
    "Q, R"
   ]
  },
  {
   "cell_type": "code",
   "execution_count": 346,
   "metadata": {},
   "outputs": [
    {
     "data": {
      "text/plain": [
       "(array([[-0.43369346,  0.44976826,  0.18146159,  0.4148924 , -0.63604598],\n",
       "        [-0.61686085, -0.56233206,  0.14735674, -0.47182441, -0.24276133],\n",
       "        [-0.29907386, -0.33835564, -0.71892615,  0.51919787,  0.09822957],\n",
       "        [-0.18303336,  0.53814944, -0.59300856, -0.56921039, -0.03513335],\n",
       "        [-0.55537941,  0.2782118 ,  0.27720701,  0.10807002,  0.72500279]]),\n",
       " array([[-1.57317576, -1.47130205, -0.86631324, -1.58320899, -1.02602758],\n",
       "        [ 0.        ,  0.38137068,  0.52399991,  0.58511649, -0.21251561],\n",
       "        [ 0.        ,  0.        , -0.82195849, -0.10016413,  0.00426562],\n",
       "        [ 0.        ,  0.        ,  0.        , -0.23293437,  0.07683629],\n",
       "        [ 0.        ,  0.        ,  0.        ,  0.        ,  0.10241293]]))"
      ]
     },
     "execution_count": 346,
     "metadata": {},
     "output_type": "execute_result"
    }
   ],
   "source": [
    "scipy.linalg.qr(A, mode=\"economic\")"
   ]
  },
  {
   "cell_type": "code",
   "execution_count": 347,
   "metadata": {},
   "outputs": [
    {
     "data": {
      "text/plain": [
       "array([[ 1.00000000e+00, -1.79808232e-16,  3.20037482e-17,\n",
       "        -6.15927329e-16, -2.35061940e-15],\n",
       "       [-1.79808232e-16,  1.00000000e+00, -2.15726985e-16,\n",
       "         2.52936837e-16,  3.92889835e-16],\n",
       "       [ 3.20037482e-17, -2.15726985e-16,  1.00000000e+00,\n",
       "        -6.84033849e-17,  1.14161779e-17],\n",
       "       [-6.15927329e-16,  2.52936837e-16, -6.84033849e-17,\n",
       "         1.00000000e+00,  7.39904686e-17],\n",
       "       [-2.35061940e-15,  3.92889835e-16,  1.14161779e-17,\n",
       "         7.39904686e-17,  1.00000000e+00]])"
      ]
     },
     "execution_count": 347,
     "metadata": {},
     "output_type": "execute_result"
    }
   ],
   "source": [
    "Q.T @ Q"
   ]
  },
  {
   "cell_type": "code",
   "execution_count": 348,
   "metadata": {},
   "outputs": [
    {
     "data": {
      "text/plain": [
       "array([[0.68227603, 0.8096225 , 0.46223902, 0.83497556, 0.31691218],\n",
       "       [0.97043054, 0.69313168, 0.11861166, 0.74273415, 0.69193402],\n",
       "       [0.47049575, 0.31098907, 0.67272077, 0.22659055, 0.42565044],\n",
       "       [0.28794365, 0.47453177, 0.9279829 , 0.79664703, 0.02356844],\n",
       "       [0.87370942, 0.92323269, 0.39906284, 0.98912857, 0.59444606]])"
      ]
     },
     "execution_count": 348,
     "metadata": {},
     "output_type": "execute_result"
    }
   ],
   "source": [
    "Q @ R"
   ]
  },
  {
   "cell_type": "code",
   "execution_count": 349,
   "metadata": {},
   "outputs": [
    {
     "data": {
      "text/plain": [
       "array([[0.68227603, 0.8096225 , 0.46223902, 0.83497556, 0.31691218],\n",
       "       [0.97043054, 0.69313168, 0.11861166, 0.74273415, 0.69193402],\n",
       "       [0.47049575, 0.31098907, 0.67272077, 0.22659055, 0.42565044],\n",
       "       [0.28794365, 0.47453177, 0.9279829 , 0.79664703, 0.02356844],\n",
       "       [0.87370942, 0.92323269, 0.39906284, 0.98912857, 0.59444606]])"
      ]
     },
     "execution_count": 349,
     "metadata": {},
     "output_type": "execute_result"
    }
   ],
   "source": [
    "A"
   ]
  },
  {
   "cell_type": "markdown",
   "metadata": {},
   "source": [
    "### Problem 2"
   ]
  },
  {
   "cell_type": "code",
   "execution_count": 350,
   "metadata": {},
   "outputs": [],
   "source": [
    "def det(A):\n",
    "    return np.diag(qr(A)[1]).prod()"
   ]
  },
  {
   "cell_type": "code",
   "execution_count": 351,
   "metadata": {},
   "outputs": [
    {
     "data": {
      "text/plain": [
       "0.011764211199421207"
      ]
     },
     "execution_count": 351,
     "metadata": {},
     "output_type": "execute_result"
    }
   ],
   "source": [
    "det(A)"
   ]
  },
  {
   "cell_type": "code",
   "execution_count": 352,
   "metadata": {},
   "outputs": [
    {
     "data": {
      "text/plain": [
       "-0.01176421119942121"
      ]
     },
     "execution_count": 352,
     "metadata": {},
     "output_type": "execute_result"
    }
   ],
   "source": [
    "scipy.linalg.det(A)"
   ]
  },
  {
   "cell_type": "markdown",
   "metadata": {},
   "source": [
    "### Problem 3"
   ]
  },
  {
   "cell_type": "code",
   "execution_count": 353,
   "metadata": {},
   "outputs": [],
   "source": [
    "def solve(A, b):\n",
    "    Q, R = qr(A)\n",
    "    n = R.shape[0]\n",
    "    y = Q.T @ b\n",
    "    x = np.zeros(n)\n",
    "    \n",
    "    for i in range(n-1, -1, -1):\n",
    "        subtract = 0\n",
    "        for j in range(i+1, n):\n",
    "            subtract += R[i, j] * x[j]\n",
    "        x[i] = (y[i] - subtract) / R[i, i]\n",
    "        \n",
    "    return x"
   ]
  },
  {
   "cell_type": "code",
   "execution_count": 354,
   "metadata": {},
   "outputs": [
    {
     "data": {
      "text/plain": [
       "array([[0.68227603, 0.8096225 , 0.46223902, 0.83497556, 0.31691218],\n",
       "       [0.97043054, 0.69313168, 0.11861166, 0.74273415, 0.69193402],\n",
       "       [0.47049575, 0.31098907, 0.67272077, 0.22659055, 0.42565044],\n",
       "       [0.28794365, 0.47453177, 0.9279829 , 0.79664703, 0.02356844],\n",
       "       [0.87370942, 0.92323269, 0.39906284, 0.98912857, 0.59444606]])"
      ]
     },
     "execution_count": 354,
     "metadata": {},
     "output_type": "execute_result"
    }
   ],
   "source": [
    "A"
   ]
  },
  {
   "cell_type": "code",
   "execution_count": 355,
   "metadata": {},
   "outputs": [],
   "source": [
    "b = np.ones(5)"
   ]
  },
  {
   "cell_type": "code",
   "execution_count": 356,
   "metadata": {},
   "outputs": [
    {
     "data": {
      "text/plain": [
       "array([ 1.99694801, -0.30307408,  0.89040931, -0.29699474, -0.88571144])"
      ]
     },
     "execution_count": 356,
     "metadata": {},
     "output_type": "execute_result"
    }
   ],
   "source": [
    "solve(A, b)"
   ]
  },
  {
   "cell_type": "code",
   "execution_count": 357,
   "metadata": {},
   "outputs": [
    {
     "data": {
      "text/plain": [
       "array([ 1.99694801, -0.30307408,  0.89040931, -0.29699474, -0.88571144])"
      ]
     },
     "execution_count": 357,
     "metadata": {},
     "output_type": "execute_result"
    }
   ],
   "source": [
    "scipy.linalg.solve(A, b)"
   ]
  },
  {
   "cell_type": "markdown",
   "metadata": {},
   "source": [
    "### Problem 4"
   ]
  },
  {
   "cell_type": "code",
   "execution_count": 372,
   "metadata": {},
   "outputs": [],
   "source": [
    "sign = lambda x: 1 if x >= 0 else -1\n",
    "\n",
    "def householder(A):\n",
    "    m, n = A.shape\n",
    "    R = A.copy()\n",
    "    Q = np.eye(m)\n",
    "    \n",
    "    for k in range(n-1):\n",
    "        u = R[k:, k].copy()\n",
    "        u[0] = u[0] + sign(u[0]) * norm(u)\n",
    "        u = u / norm(u)\n",
    "        R[k:, k:] = R[k:, k:] - 2 * np.outer(u, u.T @ R[k:, k:])\n",
    "        Q[k:, :] = Q[k:, :] - 2 * np.outer(u, u.T @ Q[k:, :])\n",
    "        \n",
    "    return Q.T, R"
   ]
  },
  {
   "cell_type": "code",
   "execution_count": 373,
   "metadata": {},
   "outputs": [
    {
     "data": {
      "text/plain": [
       "(array([[-0.43369346,  0.44976826,  0.18146159,  0.4148924 , -0.63604598],\n",
       "        [-0.61686085, -0.56233206,  0.14735674, -0.47182441, -0.24276133],\n",
       "        [-0.29907386, -0.33835564, -0.71892615,  0.51919787,  0.09822957],\n",
       "        [-0.18303336,  0.53814944, -0.59300856, -0.56921039, -0.03513335],\n",
       "        [-0.55537941,  0.2782118 ,  0.27720701,  0.10807002,  0.72500279]]),\n",
       " array([[-1.57317576e+00, -1.47130205e+00, -8.66313237e-01,\n",
       "         -1.58320899e+00, -1.02602758e+00],\n",
       "        [ 1.11022302e-16,  3.81370675e-01,  5.23999907e-01,\n",
       "          5.85116494e-01, -2.12515610e-01],\n",
       "        [ 5.55111512e-17,  0.00000000e+00, -8.21958487e-01,\n",
       "         -1.00164134e-01,  4.26562231e-03],\n",
       "        [ 5.55111512e-17,  0.00000000e+00,  1.66533454e-16,\n",
       "         -2.32934375e-01,  7.68362949e-02],\n",
       "        [ 1.11022302e-16,  0.00000000e+00, -5.55111512e-17,\n",
       "          0.00000000e+00,  1.02412933e-01]]))"
      ]
     },
     "execution_count": 373,
     "metadata": {},
     "output_type": "execute_result"
    }
   ],
   "source": [
    "householder(A)"
   ]
  },
  {
   "cell_type": "code",
   "execution_count": 374,
   "metadata": {},
   "outputs": [
    {
     "data": {
      "text/plain": [
       "(array([[-0.43369346,  0.44976826,  0.18146159,  0.4148924 , -0.63604598],\n",
       "        [-0.61686085, -0.56233206,  0.14735674, -0.47182441, -0.24276133],\n",
       "        [-0.29907386, -0.33835564, -0.71892615,  0.51919787,  0.09822957],\n",
       "        [-0.18303336,  0.53814944, -0.59300856, -0.56921039, -0.03513335],\n",
       "        [-0.55537941,  0.2782118 ,  0.27720701,  0.10807002,  0.72500279]]),\n",
       " array([[-1.57317576, -1.47130205, -0.86631324, -1.58320899, -1.02602758],\n",
       "        [ 0.        ,  0.38137068,  0.52399991,  0.58511649, -0.21251561],\n",
       "        [ 0.        ,  0.        , -0.82195849, -0.10016413,  0.00426562],\n",
       "        [ 0.        ,  0.        ,  0.        , -0.23293437,  0.07683629],\n",
       "        [ 0.        ,  0.        ,  0.        ,  0.        ,  0.10241293]]))"
      ]
     },
     "execution_count": 374,
     "metadata": {},
     "output_type": "execute_result"
    }
   ],
   "source": [
    "scipy.linalg.qr(A)"
   ]
  },
  {
   "cell_type": "markdown",
   "metadata": {},
   "source": [
    "### Problem 5"
   ]
  },
  {
   "cell_type": "code",
   "execution_count": 378,
   "metadata": {},
   "outputs": [],
   "source": [
    "def hessenberg(A):\n",
    "    m, n = A.shape\n",
    "    H = A.copy()\n",
    "    Q = np.eye(m)\n",
    "    \n",
    "    for k in range(n-3):\n",
    "        u = H[k+1:, k].copy()\n",
    "        u[0] = u[0] + sign(u[0]) * norm(u)\n",
    "        u = u / norm(u)\n",
    "        H[k+1:, k:] = H[k+1:, k:] - 2 * np.outer(u, u.T @ H[k+1:, k:])\n",
    "        H[:, k+1:] = H[:, k+1:] - 2 * np.outer(H[:, k+1:] @ u, u)\n",
    "        Q[k+1:, :] = Q[k+1:, :] - 2 * np.outer(u, u.T @ Q[k+1:, :])\n",
    "        \n",
    "    return H, Q.T"
   ]
  },
  {
   "cell_type": "code",
   "execution_count": 379,
   "metadata": {},
   "outputs": [
    {
     "data": {
      "text/plain": [
       "(array([[ 6.82276031e-01, -1.07262824e+00, -3.99986658e-01,\n",
       "          2.73649058e-01, -5.30439957e-01],\n",
       "        [-1.41752650e+00,  1.97944227e+00,  7.88512967e-01,\n",
       "         -3.59242906e-01,  4.81151235e-01],\n",
       "        [ 5.55111512e-17,  5.05518162e-01,  3.90825040e-01,\n",
       "          3.49312742e-01,  7.87654644e-01],\n",
       "        [ 0.00000000e+00, -5.55111512e-17, -1.53036553e-01,\n",
       "          3.04052315e-01, -1.89669749e-01],\n",
       "        [ 0.00000000e+00,  0.00000000e+00,  4.77079363e-02,\n",
       "          3.99296431e-01,  8.26259217e-02]]),\n",
       " array([[ 1.        ,  0.        ,  0.        ,  0.        ,  0.        ],\n",
       "        [ 0.        , -0.68459428,  0.52199494,  0.37792816, -0.34062039],\n",
       "        [ 0.        , -0.33191319, -0.17321939, -0.79386339, -0.47917596],\n",
       "        [ 0.        , -0.20313105, -0.80538305,  0.45470102, -0.32146991],\n",
       "        [ 0.        , -0.61636197, -0.22107569, -0.14212042,  0.74231075]]))"
      ]
     },
     "execution_count": 379,
     "metadata": {},
     "output_type": "execute_result"
    }
   ],
   "source": [
    "hessenberg(A)"
   ]
  },
  {
   "cell_type": "code",
   "execution_count": 381,
   "metadata": {},
   "outputs": [
    {
     "data": {
      "text/plain": [
       "(array([[ 0.68227603, -1.07262824, -0.39998666, -0.41911614, -0.4249612 ],\n",
       "        [-1.4175265 ,  1.97944227,  0.78851297,  0.48616226,  0.35243188],\n",
       "        [ 0.        ,  0.50551816,  0.39082504, -0.09906548,  0.85592363],\n",
       "        [ 0.        ,  0.        ,  0.16030045,  0.22487832,  0.14532369],\n",
       "        [ 0.        ,  0.        ,  0.        , -0.44364249,  0.16179992]]),\n",
       " array([[ 1.        ,  0.        ,  0.        ,  0.        ,  0.        ],\n",
       "        [ 0.        , -0.68459428,  0.52199494, -0.46217662, -0.21270806],\n",
       "        [ 0.        , -0.33191319, -0.17321939,  0.61527975, -0.69372869],\n",
       "        [ 0.        , -0.20313105, -0.80538305, -0.52977108, -0.17157656],\n",
       "        [ 0.        , -0.61636197, -0.22107569,  0.3566037 ,  0.66637622]]))"
      ]
     },
     "execution_count": 381,
     "metadata": {},
     "output_type": "execute_result"
    }
   ],
   "source": [
    "scipy.linalg.hessenberg(A, calc_q=True)"
   ]
  }
 ],
 "metadata": {
  "kernelspec": {
   "display_name": "Python 3",
   "language": "python",
   "name": "python3"
  },
  "language_info": {
   "codemirror_mode": {
    "name": "ipython",
    "version": 3
   },
   "file_extension": ".py",
   "mimetype": "text/x-python",
   "name": "python",
   "nbconvert_exporter": "python",
   "pygments_lexer": "ipython3",
   "version": "3.6.4"
  }
 },
 "nbformat": 4,
 "nbformat_minor": 2
}
