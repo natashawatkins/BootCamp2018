{
 "cells": [
  {
   "cell_type": "markdown",
   "metadata": {},
   "source": [
    "# QR Decomposition"
   ]
  },
  {
   "cell_type": "code",
   "execution_count": 1,
   "metadata": {},
   "outputs": [],
   "source": [
    "from scipy.linalg import norm\n",
    "import numpy as np\n",
    "import scipy"
   ]
  },
  {
   "cell_type": "markdown",
   "metadata": {},
   "source": [
    "### Problem 1"
   ]
  },
  {
   "cell_type": "code",
   "execution_count": 2,
   "metadata": {},
   "outputs": [],
   "source": [
    "def qr(A):\n",
    "    m, n = A.shape\n",
    "    Q = A.copy()\n",
    "    R = np.zeros((n, n))\n",
    "    \n",
    "    for i in range(n):\n",
    "        R[i, i] = norm(Q[:, i])\n",
    "        Q[:, i] = Q[:, i] / R[i, i]\n",
    "        for j in range(i + 1, n):\n",
    "            R[i, j] = Q[:, j].T @ Q[:, i]\n",
    "            Q[:, j] = Q[:, j] - R[i, j] * Q[:, i]\n",
    "            \n",
    "    return Q, R"
   ]
  },
  {
   "cell_type": "code",
   "execution_count": 3,
   "metadata": {},
   "outputs": [],
   "source": [
    "A = np.random.random((2, 2))"
   ]
  },
  {
   "cell_type": "code",
   "execution_count": 4,
   "metadata": {},
   "outputs": [
    {
     "data": {
      "text/plain": [
       "(array([[ 0.87080802,  0.49162323],\n",
       "        [ 0.49162323, -0.87080802]]), array([[1.10386976, 0.83548982],\n",
       "        [0.        , 0.22606326]]))"
      ]
     },
     "execution_count": 4,
     "metadata": {},
     "output_type": "execute_result"
    }
   ],
   "source": [
    "Q, R = qr(A)\n",
    "Q, R"
   ]
  },
  {
   "cell_type": "code",
   "execution_count": 5,
   "metadata": {},
   "outputs": [
    {
     "data": {
      "text/plain": [
       "(array([[-0.87080802, -0.49162323],\n",
       "        [-0.49162323,  0.87080802]]), array([[-1.10386976, -0.83548982],\n",
       "        [ 0.        , -0.22606326]]))"
      ]
     },
     "execution_count": 5,
     "metadata": {},
     "output_type": "execute_result"
    }
   ],
   "source": [
    "scipy.linalg.qr(A, mode=\"economic\")"
   ]
  },
  {
   "cell_type": "code",
   "execution_count": 6,
   "metadata": {},
   "outputs": [
    {
     "data": {
      "text/plain": [
       "array([[1.00000000e+00, 5.55111512e-17],\n",
       "       [5.55111512e-17, 1.00000000e+00]])"
      ]
     },
     "execution_count": 6,
     "metadata": {},
     "output_type": "execute_result"
    }
   ],
   "source": [
    "Q.T @ Q"
   ]
  },
  {
   "cell_type": "code",
   "execution_count": 7,
   "metadata": {},
   "outputs": [
    {
     "data": {
      "text/plain": [
       "array([[0.96125863, 0.83868918],\n",
       "       [0.54268801, 0.21388851]])"
      ]
     },
     "execution_count": 7,
     "metadata": {},
     "output_type": "execute_result"
    }
   ],
   "source": [
    "Q @ R"
   ]
  },
  {
   "cell_type": "code",
   "execution_count": 8,
   "metadata": {},
   "outputs": [
    {
     "data": {
      "text/plain": [
       "array([[0.96125863, 0.83868918],\n",
       "       [0.54268801, 0.21388851]])"
      ]
     },
     "execution_count": 8,
     "metadata": {},
     "output_type": "execute_result"
    }
   ],
   "source": [
    "A"
   ]
  },
  {
   "cell_type": "markdown",
   "metadata": {},
   "source": [
    "### Problem 2"
   ]
  },
  {
   "cell_type": "code",
   "execution_count": 9,
   "metadata": {},
   "outputs": [],
   "source": [
    "def det(A):\n",
    "    return np.diag(qr(A)[1]).prod()"
   ]
  },
  {
   "cell_type": "code",
   "execution_count": 10,
   "metadata": {},
   "outputs": [
    {
     "data": {
      "text/plain": [
       "0.24954439044260504"
      ]
     },
     "execution_count": 10,
     "metadata": {},
     "output_type": "execute_result"
    }
   ],
   "source": [
    "det(A)"
   ]
  },
  {
   "cell_type": "code",
   "execution_count": 11,
   "metadata": {},
   "outputs": [
    {
     "data": {
      "text/plain": [
       "-0.24954439044260507"
      ]
     },
     "execution_count": 11,
     "metadata": {},
     "output_type": "execute_result"
    }
   ],
   "source": [
    "scipy.linalg.det(A)"
   ]
  },
  {
   "cell_type": "markdown",
   "metadata": {},
   "source": [
    "### Problem 3"
   ]
  },
  {
   "cell_type": "code",
   "execution_count": 12,
   "metadata": {},
   "outputs": [],
   "source": [
    "def solve(A, b):\n",
    "    Q, R = qr(A)\n",
    "    n = R.shape[0]\n",
    "    y = Q.T @ b\n",
    "    x = np.zeros(n)\n",
    "    \n",
    "    for i in range(n-1, -1, -1):\n",
    "        subtract = 0\n",
    "        for j in range(i+1, n):\n",
    "            subtract += R[i, j] * x[j]\n",
    "        x[i] = (y[i] - subtract) / R[i, i]\n",
    "        \n",
    "    return x"
   ]
  },
  {
   "cell_type": "code",
   "execution_count": 13,
   "metadata": {},
   "outputs": [
    {
     "data": {
      "text/plain": [
       "array([[0.642974  , 0.18609705, 0.8995896 , 0.7174954 , 0.70776199],\n",
       "       [0.93310894, 0.46324289, 0.54797567, 0.64315527, 0.34475892],\n",
       "       [0.98534642, 0.92138874, 0.01797173, 0.91513226, 0.55118233],\n",
       "       [0.43040781, 0.96051496, 0.49174523, 0.07294928, 0.626172  ],\n",
       "       [0.34021046, 0.05405226, 0.3617909 , 0.76732786, 0.50948027]])"
      ]
     },
     "execution_count": 13,
     "metadata": {},
     "output_type": "execute_result"
    }
   ],
   "source": [
    "A = np.random.random((5, 5))\n",
    "A"
   ]
  },
  {
   "cell_type": "code",
   "execution_count": 14,
   "metadata": {},
   "outputs": [],
   "source": [
    "b = np.ones(5)"
   ]
  },
  {
   "cell_type": "code",
   "execution_count": 15,
   "metadata": {},
   "outputs": [
    {
     "data": {
      "text/plain": [
       "array([-3.63628708,  3.44212966,  3.0531623 ,  3.91404991, -4.03728655])"
      ]
     },
     "execution_count": 15,
     "metadata": {},
     "output_type": "execute_result"
    }
   ],
   "source": [
    "solve(A, b)"
   ]
  },
  {
   "cell_type": "code",
   "execution_count": 16,
   "metadata": {},
   "outputs": [
    {
     "data": {
      "text/plain": [
       "array([-3.63628708,  3.44212966,  3.0531623 ,  3.91404991, -4.03728655])"
      ]
     },
     "execution_count": 16,
     "metadata": {},
     "output_type": "execute_result"
    }
   ],
   "source": [
    "scipy.linalg.solve(A, b)"
   ]
  },
  {
   "cell_type": "markdown",
   "metadata": {},
   "source": [
    "### Problem 4"
   ]
  },
  {
   "cell_type": "code",
   "execution_count": 17,
   "metadata": {},
   "outputs": [],
   "source": [
    "sign = lambda x: 1 if x >= 0 else -1\n",
    "\n",
    "def householder(A):\n",
    "    m, n = A.shape\n",
    "    R = A.copy()\n",
    "    Q = np.eye(m)\n",
    "    \n",
    "    for k in range(n-1):\n",
    "        u = R[k:, k].copy()\n",
    "        u[0] = u[0] + sign(u[0]) * norm(u)\n",
    "        u = u / norm(u)\n",
    "        R[k:, k:] = R[k:, k:] - 2 * np.outer(u, u.T @ R[k:, k:])\n",
    "        Q[k:, :] = Q[k:, :] - 2 * np.outer(u, u.T @ Q[k:, :])\n",
    "        \n",
    "    return Q.T, R"
   ]
  },
  {
   "cell_type": "code",
   "execution_count": 18,
   "metadata": {},
   "outputs": [
    {
     "data": {
      "text/plain": [
       "(array([[-0.40217233, -0.3668522 ,  0.59181099,  0.04892362, -0.59248892],\n",
       "        [-0.58364816, -0.28780947, -0.03586012, -0.57822139,  0.49081016],\n",
       "        [-0.61632206,  0.24331641, -0.62023024,  0.25897384, -0.33044098],\n",
       "        [-0.26921479,  0.8128406 ,  0.48870946, -0.02246855,  0.16574615],\n",
       "        [-0.21279746, -0.25034467,  0.15795987,  0.7718123 ,  0.52095993]]),\n",
       " array([[-1.59875247e+00, -1.18317317e+00, -9.02064679e-01,\n",
       "         -1.41087383e+00, -1.10255690e+00],\n",
       "        [ 2.22044605e-16,  7.89807062e-01, -1.74218126e-01,\n",
       "         -3.58454548e-01,  1.56675139e-01],\n",
       "        [ 1.11022302e-16,  0.00000000e+00,  7.99058912e-01,\n",
       "         -9.17665571e-03,  4.51131890e-01],\n",
       "        [ 5.55111512e-17,  0.00000000e+00,  0.00000000e+00,\n",
       "          4.90805673e-01,  3.57175062e-01],\n",
       "        [ 5.55111512e-17,  0.00000000e+00,  0.00000000e+00,\n",
       "          0.00000000e+00, -6.30587748e-02]]))"
      ]
     },
     "execution_count": 18,
     "metadata": {},
     "output_type": "execute_result"
    }
   ],
   "source": [
    "householder(A)"
   ]
  },
  {
   "cell_type": "code",
   "execution_count": 19,
   "metadata": {},
   "outputs": [
    {
     "data": {
      "text/plain": [
       "(array([[-0.40217233, -0.3668522 ,  0.59181099,  0.04892362, -0.59248892],\n",
       "        [-0.58364816, -0.28780947, -0.03586012, -0.57822139,  0.49081016],\n",
       "        [-0.61632206,  0.24331641, -0.62023024,  0.25897384, -0.33044098],\n",
       "        [-0.26921479,  0.8128406 ,  0.48870946, -0.02246855,  0.16574615],\n",
       "        [-0.21279746, -0.25034467,  0.15795987,  0.7718123 ,  0.52095993]]),\n",
       " array([[-1.59875247, -1.18317317, -0.90206468, -1.41087383, -1.1025569 ],\n",
       "        [ 0.        ,  0.78980706, -0.17421813, -0.35845455,  0.15667514],\n",
       "        [ 0.        ,  0.        ,  0.79905891, -0.00917666,  0.45113189],\n",
       "        [ 0.        ,  0.        ,  0.        ,  0.49080567,  0.35717506],\n",
       "        [ 0.        ,  0.        ,  0.        ,  0.        , -0.06305877]]))"
      ]
     },
     "execution_count": 19,
     "metadata": {},
     "output_type": "execute_result"
    }
   ],
   "source": [
    "scipy.linalg.qr(A)"
   ]
  },
  {
   "cell_type": "markdown",
   "metadata": {},
   "source": [
    "### Problem 5"
   ]
  },
  {
   "cell_type": "code",
   "execution_count": 20,
   "metadata": {},
   "outputs": [],
   "source": [
    "def hessenberg(A):\n",
    "    m, n = A.shape\n",
    "    H = A.copy()\n",
    "    Q = np.eye(m)\n",
    "    \n",
    "    for k in range(n-3):\n",
    "        u = H[k+1:, k].copy()\n",
    "        u[0] = u[0] + sign(u[0]) * norm(u)\n",
    "        u = u / norm(u)\n",
    "        H[k+1:, k:] = H[k+1:, k:] - 2 * np.outer(u, u.T @ H[k+1:, k:])\n",
    "        H[:, k+1:] = H[:, k+1:] - 2 * np.outer(H[:, k+1:] @ u, u)\n",
    "        Q[k+1:, :] = Q[k+1:, :] - 2 * np.outer(u, u.T @ Q[k+1:, :])\n",
    "        \n",
    "    return H, Q.T"
   ]
  },
  {
   "cell_type": "code",
   "execution_count": 21,
   "metadata": {},
   "outputs": [
    {
     "data": {
      "text/plain": [
       "(array([[ 6.42974004e-01, -1.09967457e+00,  5.80917903e-01,\n",
       "          3.17864090e-01,  4.60253057e-01],\n",
       "        [-1.46376019e+00,  1.73699923e+00, -9.03668552e-01,\n",
       "          5.29665379e-01, -2.59297001e-03],\n",
       "        [ 0.00000000e+00, -6.83497773e-01, -1.51496876e-01,\n",
       "         -2.48264921e-01,  3.35670320e-01],\n",
       "        [ 0.00000000e+00,  0.00000000e+00, -6.20858257e-02,\n",
       "         -5.69500950e-01, -1.74279408e-01],\n",
       "        [-5.55111512e-17,  0.00000000e+00,  6.50890343e-01,\n",
       "          1.36625560e-01,  4.76427650e-02]]),\n",
       " array([[ 1.        ,  0.        ,  0.        ,  0.        ,  0.        ],\n",
       "        [ 0.        , -0.63747392, -0.25437663, -0.6307057 , -0.36211857],\n",
       "        [ 0.        , -0.6731611 , -0.25256301,  0.66359362,  0.20666294],\n",
       "        [ 0.        , -0.29404257,  0.8771964 ,  0.14483935, -0.35083757],\n",
       "        [ 0.        , -0.23242227,  0.31942281, -0.3753337 ,  0.83849482]]))"
      ]
     },
     "execution_count": 21,
     "metadata": {},
     "output_type": "execute_result"
    }
   ],
   "source": [
    "hessenberg(A)"
   ]
  },
  {
   "cell_type": "code",
   "execution_count": 22,
   "metadata": {},
   "outputs": [
    {
     "data": {
      "text/plain": [
       "(array([[ 0.642974  , -1.09967457,  0.5809179 ,  0.42799065,  0.36013117],\n",
       "        [-1.46376019,  1.73699923, -0.90366855, -0.05287563,  0.52702591],\n",
       "        [ 0.        , -0.68349777, -0.15149688,  0.35772761, -0.21526958],\n",
       "        [ 0.        ,  0.        ,  0.6538447 ,  0.04563758,  0.19530116],\n",
       "        [ 0.        ,  0.        ,  0.        , -0.1156038 , -0.56749577]]),\n",
       " array([[ 1.        ,  0.        ,  0.        ,  0.        ,  0.        ],\n",
       "        [ 0.        , -0.63747392, -0.25437663, -0.30059369, -0.66224087],\n",
       "        [ 0.        , -0.6731611 , -0.25256301,  0.14271762,  0.68021889],\n",
       "        [ 0.        , -0.29404257,  0.8771964 , -0.36300556,  0.11087112],\n",
       "        [ 0.        , -0.23242227,  0.31942281,  0.87034595, -0.2940185 ]]))"
      ]
     },
     "execution_count": 22,
     "metadata": {},
     "output_type": "execute_result"
    }
   ],
   "source": [
    "scipy.linalg.hessenberg(A, calc_q=True)"
   ]
  },
  {
   "cell_type": "code",
   "execution_count": null,
   "metadata": {},
   "outputs": [],
   "source": []
  },
  {
   "cell_type": "code",
   "execution_count": null,
   "metadata": {},
   "outputs": [],
   "source": []
  }
 ],
 "metadata": {
  "kernelspec": {
   "display_name": "Python 3",
   "language": "python",
   "name": "python3"
  },
  "language_info": {
   "codemirror_mode": {
    "name": "ipython",
    "version": 3
   },
   "file_extension": ".py",
   "mimetype": "text/x-python",
   "name": "python",
   "nbconvert_exporter": "python",
   "pygments_lexer": "ipython3",
   "version": "3.6.4"
  }
 },
 "nbformat": 4,
 "nbformat_minor": 2
}
