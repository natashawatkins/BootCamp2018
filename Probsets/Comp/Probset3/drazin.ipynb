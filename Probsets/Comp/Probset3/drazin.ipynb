{
 "cells": [
  {
   "cell_type": "markdown",
   "metadata": {},
   "source": [
    "# Drazin Inverse"
   ]
  },
  {
   "cell_type": "code",
   "execution_count": 1,
   "metadata": {},
   "outputs": [],
   "source": [
    "from numpy.linalg import matrix_power\n",
    "import numpy as np\n",
    "import scipy.linalg"
   ]
  },
  {
   "cell_type": "markdown",
   "metadata": {},
   "source": [
    "### Problem 1"
   ]
  },
  {
   "cell_type": "code",
   "execution_count": 27,
   "metadata": {},
   "outputs": [],
   "source": [
    "def is_drazin(A, k, A_D):\n",
    "    return np.allclose(A @ A_D, A_D @ A) & \\\n",
    "           np.allclose(matrix_power(A, k+1) @ A_D, matrix_power(A, k)) & \\\n",
    "           np.allclose(A_D @ A @ A_D, A_D)"
   ]
  },
  {
   "cell_type": "code",
   "execution_count": 28,
   "metadata": {},
   "outputs": [
    {
     "data": {
      "text/plain": [
       "True"
      ]
     },
     "execution_count": 28,
     "metadata": {},
     "output_type": "execute_result"
    }
   ],
   "source": [
    "A = np.array([[1, 3, 0, 0],\n",
    "              [0, 1, 3, 0],\n",
    "              [0, 0, 1, 3],\n",
    "              [0, 0, 0, 0]])\n",
    "k = 1\n",
    "A_D = np.array([[1, -3, 9, 81],\n",
    "                [0, 1, -3, -18],\n",
    "                [0, 0, 1, 3],\n",
    "                [0, 0, 0, 0]])\n",
    "\n",
    "is_drazin(A, k, A_D)"
   ]
  },
  {
   "cell_type": "code",
   "execution_count": 29,
   "metadata": {},
   "outputs": [
    {
     "data": {
      "text/plain": [
       "True"
      ]
     },
     "execution_count": 29,
     "metadata": {},
     "output_type": "execute_result"
    }
   ],
   "source": [
    "B = np.array([[1, 1, 3],\n",
    "              [5, 2, 6],\n",
    "              [-2, -1, -3]])\n",
    "\n",
    "k = 3\n",
    "\n",
    "B_D = np.zeros((3, 3))\n",
    "\n",
    "is_drazin(B, k, B_D)"
   ]
  },
  {
   "cell_type": "markdown",
   "metadata": {},
   "source": [
    "### Problem 2"
   ]
  },
  {
   "cell_type": "code",
   "execution_count": 30,
   "metadata": {},
   "outputs": [],
   "source": [
    "def drazin(A, tol):\n",
    "    \n",
    "    n, n = A.shape\n",
    "    \n",
    "    g = lambda x: abs(x) > tol\n",
    "    leq = lambda x: abs(x) <= tol\n",
    "    Q1, S, k1 = scipy.linalg.schur(A, sort=g)\n",
    "    Q2, T, k2 = scipy.linalg.schur(A, sort=leq)\n",
    "    \n",
    "    U = np.hstack([S[:, :k1], T[:, :(n-k1)]])\n",
    "    U_inv = np.linalg.inv(U)\n",
    "    V = U_inv @ A @ U\n",
    "    Z = np.zeros((n, n))\n",
    "    \n",
    "    if k != 0:\n",
    "        M_inv = np.linalg.inv(V[:k1, :k1])\n",
    "        Z[:k1, :k1] = M_inv\n",
    "    \n",
    "    return U @ Z @ U_inv"
   ]
  },
  {
   "cell_type": "code",
   "execution_count": 31,
   "metadata": {},
   "outputs": [],
   "source": [
    "A = np.random.random((3, 3))"
   ]
  },
  {
   "cell_type": "code",
   "execution_count": 32,
   "metadata": {},
   "outputs": [],
   "source": [
    "AD = drazin(A, 1e-3)"
   ]
  },
  {
   "cell_type": "code",
   "execution_count": 33,
   "metadata": {},
   "outputs": [
    {
     "data": {
      "text/plain": [
       "array([[1., 0., 0.],\n",
       "       [0., 1., 0.],\n",
       "       [0., 0., 1.]])"
      ]
     },
     "execution_count": 33,
     "metadata": {},
     "output_type": "execute_result"
    }
   ],
   "source": [
    "np.abs(AD @ A).round()"
   ]
  },
  {
   "cell_type": "code",
   "execution_count": 34,
   "metadata": {},
   "outputs": [
    {
     "data": {
      "text/plain": [
       "True"
      ]
     },
     "execution_count": 34,
     "metadata": {},
     "output_type": "execute_result"
    }
   ],
   "source": [
    "is_drazin(AD, 5, A)"
   ]
  },
  {
   "cell_type": "code",
   "execution_count": null,
   "metadata": {},
   "outputs": [],
   "source": []
  }
 ],
 "metadata": {
  "kernelspec": {
   "display_name": "Python 3",
   "language": "python",
   "name": "python3"
  },
  "language_info": {
   "codemirror_mode": {
    "name": "ipython",
    "version": 3
   },
   "file_extension": ".py",
   "mimetype": "text/x-python",
   "name": "python",
   "nbconvert_exporter": "python",
   "pygments_lexer": "ipython3",
   "version": "3.6.4"
  }
 },
 "nbformat": 4,
 "nbformat_minor": 2
}
