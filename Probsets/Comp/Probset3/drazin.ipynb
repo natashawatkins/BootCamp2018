{
 "cells": [
  {
   "cell_type": "markdown",
   "metadata": {},
   "source": [
    "# Drazin Inverse"
   ]
  },
  {
   "cell_type": "code",
   "execution_count": 44,
   "metadata": {},
   "outputs": [],
   "source": [
    "from numpy.linalg import matrix_power\n",
    "import numpy as np\n",
    "import scipy.linalg"
   ]
  },
  {
   "cell_type": "markdown",
   "metadata": {},
   "source": [
    "### Problem 1"
   ]
  },
  {
   "cell_type": "code",
   "execution_count": 45,
   "metadata": {},
   "outputs": [],
   "source": [
    "def is_drazin(A, k, A_D):\n",
    "    return np.allclose(A @ A_D, A_D @ A) & \\\n",
    "           np.allclose(matrix_power(A, k+1) @ A_D, matrix_power(A, k)) & \\\n",
    "           np.allclose(A_D @ A @ A_D, A_D)"
   ]
  },
  {
   "cell_type": "code",
   "execution_count": 46,
   "metadata": {},
   "outputs": [
    {
     "data": {
      "text/plain": [
       "True"
      ]
     },
     "execution_count": 46,
     "metadata": {},
     "output_type": "execute_result"
    }
   ],
   "source": [
    "A = np.array([[1, 3, 0, 0],\n",
    "              [0, 1, 3, 0],\n",
    "              [0, 0, 1, 3],\n",
    "              [0, 0, 0, 0]])\n",
    "k = 1\n",
    "A_D = np.array([[1, -3, 9, 81],\n",
    "                [0, 1, -3, -18],\n",
    "                [0, 0, 1, 3],\n",
    "                [0, 0, 0, 0]])\n",
    "\n",
    "is_drazin(A, k, A_D)"
   ]
  },
  {
   "cell_type": "code",
   "execution_count": 47,
   "metadata": {},
   "outputs": [
    {
     "data": {
      "text/plain": [
       "True"
      ]
     },
     "execution_count": 47,
     "metadata": {},
     "output_type": "execute_result"
    }
   ],
   "source": [
    "B = np.array([[1, 1, 3],\n",
    "              [5, 2, 6],\n",
    "              [-2, -1, -3]])\n",
    "\n",
    "k = 3\n",
    "\n",
    "B_D = np.zeros((3, 3))\n",
    "\n",
    "is_drazin(B, k, B_D)"
   ]
  },
  {
   "cell_type": "markdown",
   "metadata": {},
   "source": [
    "### Problem 2"
   ]
  },
  {
   "cell_type": "code",
   "execution_count": 48,
   "metadata": {},
   "outputs": [],
   "source": [
    "def drazin(A, tol):\n",
    "    \n",
    "    n, n = A.shape\n",
    "    \n",
    "    g = lambda x: abs(x) > tol\n",
    "    leq = lambda x: abs(x) <= tol\n",
    "    Q1, S, k1 = scipy.linalg.schur(A, sort=g)\n",
    "    Q2, T, k2 = scipy.linalg.schur(A, sort=leq)\n",
    "    \n",
    "    U = np.hstack([S[:, :k1], T[:, :(n-k1)]])\n",
    "    U_inv = np.linalg.inv(U)\n",
    "    V = U_inv @ A @ U\n",
    "    Z = np.zeros((n, n))\n",
    "    \n",
    "    if k != 0:\n",
    "        M_inv = np.linalg.inv(V[:k1, :k1])\n",
    "        Z[:k1, :k1] = M_inv\n",
    "    \n",
    "    return U @ Z @ U_inv"
   ]
  },
  {
   "cell_type": "code",
   "execution_count": 49,
   "metadata": {},
   "outputs": [],
   "source": [
    "A = np.random.random((3, 3))"
   ]
  },
  {
   "cell_type": "code",
   "execution_count": 50,
   "metadata": {},
   "outputs": [],
   "source": [
    "AD = drazin(A, 1e-3)"
   ]
  },
  {
   "cell_type": "code",
   "execution_count": 51,
   "metadata": {},
   "outputs": [
    {
     "data": {
      "text/plain": [
       "array([[1., 0., 0.],\n",
       "       [0., 1., 0.],\n",
       "       [0., 0., 1.]])"
      ]
     },
     "execution_count": 51,
     "metadata": {},
     "output_type": "execute_result"
    }
   ],
   "source": [
    "np.abs(AD @ A).round()"
   ]
  },
  {
   "cell_type": "code",
   "execution_count": 52,
   "metadata": {},
   "outputs": [
    {
     "data": {
      "text/plain": [
       "True"
      ]
     },
     "execution_count": 52,
     "metadata": {},
     "output_type": "execute_result"
    }
   ],
   "source": [
    "is_drazin(AD, 5, A)"
   ]
  },
  {
   "cell_type": "markdown",
   "metadata": {},
   "source": [
    "### Problem 3"
   ]
  },
  {
   "cell_type": "code",
   "execution_count": 138,
   "metadata": {},
   "outputs": [],
   "source": [
    "G1 = np.array([[0, 1, 0, 0], \n",
    "               [1, 0, 1, 0], \n",
    "               [0, 1, 0, 1], \n",
    "               [0, 0, 1, 0]])\n",
    "G2 = np.array([[0, 1], \n",
    "               [1, 0]])"
   ]
  },
  {
   "cell_type": "code",
   "execution_count": 139,
   "metadata": {},
   "outputs": [],
   "source": [
    "def resistance_mat(A):\n",
    "    \n",
    "    n, n = A.shape\n",
    "    D = np.diag(A.sum(axis=1))\n",
    "    L = D - A\n",
    "    R = np.zeros((n, n))\n",
    "    for i in range(n):\n",
    "        for j in range(n):\n",
    "            L_tilde = L.copy()\n",
    "            L_tilde[j, :] = np.eye(n)[j]\n",
    "            L_tilde = drazin(L_tilde, 1e-5)\n",
    "            if i != j:\n",
    "                R[i, j] = L_tilde[i, i]\n",
    "    \n",
    "    return R"
   ]
  },
  {
   "cell_type": "code",
   "execution_count": 140,
   "metadata": {},
   "outputs": [
    {
     "data": {
      "text/plain": [
       "array([[0., 1., 2., 3.],\n",
       "       [1., 0., 1., 2.],\n",
       "       [2., 1., 0., 1.],\n",
       "       [3., 2., 1., 0.]])"
      ]
     },
     "execution_count": 140,
     "metadata": {},
     "output_type": "execute_result"
    }
   ],
   "source": [
    "resistance_mat(G1).round()"
   ]
  },
  {
   "cell_type": "markdown",
   "metadata": {},
   "source": [
    "### Problem 4 & 5"
   ]
  },
  {
   "cell_type": "code",
   "execution_count": 427,
   "metadata": {},
   "outputs": [],
   "source": [
    "class LinkPredictor:\n",
    "    \n",
    "    def __init__(self, filename):\n",
    "        \n",
    "        self.filename = filename\n",
    "        \n",
    "        nodes = []\n",
    "        with open('social_network.csv', 'r') as f:\n",
    "            for line in f:\n",
    "                nodes.append(line.strip().split(','))\n",
    "        nodes = np.array(nodes)\n",
    "        names = np.unique(nodes)\n",
    "        N = len(names)\n",
    "        names_id = dict(zip(names, range(N)))\n",
    "        nodes_id = np.array([[names_id[i], names_id[j]] for i, j in nodes[:, ]])\n",
    "        \n",
    "        A = np.zeros((N, N))\n",
    "\n",
    "        for pair in nodes_id:\n",
    "            i, j = pair\n",
    "            A[i, j] = 1\n",
    "            A[j, i] = 1\n",
    "            \n",
    "        self.A = A\n",
    "        self.names = names\n",
    "        self.R = resistance_mat(A)\n",
    "        \n",
    "    def predict_link(self, node=None):\n",
    "        R, A = self.R, self.A\n",
    "        names = self.names\n",
    "        R[A == 1] = 0\n",
    "        if node is None:\n",
    "            min_resist = np.min(R[R > 0])\n",
    "            loc = np.argwhere(R == min_resist).flatten()\n",
    "            return (names[loc[0]], names[loc[1]])\n",
    "        elif node.isalpha():\n",
    "            if node not in names:\n",
    "                raise ValueError('Node not in network')\n",
    "            i = np.argwhere(names == node)\n",
    "            R_i = R[:, i]\n",
    "            min_resist = np.min(R_i[R_i > 0])\n",
    "            loc = np.argwhere(R_i == min_resist).flatten()\n",
    "            return (node, names[loc[0]])\n",
    "        \n",
    "    def add_link(self, node1, node2):\n",
    "        names = self.names\n",
    "        if node1 not in names or node2 not in names:\n",
    "            raise ValueError('One of nodes is not in network')\n",
    "        i = np.argwhere(names == node1)\n",
    "        j = np.argwhere(names == node2)\n",
    "        self.A[i, j] = 1\n",
    "        self.A[j, i] = 1\n",
    "        self.R = resistance_mat(self.A)"
   ]
  },
  {
   "cell_type": "code",
   "execution_count": 428,
   "metadata": {},
   "outputs": [],
   "source": [
    "sn = LinkPredictor('social_network.csv')"
   ]
  },
  {
   "cell_type": "code",
   "execution_count": 429,
   "metadata": {},
   "outputs": [
    {
     "data": {
      "text/plain": [
       "('Oliver', 'Emily')"
      ]
     },
     "execution_count": 429,
     "metadata": {},
     "output_type": "execute_result"
    }
   ],
   "source": [
    "sn.predict_link()"
   ]
  },
  {
   "cell_type": "code",
   "execution_count": 430,
   "metadata": {},
   "outputs": [
    {
     "data": {
      "text/plain": [
       "('Melanie', 'Carol')"
      ]
     },
     "execution_count": 430,
     "metadata": {},
     "output_type": "execute_result"
    }
   ],
   "source": [
    "sn.predict_link('Melanie')"
   ]
  },
  {
   "cell_type": "code",
   "execution_count": 431,
   "metadata": {},
   "outputs": [
    {
     "data": {
      "text/plain": [
       "('Alan', 'Sonia')"
      ]
     },
     "execution_count": 431,
     "metadata": {},
     "output_type": "execute_result"
    }
   ],
   "source": [
    "sn.predict_link('Alan')"
   ]
  },
  {
   "cell_type": "code",
   "execution_count": 432,
   "metadata": {},
   "outputs": [],
   "source": [
    "sn.add_link('Sonia', 'Alan')"
   ]
  },
  {
   "cell_type": "code",
   "execution_count": 433,
   "metadata": {},
   "outputs": [
    {
     "data": {
      "text/plain": [
       "('Alan', 'Piers')"
      ]
     },
     "execution_count": 433,
     "metadata": {},
     "output_type": "execute_result"
    }
   ],
   "source": [
    "sn.predict_link('Alan')"
   ]
  },
  {
   "cell_type": "code",
   "execution_count": 434,
   "metadata": {},
   "outputs": [],
   "source": [
    "sn.add_link('Piers', 'Alan')"
   ]
  },
  {
   "cell_type": "code",
   "execution_count": 435,
   "metadata": {},
   "outputs": [
    {
     "data": {
      "text/plain": [
       "('Alan', 'Abigail')"
      ]
     },
     "execution_count": 435,
     "metadata": {},
     "output_type": "execute_result"
    }
   ],
   "source": [
    "sn.predict_link('Alan')"
   ]
  },
  {
   "cell_type": "code",
   "execution_count": null,
   "metadata": {},
   "outputs": [],
   "source": []
  }
 ],
 "metadata": {
  "kernelspec": {
   "display_name": "Python 3",
   "language": "python",
   "name": "python3"
  },
  "language_info": {
   "codemirror_mode": {
    "name": "ipython",
    "version": 3
   },
   "file_extension": ".py",
   "mimetype": "text/x-python",
   "name": "python",
   "nbconvert_exporter": "python",
   "pygments_lexer": "ipython3",
   "version": "3.6.4"
  }
 },
 "nbformat": 4,
 "nbformat_minor": 2
}
