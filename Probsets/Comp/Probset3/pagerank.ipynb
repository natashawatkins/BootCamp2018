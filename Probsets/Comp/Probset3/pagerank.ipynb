{
 "cells": [
  {
   "cell_type": "markdown",
   "metadata": {},
   "source": [
    "# PageRank algorithm"
   ]
  },
  {
   "cell_type": "code",
   "execution_count": 18,
   "metadata": {},
   "outputs": [],
   "source": [
    "import numpy as np\n",
    "from scipy.sparse import dok_matrix\n",
    "import scipy.linalg\n",
    "from numba import njit, prange"
   ]
  },
  {
   "cell_type": "markdown",
   "metadata": {},
   "source": [
    "### Problem 1"
   ]
  },
  {
   "cell_type": "code",
   "execution_count": 19,
   "metadata": {},
   "outputs": [],
   "source": [
    "def adjacency_matrix(filename, N):\n",
    "    A = np.zeros((N, N))\n",
    "    nodes = []\n",
    "    with open(filename, 'r') as f:\n",
    "        for c in f:\n",
    "            try:\n",
    "                node = list(map(int, c.strip().split()))\n",
    "                nodes.append(node)\n",
    "            except:\n",
    "                pass\n",
    "            \n",
    "    for i in range(N):\n",
    "        for j in range(N):\n",
    "            if [i, j] in nodes:\n",
    "                A[i, j] = 1\n",
    "    return dok_matrix(A)"
   ]
  },
  {
   "cell_type": "code",
   "execution_count": 20,
   "metadata": {},
   "outputs": [],
   "source": [
    "A = adjacency_matrix('matrix.txt', 8)"
   ]
  },
  {
   "cell_type": "code",
   "execution_count": 21,
   "metadata": {},
   "outputs": [
    {
     "data": {
      "text/plain": [
       "array([[0., 0., 0., 0., 0., 0., 0., 1.],\n",
       "       [1., 0., 0., 0., 0., 0., 0., 0.],\n",
       "       [0., 0., 0., 0., 0., 0., 0., 0.],\n",
       "       [1., 0., 1., 0., 0., 0., 1., 0.],\n",
       "       [1., 0., 0., 0., 0., 1., 1., 0.],\n",
       "       [1., 0., 0., 0., 0., 0., 1., 0.],\n",
       "       [1., 0., 0., 0., 0., 0., 0., 0.],\n",
       "       [1., 0., 0., 0., 0., 0., 0., 0.]])"
      ]
     },
     "execution_count": 21,
     "metadata": {},
     "output_type": "execute_result"
    }
   ],
   "source": [
    "A.toarray()"
   ]
  },
  {
   "cell_type": "markdown",
   "metadata": {},
   "source": [
    "### Problem 2"
   ]
  },
  {
   "cell_type": "code",
   "execution_count": 22,
   "metadata": {},
   "outputs": [],
   "source": [
    "@njit\n",
    "def calculate_K(A, N):\n",
    "    A[A.sum(axis=1) == 0, :] = np.ones(N)\n",
    "    D = A.sum(axis=1)\n",
    "    return (A.T / D)"
   ]
  },
  {
   "cell_type": "code",
   "execution_count": 23,
   "metadata": {},
   "outputs": [
    {
     "data": {
      "text/plain": [
       "array([[0.        , 1.        , 0.125     , 0.33333333, 0.33333333,\n",
       "        0.5       , 1.        , 1.        ],\n",
       "       [0.        , 0.        , 0.125     , 0.        , 0.        ,\n",
       "        0.        , 0.        , 0.        ],\n",
       "       [0.        , 0.        , 0.125     , 0.33333333, 0.        ,\n",
       "        0.        , 0.        , 0.        ],\n",
       "       [0.        , 0.        , 0.125     , 0.        , 0.        ,\n",
       "        0.        , 0.        , 0.        ],\n",
       "       [0.        , 0.        , 0.125     , 0.        , 0.        ,\n",
       "        0.        , 0.        , 0.        ],\n",
       "       [0.        , 0.        , 0.125     , 0.        , 0.33333333,\n",
       "        0.        , 0.        , 0.        ],\n",
       "       [0.        , 0.        , 0.125     , 0.33333333, 0.33333333,\n",
       "        0.5       , 0.        , 0.        ],\n",
       "       [1.        , 0.        , 0.125     , 0.        , 0.        ,\n",
       "        0.        , 0.        , 0.        ]])"
      ]
     },
     "execution_count": 23,
     "metadata": {},
     "output_type": "execute_result"
    }
   ],
   "source": [
    "calculate_K(A.toarray(), 8)"
   ]
  },
  {
   "cell_type": "markdown",
   "metadata": {},
   "source": [
    "### Problem 3"
   ]
  },
  {
   "cell_type": "code",
   "execution_count": 24,
   "metadata": {},
   "outputs": [],
   "source": [
    "@njit\n",
    "def pagerank(A, N=None, d=0.85, tol=1e-5, max_iter=500):\n",
    "    \n",
    "    if N is None:\n",
    "        N = A.shape[0]\n",
    "    A = A[:N+1, :N+1]\n",
    "    \n",
    "    K = calculate_K(A, N)\n",
    "    \n",
    "    p = np.ones(N)\n",
    "    p = p / p.sum()\n",
    "    \n",
    "    diff = 1e3\n",
    "    i = 0\n",
    "    \n",
    "    while diff > tol and i < max_iter:\n",
    "        p_new = d * K @ p + ((1 - d) / N) * np.ones(N)\n",
    "        diff = np.linalg.norm(p - p_new)\n",
    "        p = p_new\n",
    "        i += 1\n",
    "    \n",
    "    return p"
   ]
  },
  {
   "cell_type": "code",
   "execution_count": 25,
   "metadata": {},
   "outputs": [
    {
     "data": {
      "text/plain": [
       "array([0.43868966, 0.02171029, 0.02786154, 0.02171029, 0.02171029,\n",
       "       0.02786154, 0.04585394, 0.39460246])"
      ]
     },
     "execution_count": 25,
     "metadata": {},
     "output_type": "execute_result"
    }
   ],
   "source": [
    "pagerank(A.toarray())"
   ]
  },
  {
   "cell_type": "markdown",
   "metadata": {},
   "source": [
    "### Problem 4"
   ]
  },
  {
   "cell_type": "code",
   "execution_count": 32,
   "metadata": {},
   "outputs": [],
   "source": [
    "def pagerank_eigen(A, N=None, d=0.85, tol=1e-5, max_iter=500):\n",
    "    \n",
    "    if N is None:\n",
    "        N = A.shape[0]\n",
    "    A = A[:N+1, :N+1]\n",
    "    \n",
    "    K = calculate_K(A, N)\n",
    "    \n",
    "    B = d * K + ((1 - d) / N) * np.ones((N, N))\n",
    "    \n",
    "    eigs, eigvecs = scipy.linalg.eig(B)\n",
    "    max_eig = eigs.argmax()\n",
    "    \n",
    "    return eigvecs[:, max_eig] / eigvecs[:, max_eig].sum()"
   ]
  },
  {
   "cell_type": "code",
   "execution_count": 33,
   "metadata": {},
   "outputs": [
    {
     "data": {
      "text/plain": [
       "array([0.43869288, 0.02171029, 0.02786154, 0.02171029, 0.02171029,\n",
       "       0.02786154, 0.04585394, 0.39459924])"
      ]
     },
     "execution_count": 33,
     "metadata": {},
     "output_type": "execute_result"
    }
   ],
   "source": [
    "pagerank_eigen(A.toarray())"
   ]
  },
  {
   "cell_type": "markdown",
   "metadata": {},
   "source": [
    "### Problem 5"
   ]
  },
  {
   "cell_type": "code",
   "execution_count": 11,
   "metadata": {
    "scrolled": true
   },
   "outputs": [],
   "source": [
    "win_lose = []\n",
    "with open('ncaa2013.csv', 'r') as file:\n",
    "    file.readline()\n",
    "    for line in file:\n",
    "        teams = line.strip().split(',')\n",
    "        win_lose.append(teams)\n",
    "        \n",
    "win_lose = np.array(win_lose)\n",
    "teams = np.unique(win_lose.flatten())\n",
    "N = len(teams)\n",
    "team_id = dict(zip(teams, range(N)))\n",
    "win_lose_id = np.array([[team_id[win], team_id[lose]] for win, lose in win_lose[:, ]])"
   ]
  },
  {
   "cell_type": "code",
   "execution_count": 12,
   "metadata": {},
   "outputs": [],
   "source": [
    "A = np.zeros((N, N))\n",
    "\n",
    "for game in win_lose_id:\n",
    "    j, i = game\n",
    "    A[i, j] = 1"
   ]
  },
  {
   "cell_type": "code",
   "execution_count": 13,
   "metadata": {},
   "outputs": [
    {
     "data": {
      "text/plain": [
       "['Duke', 'Butler', 'Louisville', 'Illinois', 'Indiana']"
      ]
     },
     "execution_count": 13,
     "metadata": {},
     "output_type": "execute_result"
    }
   ],
   "source": [
    "p = pagerank(A, d=0.7)\n",
    "rank_id = p.argsort()[-5:][::-1]  # Top 5 teams\n",
    "\n",
    "list(teams[rank_id])"
   ]
  },
  {
   "cell_type": "code",
   "execution_count": null,
   "metadata": {},
   "outputs": [],
   "source": []
  }
 ],
 "metadata": {
  "kernelspec": {
   "display_name": "Python 3",
   "language": "python",
   "name": "python3"
  },
  "language_info": {
   "codemirror_mode": {
    "name": "ipython",
    "version": 3
   },
   "file_extension": ".py",
   "mimetype": "text/x-python",
   "name": "python",
   "nbconvert_exporter": "python",
   "pygments_lexer": "ipython3",
   "version": "3.6.4"
  }
 },
 "nbformat": 4,
 "nbformat_minor": 2
}
