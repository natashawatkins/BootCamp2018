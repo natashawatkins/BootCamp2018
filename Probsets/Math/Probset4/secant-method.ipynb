{
 "cells": [
  {
   "cell_type": "markdown",
   "metadata": {},
   "source": [
    "# Secant method\n",
    "\n",
    "Natasha Watkins"
   ]
  },
  {
   "cell_type": "code",
   "execution_count": 3,
   "metadata": {},
   "outputs": [],
   "source": [
    "import numpy as np"
   ]
  },
  {
   "cell_type": "code",
   "execution_count": 13,
   "metadata": {},
   "outputs": [],
   "source": [
    "def secant_method(x0, x1, f_prime, ɛ=1e-6, max_iter=100):\n",
    "    \n",
    "    x = np.zeros(max_iter)  # Store x's\n",
    "    x[0] = x0\n",
    "    x[1] = x1\n",
    "    f_primes = np.zeros(max_iter)  # Store f_primes\n",
    "    f_primes[0] = f_prime(x0)\n",
    "    \n",
    "    diff = 1e3  # Initialise distance\n",
    "    i = 1  # Initialise iteration from 1 (x0 already calculated)\n",
    "    \n",
    "    while diff > ɛ and i < max_iter:\n",
    "        f_primes[i] = f_prime(x[i])\n",
    "        x[i+1] = x[i] - f_primes[i] * (x[i] - x[i-1])/(f_primes[i] - f_primes[i-1])  # Update x\n",
    "        diff = np.abs(x[i] - x[i-1]) / np.abs(x[i])  # Normalised difference\n",
    "        i += 1\n",
    "        \n",
    "    if diff > ɛ:\n",
    "        print('Did not converge')\n",
    "    else:\n",
    "        print(f'Converged in {i} iterations')\n",
    "        \n",
    "    return x[i]"
   ]
  },
  {
   "cell_type": "code",
   "execution_count": 24,
   "metadata": {},
   "outputs": [],
   "source": [
    "f_prime = lambda x: 4 * x**3 - 14 * 3 * x**2 + 120 * x - 70\n",
    "x0 = 2\n",
    "x1 = 1"
   ]
  },
  {
   "cell_type": "code",
   "execution_count": 25,
   "metadata": {
    "scrolled": true
   },
   "outputs": [
    {
     "name": "stdout",
     "output_type": "stream",
     "text": [
      "Converged in 8 iterations\n"
     ]
    },
    {
     "data": {
      "text/plain": [
       "0.7808840530880756"
      ]
     },
     "execution_count": 25,
     "metadata": {},
     "output_type": "execute_result"
    }
   ],
   "source": [
    "secant_method(x0, x1, f_prime)"
   ]
  },
  {
   "cell_type": "markdown",
   "metadata": {},
   "source": [
    "Compared with scipy...."
   ]
  },
  {
   "cell_type": "code",
   "execution_count": 26,
   "metadata": {},
   "outputs": [],
   "source": [
    "from scipy.optimize import root"
   ]
  },
  {
   "cell_type": "code",
   "execution_count": 27,
   "metadata": {},
   "outputs": [
    {
     "data": {
      "text/plain": [
       "    fjac: array([[-1.]])\n",
       "     fun: array([-1.42108547e-14])\n",
       " message: 'The solution converged.'\n",
       "    nfev: 8\n",
       "     qtf: array([-2.61024979e-10])\n",
       "       r: array([-61.7231026])\n",
       "  status: 1\n",
       " success: True\n",
       "       x: array([0.78088405])"
      ]
     },
     "execution_count": 27,
     "metadata": {},
     "output_type": "execute_result"
    }
   ],
   "source": [
    "root(f_prime, 1)"
   ]
  },
  {
   "cell_type": "code",
   "execution_count": null,
   "metadata": {},
   "outputs": [],
   "source": []
  }
 ],
 "metadata": {
  "kernelspec": {
   "display_name": "Python 3",
   "language": "python",
   "name": "python3"
  },
  "language_info": {
   "codemirror_mode": {
    "name": "ipython",
    "version": 3
   },
   "file_extension": ".py",
   "mimetype": "text/x-python",
   "name": "python",
   "nbconvert_exporter": "python",
   "pygments_lexer": "ipython3",
   "version": "3.6.4"
  }
 },
 "nbformat": 4,
 "nbformat_minor": 2
}
