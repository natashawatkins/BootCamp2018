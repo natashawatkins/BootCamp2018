{
 "cells": [
  {
   "cell_type": "markdown",
   "metadata": {},
   "source": [
    "# OLG Homework\n",
    "\n",
    "Natasha Watkins"
   ]
  },
  {
   "cell_type": "code",
   "execution_count": 1,
   "metadata": {},
   "outputs": [],
   "source": [
    "import numpy as np\n",
    "from scipy.optimize import root\n",
    "import matplotlib.pyplot as plt\n",
    "import time"
   ]
  },
  {
   "cell_type": "markdown",
   "metadata": {},
   "source": [
    "### Exercise 2.1"
   ]
  },
  {
   "cell_type": "code",
   "execution_count": 2,
   "metadata": {},
   "outputs": [],
   "source": [
    "β = 0.442\n",
    "δ = 0.6415\n",
    "σ = 3\n",
    "A = 1\n",
    "α = 0.35\n",
    "\n",
    "nvec = np.array([1, 1, 0.2])\n",
    "\n",
    "f_params = (nvec, A, α, δ)\n",
    "bvec_guess = np.array([1.0, 2.0])\n",
    "\n",
    "u = lambda c: (c**(1 - σ) - 1) / (1 - σ)   # CRRA utility\n",
    "u_prime = lambda c: c**(-σ)                # First derivative of u"
   ]
  },
  {
   "cell_type": "code",
   "execution_count": 3,
   "metadata": {},
   "outputs": [],
   "source": [
    "w = lambda α, A, L, K: (1 - α) * A * (K / L)**α\n",
    "r = lambda α, A, L, K, δ: α * A * (L / K)**(1 - α) - δ"
   ]
  },
  {
   "cell_type": "code",
   "execution_count": 4,
   "metadata": {},
   "outputs": [],
   "source": [
    "def feasible(f_params, bvec_guess):\n",
    "    \n",
    "    nvec, A, α, δ = f_params  # Unpack parameters\n",
    "    K = np.sum(bvec_guess)    # Total capital\n",
    "    L = np.sum(nvec)          # Total labour\n",
    "    \n",
    "    b_cnstr, c_cnstr = np.empty(2, dtype=bool), np.empty(3, dtype=bool)\n",
    "    K_cnstr = np.ones(1, dtype=bool)  # Default to False\n",
    "    \n",
    "    K_cnstr[0] = K <= 0\n",
    "    \n",
    "    w_t = w(α, A, L, K)     # Equilibrium wage rate\n",
    "    r_t = r(α, A, L, K, δ)  # Equilibrium interest rate\n",
    "            \n",
    "    c1 = nvec[0] * w_t - bvec_guess[0]\n",
    "    c2 = nvec[1] * w_t + (1 + r_t) * bvec_guess[0] - bvec_guess[1]\n",
    "    c3 = nvec[2] * w_t + (1 + r_t) * bvec_guess[1]\n",
    "    \n",
    "    c = np.array([c1, c2, c3])  # Consumption path\n",
    "    c_cnstr = c <= 0\n",
    "    \n",
    "    if c_cnstr[0]:              # If c1 <= 0\n",
    "        b_cnstr[0] = True\n",
    "    elif c_cnstr[1]:            # If c2 <= 0, set both elements to true\n",
    "        b_cnstr[:] = True\n",
    "    elif c_cnstr[2]:            # If c3 <= 0\n",
    "        b_cnstr[1] = True\n",
    "    \n",
    "    return b_cnstr, c_cnstr, K_cnstr"
   ]
  },
  {
   "cell_type": "markdown",
   "metadata": {},
   "source": [
    "**Question a)**"
   ]
  },
  {
   "cell_type": "code",
   "execution_count": 5,
   "metadata": {},
   "outputs": [
    {
     "data": {
      "text/plain": [
       "(array([ True,  True]), array([ True, False, False]), array([False]))"
      ]
     },
     "execution_count": 5,
     "metadata": {},
     "output_type": "execute_result"
    }
   ],
   "source": [
    "bvec_guess = np.array([1.0, 1.2])\n",
    "feasible(f_params, bvec_guess)"
   ]
  },
  {
   "cell_type": "markdown",
   "metadata": {},
   "source": [
    "The time-1 budget constraint is violated."
   ]
  },
  {
   "cell_type": "markdown",
   "metadata": {},
   "source": [
    "**Question b)**"
   ]
  },
  {
   "cell_type": "code",
   "execution_count": 6,
   "metadata": {},
   "outputs": [
    {
     "data": {
      "text/plain": [
       "(array([ True,  True]), array([False, False, False]), array([False]))"
      ]
     },
     "execution_count": 6,
     "metadata": {},
     "output_type": "execute_result"
    }
   ],
   "source": [
    "bvec_guess = np.array([0.06, -0.001])\n",
    "feasible(f_params, bvec_guess)"
   ]
  },
  {
   "cell_type": "markdown",
   "metadata": {},
   "source": [
    "No budget constraints are violated."
   ]
  },
  {
   "cell_type": "markdown",
   "metadata": {},
   "source": [
    "**Question c)**"
   ]
  },
  {
   "cell_type": "code",
   "execution_count": 7,
   "metadata": {},
   "outputs": [
    {
     "data": {
      "text/plain": [
       "(array([False, False]), array([False, False, False]), array([False]))"
      ]
     },
     "execution_count": 7,
     "metadata": {},
     "output_type": "execute_result"
    }
   ],
   "source": [
    "bvec_guess = np.array([0.1, 0.1])\n",
    "feasible(f_params, bvec_guess)"
   ]
  },
  {
   "cell_type": "markdown",
   "metadata": {},
   "source": [
    "No budget constraints are violated."
   ]
  },
  {
   "cell_type": "markdown",
   "metadata": {},
   "source": [
    "### Exercise 2.2\n",
    "\n",
    "**Part a)**"
   ]
  },
  {
   "cell_type": "code",
   "execution_count": 8,
   "metadata": {},
   "outputs": [],
   "source": [
    "SS_tol = 1e-5\n",
    "params = (β, σ, nvec, A, α, δ, SS_tol)\n",
    "\n",
    "def get_SS(params, bvec_guess, SS_graphs=False):\n",
    "    \n",
    "    start_time = time.clock()  # Start timing\n",
    "    \n",
    "    β, σ, nvec, A, α, δ, SS_tol = params\n",
    "    n1, n2, n3 = nvec  # Labour supply in each period\n",
    "    L = np.sum(nvec)   # Total labour supply\n",
    "    \n",
    "    def equations(bvec):\n",
    "        b2, b3 = bvec\n",
    "        K = np.sum(bvec)        # Total capital\n",
    "        w_t = w(α, A, L, K)     # Equilibrium wage rate\n",
    "        r_t = r(α, A, L, K, δ)  # Equilibrium interest rate\n",
    "        eq1 = u_prime(n1 * w_t - b2) - β * (1 + r_t) * u_prime(n2 * w_t + (1 + r_t) * b2 - b3)\n",
    "        eq2 = u_prime(n2 * w_t + (1 + r_t) * b2 - b3) - β * (1 + r_t) * u_prime((1 + r_t) * b3 + n3 * w_t)\n",
    "        return eq1, eq2\n",
    "    \n",
    "    b_ss = root(equations, x0=bvec_guess, tol=SS_tol).x  # Solve for steady state b\n",
    "    K_ss = np.sum(b_ss)         # Steady state capital\n",
    "    w_ss = w(α, A, L, K_ss)     # Steady state wage\n",
    "    r_ss = r(α, A, L, K_ss, δ)  # Steady state interest rate\n",
    "    \n",
    "    # Back out consumption path\n",
    "    c_1 = n1 * w_ss - b_ss[0]\n",
    "    c_2 = n2 * w_ss + (1 + r_ss) * b_ss[0] - b_ss[1]\n",
    "    c_3 = n3 * w_ss + (1 + r_ss) * b_ss[1]\n",
    "    c_ss = np.array([c_1, c_2, c_3])  # Steady state consumption path\n",
    "    C_ss = c_ss.sum()                 # Total steady state consumption\n",
    "    \n",
    "    # Back out steady state investment path\n",
    "    I_ss = (b_ss[1] - (1 - δ) * b_ss[0]).sum()\n",
    "    \n",
    "    Y_ss = C_ss + I_ss  # Total output\n",
    "    \n",
    "    # Euler errors\n",
    "    EulErr_ss = β * (1 + r_ss) * u_prime(c_ss[1:]) - u_prime(c_ss[:-1])\n",
    "\n",
    "    # Resource contraint error\n",
    "    RCerr_ss = Y_ss - C_ss - δ * K_ss\n",
    "\n",
    "    ss_time = time.clock() - start_time  # Stop timing\n",
    "    \n",
    "    ss_output = {'b_ss': b_ss, 'c_ss': c_ss, 'w_ss': w_ss, 'r_ss': r_ss,\n",
    "                 'K_ss': K_ss, 'Y_ss': Y_ss, 'C_ss': C_ss,\n",
    "                 'EulErr_ss': EulErr_ss, 'RCerr_ss': RCerr_ss,\n",
    "                 'ss_time': ss_time}\n",
    "    \n",
    "    if SS_graphs:\n",
    "        fig, axes = plt.subplots(1, 2, figsize=(12, 4))\n",
    "        axes[0].bar(range(2, 4), b_ss)\n",
    "        axes[0].set(xticks=([2, 3]), xlabel='State', title='Steady state $b_t$')\n",
    "        axes[1].bar(range(1, 4), c_ss)\n",
    "        axes[1].set(xticks=([1, 2, 3]), xlabel='State', title='Steady state $c_t$')\n",
    "        plt.tight_layout()\n",
    "        plt.show()\n",
    "    \n",
    "    return ss_output"
   ]
  },
  {
   "cell_type": "code",
   "execution_count": 9,
   "metadata": {},
   "outputs": [
    {
     "data": {
      "text/plain": [
       "{'C_ss': 0.6329006782167177,\n",
       " 'EulErr_ss': array([ 4.50781670e-06, -8.92472291e-06]),\n",
       " 'K_ss': 0.0777236279220895,\n",
       " 'RCerr_ss': 0.0016278487132806718,\n",
       " 'Y_ss': 0.6843882342420188,\n",
       " 'b_ss': array([0.01931253, 0.0584111 ]),\n",
       " 'c_ss': array([0.18241213, 0.20961468, 0.24087387]),\n",
       " 'r_ss': 2.433062283358659,\n",
       " 'ss_time': 0.0006929999999996106,\n",
       " 'w_ss': 0.20172465936076353}"
      ]
     },
     "execution_count": 9,
     "metadata": {},
     "output_type": "execute_result"
    }
   ],
   "source": [
    "ss = get_SS(params, np.array([0.1, 0.1]))\n",
    "ss"
   ]
  },
  {
   "cell_type": "markdown",
   "metadata": {},
   "source": [
    "**Part b)**"
   ]
  },
  {
   "cell_type": "code",
   "execution_count": 10,
   "metadata": {},
   "outputs": [
    {
     "data": {
      "image/png": "[encoded data removed]",
      "text/plain": [
       "<matplotlib.figure.Figure at 0x10819c198>"
      ]
     },
     "metadata": {},
     "output_type": "display_data"
    }
   ],
   "source": [
    "ss = get_SS(params, np.array([0.1, 0.1]), SS_graphs=True)"
   ]
  },
  {
   "cell_type": "markdown",
   "metadata": {},
   "source": [
    "**Part c)**"
   ]
  },
  {
   "cell_type": "code",
   "execution_count": 11,
   "metadata": {},
   "outputs": [
    {
     "data": {
      "text/plain": [
       "{'C_ss': 0.691284290244305,\n",
       " 'EulErr_ss': array([6.82726977e-08, 2.51137209e-08]),\n",
       " 'K_ss': 0.10504237016721853,\n",
       " 'RCerr_ss': -0.0006206546125954587,\n",
       " 'Y_ss': 0.7580483160939803,\n",
       " 'b_ss': array([0.02817692, 0.07686545]),\n",
       " 'c_ss': array([0.19597528, 0.22861594, 0.26669307]),\n",
       " 'r_ss': 1.8863765066381661,\n",
       " 'ss_time': 0.00043700000000024275,\n",
       " 'w_ss': 0.2241521958905792}"
      ]
     },
     "execution_count": 11,
     "metadata": {},
     "output_type": "execute_result"
    }
   ],
   "source": [
    "β = 0.55\n",
    "params = (β, σ, nvec, A, α, δ, SS_tol)\n",
    "get_SS(params, np.array([0.1, 0.1]))"
   ]
  },
  {
   "cell_type": "markdown",
   "metadata": {},
   "source": [
    "A higher $\\beta$ increases consumption and investment in every period. The equilibrium wage rate is higher, while the interest rate is lower.\n",
    "\n",
    "Increasing $\\beta$ results in an agent being more likely to spend today, as future consumption is discounted at a higher rate. As consumption is higher, total output is higher, allowing agents to save more."
   ]
  },
  {
   "cell_type": "code",
   "execution_count": null,
   "metadata": {},
   "outputs": [],
   "source": []
  }
 ],
 "metadata": {
  "kernelspec": {
   "display_name": "Python 3",
   "language": "python",
   "name": "python3"
  },
  "language_info": {
   "codemirror_mode": {
    "name": "ipython",
    "version": 3
   },
   "file_extension": ".py",
   "mimetype": "text/x-python",
   "name": "python",
   "nbconvert_exporter": "python",
   "pygments_lexer": "ipython3",
   "version": "3.6.4"
  }
 },
 "nbformat": 4,
 "nbformat_minor": 2
}
