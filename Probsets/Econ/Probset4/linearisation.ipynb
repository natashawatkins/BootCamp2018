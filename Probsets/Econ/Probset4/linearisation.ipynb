{
 "cells": [
  {
   "cell_type": "code",
   "execution_count": 2,
   "metadata": {},
   "outputs": [],
   "source": [
    "import numpy as np\n",
    "from scipy.optimize import root"
   ]
  },
  {
   "cell_type": "markdown",
   "metadata": {},
   "source": [
    "## Exercise 1"
   ]
  },
  {
   "cell_type": "code",
   "execution_count": 27,
   "metadata": {},
   "outputs": [
    {
     "name": "stderr",
     "output_type": "stream",
     "text": [
      "/anaconda3/lib/python3.6/site-packages/ipykernel_launcher.py:9: RuntimeWarning: invalid value encountered in sqrt\n",
      "  if __name__ == '__main__':\n"
     ]
    }
   ],
   "source": [
    "K = np.linspace(1.5, 10)\n",
    "z = np.linspace(1, 10)\n",
    "\n",
    "F = (α * K**(α - 1)) / (K**α - K)\n",
    "G = -(α * K**(α - 1) * (α + K**(α - 1))) / (K**α - K)\n",
    "H = (α**2 * K**(2 * (α - 1))) / (K**α - K)\n",
    "L = -(α * K**(2 * (α - 1))) / (K**α - K)\n",
    "M = (α**2 * K**(2 * (α - 1))) / (K**α - K)\n",
    "P = (-G - np.sqrt(G**2 - 4 * F @ H)) / (2 * F)\n",
    "Q = -(L * ρ_z + M) / (F * ρ_z + F @ P + G)"
   ]
  },
  {
   "cell_type": "markdown",
   "metadata": {},
   "source": [
    "## Exercise 4"
   ]
  },
  {
   "cell_type": "code",
   "execution_count": 6,
   "metadata": {},
   "outputs": [],
   "source": [
    "# Parameters\n",
    "γ = 2.5\n",
    "ξ = 1.5\n",
    "β = 0.98\n",
    "α = 0.4\n",
    "a = 0.5\n",
    "δ = 0.1\n",
    "τ = 0.05\n",
    "ρ_z = 0.9"
   ]
  },
  {
   "cell_type": "code",
   "execution_count": 8,
   "metadata": {},
   "outputs": [],
   "source": [
    "def solve_ss(params, γ, ξ, β, α, a, δ, ρ_z, τ):\n",
    "    k, l = params\n",
    "    w = (1 - α) * k**α * (l * np.exp(z))**(1 - α)  # SS wage\n",
    "    r = α * k**(α - 1) * (l * np.exp(z))**(1 - α)  # SS interest rate\n",
    "    T = τ * (w * l + (r - δ) * k)\n",
    "    c = (1 - τ) * (w * (r - δ) * k) + T\n",
    "    eq1 = β * ((r - δ) * (1 - τ) + 1) - 1\n",
    "    eq2 = c**(-γ) * w * (1 - τ) - a * (1 - l)**(-ξ)\n",
    "    return eq1, eq2"
   ]
  },
  {
   "cell_type": "code",
   "execution_count": 9,
   "metadata": {},
   "outputs": [
    {
     "data": {
      "text/plain": [
       "(6.8991246724247555, 0.9467069108153893)"
      ]
     },
     "execution_count": 9,
     "metadata": {},
     "output_type": "execute_result"
    }
   ],
   "source": [
    "ss = root(solve_ss, 0.5 * np.ones(2), args=(γ, ξ, β, α, a, δ, z, τ))\n",
    "k_bar, l_bar, = ss.x\n",
    "k_bar, l_bar"
   ]
  },
  {
   "cell_type": "code",
   "execution_count": 10,
   "metadata": {},
   "outputs": [
    {
     "data": {
      "text/plain": [
       "2.0953034383850278"
      ]
     },
     "execution_count": 10,
     "metadata": {},
     "output_type": "execute_result"
    }
   ],
   "source": [
    "y_bar = k_bar**α * l_bar**(1 - α) * np.exp(z)\n",
    "y_bar"
   ]
  },
  {
   "cell_type": "code",
   "execution_count": 11,
   "metadata": {},
   "outputs": [
    {
     "data": {
      "text/plain": [
       "0.6899124672424756"
      ]
     },
     "execution_count": 11,
     "metadata": {},
     "output_type": "execute_result"
    }
   ],
   "source": [
    "i_bar = δ * k_bar\n",
    "i_bar"
   ]
  },
  {
   "cell_type": "code",
   "execution_count": null,
   "metadata": {},
   "outputs": [],
   "source": []
  }
 ],
 "metadata": {
  "kernelspec": {
   "display_name": "Python 3",
   "language": "python",
   "name": "python3"
  },
  "language_info": {
   "codemirror_mode": {
    "name": "ipython",
    "version": 3
   },
   "file_extension": ".py",
   "mimetype": "text/x-python",
   "name": "python",
   "nbconvert_exporter": "python",
   "pygments_lexer": "ipython3",
   "version": "3.6.4"
  }
 },
 "nbformat": 4,
 "nbformat_minor": 2
}
