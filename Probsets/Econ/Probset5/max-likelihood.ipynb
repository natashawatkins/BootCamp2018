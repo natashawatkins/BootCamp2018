{
 "cells": [
  {
   "cell_type": "markdown",
   "metadata": {},
   "source": [
    "# Maximum Likelihood Estimation\n",
    "\n",
    "Natasha Watkins"
   ]
  },
  {
   "cell_type": "code",
   "execution_count": 1,
   "metadata": {},
   "outputs": [],
   "source": [
    "import pandas as pd\n",
    "import numpy as np\n",
    "import matplotlib.pyplot as plt"
   ]
  },
  {
   "cell_type": "markdown",
   "metadata": {},
   "source": [
    "## Question 1"
   ]
  },
  {
   "cell_type": "markdown",
   "metadata": {},
   "source": [
    "Part a)"
   ]
  },
  {
   "cell_type": "code",
   "execution_count": 2,
   "metadata": {},
   "outputs": [
    {
     "data": {
      "text/html": [
       "<div>\n",
       "<style scoped>\n",
       "    .dataframe tbody tr th:only-of-type {\n",
       "        vertical-align: middle;\n",
       "    }\n",
       "\n",
       "    .dataframe tbody tr th {\n",
       "        vertical-align: top;\n",
       "    }\n",
       "\n",
       "    .dataframe thead th {\n",
       "        text-align: right;\n",
       "    }\n",
       "</style>\n",
       "<table border=\"1\" class=\"dataframe\">\n",
       "  <thead>\n",
       "    <tr style=\"text-align: right;\">\n",
       "      <th></th>\n",
       "      <th>claims</th>\n",
       "    </tr>\n",
       "  </thead>\n",
       "  <tbody>\n",
       "    <tr>\n",
       "      <th>0</th>\n",
       "      <td>361.65</td>\n",
       "    </tr>\n",
       "    <tr>\n",
       "      <th>1</th>\n",
       "      <td>123.04</td>\n",
       "    </tr>\n",
       "    <tr>\n",
       "      <th>2</th>\n",
       "      <td>541.77</td>\n",
       "    </tr>\n",
       "    <tr>\n",
       "      <th>3</th>\n",
       "      <td>862.90</td>\n",
       "    </tr>\n",
       "    <tr>\n",
       "      <th>4</th>\n",
       "      <td>55.60</td>\n",
       "    </tr>\n",
       "  </tbody>\n",
       "</table>\n",
       "</div>"
      ],
      "text/plain": [
       "   claims\n",
       "0  361.65\n",
       "1  123.04\n",
       "2  541.77\n",
       "3  862.90\n",
       "4   55.60"
      ]
     },
     "execution_count": 2,
     "metadata": {},
     "output_type": "execute_result"
    }
   ],
   "source": [
    "claims = pd.read_csv('clms.txt', header=None, names=['claims'])\n",
    "claims.head()"
   ]
  },
  {
   "cell_type": "code",
   "execution_count": 3,
   "metadata": {},
   "outputs": [
    {
     "data": {
      "text/html": [
       "<div>\n",
       "<style scoped>\n",
       "    .dataframe tbody tr th:only-of-type {\n",
       "        vertical-align: middle;\n",
       "    }\n",
       "\n",
       "    .dataframe tbody tr th {\n",
       "        vertical-align: top;\n",
       "    }\n",
       "\n",
       "    .dataframe thead th {\n",
       "        text-align: right;\n",
       "    }\n",
       "</style>\n",
       "<table border=\"1\" class=\"dataframe\">\n",
       "  <thead>\n",
       "    <tr style=\"text-align: right;\">\n",
       "      <th></th>\n",
       "      <th>claims</th>\n",
       "    </tr>\n",
       "  </thead>\n",
       "  <tbody>\n",
       "    <tr>\n",
       "      <th>mean</th>\n",
       "      <td>720.277975</td>\n",
       "    </tr>\n",
       "    <tr>\n",
       "      <th>median</th>\n",
       "      <td>172.210000</td>\n",
       "    </tr>\n",
       "    <tr>\n",
       "      <th>max</th>\n",
       "      <td>227967.250000</td>\n",
       "    </tr>\n",
       "    <tr>\n",
       "      <th>min</th>\n",
       "      <td>0.010000</td>\n",
       "    </tr>\n",
       "    <tr>\n",
       "      <th>std</th>\n",
       "      <td>3972.850824</td>\n",
       "    </tr>\n",
       "  </tbody>\n",
       "</table>\n",
       "</div>"
      ],
      "text/plain": [
       "               claims\n",
       "mean       720.277975\n",
       "median     172.210000\n",
       "max     227967.250000\n",
       "min          0.010000\n",
       "std       3972.850824"
      ]
     },
     "execution_count": 3,
     "metadata": {},
     "output_type": "execute_result"
    }
   ],
   "source": [
    "claims.agg(['mean', 'median', 'max', 'min', 'std'])"
   ]
  },
  {
   "cell_type": "code",
   "execution_count": 4,
   "metadata": {},
   "outputs": [
    {
     "data": {
      "image/png": "[encoded data removed]",
      "text/plain": [
       "<matplotlib.figure.Figure at 0x10a921d68>"
      ]
     },
     "metadata": {},
     "output_type": "display_data"
    }
   ],
   "source": [
    "hist, bins = np.histogram(claims.dropna(), bins=1000)\n",
    "hist_density = hist / hist.sum()\n",
    "hist_density = hist_density / 5  # Scale properly because data points are of width 5\n",
    "plt.figure(figsize=(10, 5))\n",
    "plt.bar(np.linspace(bins.min(), bins.max(), len(hist_density)), hist_density, width=bins[1])\n",
    "plt.title('Health claims')\n",
    "plt.ylabel('Percentage')\n",
    "plt.show()"
   ]
  },
  {
   "cell_type": "code",
   "execution_count": 5,
   "metadata": {},
   "outputs": [
    {
     "data": {
      "image/png": "[encoded data removed]",
      "text/plain": [
       "<matplotlib.figure.Figure at 0x10897d240>"
      ]
     },
     "metadata": {},
     "output_type": "display_data"
    }
   ],
   "source": [
    "hist_new, bins_new = np.histogram(claims[claims <= 800].dropna(), bins=100)\n",
    "hist_new = hist_new / hist.sum()\n",
    "hist_new = hist_new / 5  # Scale properly because data points are of width 5\n",
    "plt.figure(figsize=(10, 5))\n",
    "plt.bar(bins_new[:-1], hist_new, width=bins_new[1]+0.1, align='edge')\n",
    "plt.title('Health claims less than $800')\n",
    "plt.ylabel('Percentage')\n",
    "plt.show()"
   ]
  },
  {
   "cell_type": "markdown",
   "metadata": {},
   "source": [
    "The second histogram is easier to interpret as it excludes outliers."
   ]
  },
  {
   "cell_type": "markdown",
   "metadata": {},
   "source": [
    "Part b)"
   ]
  },
  {
   "cell_type": "code",
   "execution_count": 19,
   "metadata": {},
   "outputs": [],
   "source": [
    "# Initial guesses\n",
    "β_0 = claims.var() / claims.mean()\n",
    "α_0 = claims.mean() / β_0\n",
    "X = claims.values"
   ]
  },
  {
   "cell_type": "code",
   "execution_count": 20,
   "metadata": {},
   "outputs": [],
   "source": [
    "from scipy.special import gamma\n",
    "from scipy.optimize import minimize\n",
    "\n",
    "# Log likelihood of gamma(α, β) distribution\n",
    "def logL_gamma(params, X):\n",
    "    α, β = params\n",
    "    T = len(X)\n",
    "    logL = -T * α * np.log(β) + (α - 1) * np.sum(np.log(X)) - \\\n",
    "           (1 / β) * np.sum(X) - T * gamma(α)\n",
    "    return -logL  # Return negative log-likelihood"
   ]
  },
  {
   "cell_type": "code",
   "execution_count": 21,
   "metadata": {},
   "outputs": [
    {
     "name": "stdout",
     "output_type": "stream",
     "text": [
      "α = 0.671\n",
      "β = 1072.790\n",
      "logL = -89397.302\n"
     ]
    },
    {
     "name": "stderr",
     "output_type": "stream",
     "text": [
      "/anaconda3/lib/python3.6/site-packages/ipykernel_launcher.py:8: RuntimeWarning: invalid value encountered in log\n",
      "  \n"
     ]
    }
   ],
   "source": [
    "MLE_gamma = minimize(logL_gamma, [α_0, β_0], \n",
    "                     args=X, method='Nelder-Mead')\n",
    "\n",
    "α_hat, β_hat = MLE_gamma.x\n",
    "\n",
    "# Function to plot estimated gamma(α, β) distribution\n",
    "g = lambda x, α, β: (β**(-α) * x**(α - 1) * np.exp(-x / β)) / gamma(α)\n",
    "\n",
    "print(f'α = {α_hat:.3f}')\n",
    "print(f'β = {β_hat:.3f}')\n",
    "print(f'logL = {-MLE_gamma.fun:.3f}')"
   ]
  },
  {
   "cell_type": "code",
   "execution_count": 22,
   "metadata": {},
   "outputs": [
    {
     "data": {
      "image/png": "[encoded data removed]",
      "text/plain": [
       "<matplotlib.figure.Figure at 0x10e44ca58>"
      ]
     },
     "metadata": {},
     "output_type": "display_data"
    }
   ],
   "source": [
    "plt.figure(figsize=(10, 5))\n",
    "plt.bar(bins_new[:-1], hist_new, width=bins_new[1]+0.1, align='edge')\n",
    "\n",
    "x_grid = np.linspace(1, 800, 500)\n",
    "plt.plot(x_grid, g(x_grid, α_hat, β_hat), \n",
    "         c='r', lw=2, label='Estimated gamma distribution')\n",
    "\n",
    "plt.legend()\n",
    "plt.title('Health claims less than $800')\n",
    "plt.ylabel('Percentage')\n",
    "plt.show()"
   ]
  },
  {
   "cell_type": "markdown",
   "metadata": {},
   "source": [
    "Part c)"
   ]
  },
  {
   "cell_type": "code",
   "execution_count": 23,
   "metadata": {},
   "outputs": [],
   "source": [
    "# Log likelihood of generalized gamma(α, β, m) distribution\n",
    "def logL_gamma_generalized(params, X):\n",
    "    α, β, m = params\n",
    "    T = len(X)\n",
    "    logL = T * np.log(m) - T * α * np.log(β) + (α - 1) * np.sum(np.log(X)) - \\\n",
    "            np.sum((X / β)**m) - T * gamma(α / m)\n",
    "    return -logL  # Return negative log-likelihood"
   ]
  },
  {
   "cell_type": "code",
   "execution_count": 24,
   "metadata": {},
   "outputs": [
    {
     "name": "stdout",
     "output_type": "stream",
     "text": [
      "α = 0.922\n",
      "β = 55.696\n",
      "m = 0.435\n",
      "logL = -86221.785\n"
     ]
    },
    {
     "name": "stderr",
     "output_type": "stream",
     "text": [
      "/anaconda3/lib/python3.6/site-packages/ipykernel_launcher.py:5: RuntimeWarning: invalid value encountered in log\n",
      "  \"\"\"\n",
      "/anaconda3/lib/python3.6/site-packages/ipykernel_launcher.py:5: RuntimeWarning: invalid value encountered in power\n",
      "  \"\"\"\n"
     ]
    }
   ],
   "source": [
    "MLE_gamma_ga = minimize(logL_gamma_generalized, [α_0, β_0, 1], \n",
    "                        args=X, method='Nelder-Mead')\n",
    "\n",
    "α_hat_ga, β_hat_ga, m_hat_ga = MLE_gamma_ga.x\n",
    "print(f'α = {α_hat_ga:.3f}')\n",
    "print(f'β = {β_hat_ga:.3f}')\n",
    "print(f'm = {m_hat_ga:.3f}')\n",
    "print(f'logL = {-MLE_gamma_ga.fun:.3f}')"
   ]
  },
  {
   "cell_type": "code",
   "execution_count": 25,
   "metadata": {},
   "outputs": [],
   "source": [
    "# Function to plot estimated generalized gamma distribution\n",
    "ga = lambda α, β, m, x: (m / (β**α) * x**(α - 1) * np.exp(-(x / β)**m)) / gamma(α / m)"
   ]
  },
  {
   "cell_type": "code",
   "execution_count": 26,
   "metadata": {},
   "outputs": [
    {
     "data": {
      "image/png": "[encoded data removed]",
      "text/plain": [
       "<matplotlib.figure.Figure at 0x1106e5400>"
      ]
     },
     "metadata": {},
     "output_type": "display_data"
    }
   ],
   "source": [
    "plt.figure(figsize=(10, 5))\n",
    "plt.bar(bins_new[:-1], hist_new, width=bins_new[1]+0.1, align='edge')\n",
    "\n",
    "\n",
    "plt.plot(x_grid, ga(α_hat_ga, β_hat_ga, m_hat_ga, x_grid), \n",
    "         c='r', lw=2, label='Estimated generalized gamma distribution')\n",
    "\n",
    "plt.legend()\n",
    "plt.title('Health claims less than $800')\n",
    "plt.ylabel('Percentage')\n",
    "plt.show()"
   ]
  },
  {
   "cell_type": "markdown",
   "metadata": {},
   "source": [
    "Part d)"
   ]
  },
  {
   "cell_type": "code",
   "execution_count": 27,
   "metadata": {},
   "outputs": [],
   "source": [
    "from scipy.special import beta\n",
    "\n",
    "\n",
    "# Log likelihood of GB2 distribution\n",
    "def logL_gb2(params, X):\n",
    "    a, b, p, q = params\n",
    "    T = len(X)\n",
    "    logL = T * np.log(np.abs(a)) + (a * p - 1) * np.sum(np.log(X)) - T * a * p * np.log(b) - \\\n",
    "           T * np.log(beta(p, q)) - (p + q) * np.sum(np.log(1 + (X / b)**a))\n",
    "    return -logL"
   ]
  },
  {
   "cell_type": "code",
   "execution_count": 28,
   "metadata": {},
   "outputs": [],
   "source": [
    "MLE_gb2 = minimize(logL_gb2, [α_hat_ga, β_hat_ga, m_hat_ga, 200], \n",
    "                        args=X, method='L-BFGS-B')\n",
    "\n",
    "b2 = lambda x, a, b, p, q: (np.abs(a) * x**(a * p - 1)) / (b**(a * p) * beta(p, q) * (1 + (x / b)**a)**(p + q))"
   ]
  },
  {
   "cell_type": "code",
   "execution_count": 29,
   "metadata": {},
   "outputs": [
    {
     "name": "stdout",
     "output_type": "stream",
     "text": [
      "a = -0.077\n",
      "b = 3.063\n",
      "p = 131.149\n",
      "q = 179.471\n",
      "logL = -74849.367\n"
     ]
    }
   ],
   "source": [
    "a_hat, b_hat, p_hat, q_hat = MLE_gb2.x\n",
    "print(f'a = {a_hat:.3f}')\n",
    "print(f'b = {b_hat:.3f}')\n",
    "print(f'p = {p_hat:.3f}')\n",
    "print(f'q = {q_hat:.3f}')\n",
    "print(f'logL = {-MLE_gb2.fun:.3f}')"
   ]
  },
  {
   "cell_type": "code",
   "execution_count": 30,
   "metadata": {},
   "outputs": [
    {
     "data": {
      "image/png": "[encoded data removed]",
      "text/plain": [
       "<matplotlib.figure.Figure at 0x110738cc0>"
      ]
     },
     "metadata": {},
     "output_type": "display_data"
    }
   ],
   "source": [
    "plt.figure(figsize=(10, 5))\n",
    "plt.bar(bins_new[:-1], hist_new, width=bins_new[1]+0.1, align='edge')\n",
    "\n",
    "plt.plot(x_grid, b2(x_grid, a_hat, b_hat, p_hat, q_hat), \n",
    "         c='r', lw=2, label='Estimated generalized beta distribution')\n",
    "\n",
    "plt.legend()\n",
    "plt.title('Health claims less than $800')\n",
    "plt.ylabel('Percentage')\n",
    "plt.show()"
   ]
  },
  {
   "cell_type": "markdown",
   "metadata": {},
   "source": [
    "Part e)"
   ]
  },
  {
   "cell_type": "markdown",
   "metadata": {},
   "source": [
    "Likelihood ratio test of model b)"
   ]
  },
  {
   "cell_type": "code",
   "execution_count": 18,
   "metadata": {},
   "outputs": [
    {
     "data": {
      "text/plain": [
       "0.0"
      ]
     },
     "execution_count": 18,
     "metadata": {},
     "output_type": "execute_result"
    }
   ],
   "source": [
    "from scipy.stats import chi2\n",
    "\n",
    "lr1 = 2 * (MLE_gamma.fun - MLE_gb2.fun)\n",
    "1 - chi2.cdf(lr1, 4)"
   ]
  },
  {
   "cell_type": "markdown",
   "metadata": {},
   "source": [
    "Likelihood ratio test of model c)"
   ]
  },
  {
   "cell_type": "code",
   "execution_count": 19,
   "metadata": {},
   "outputs": [
    {
     "data": {
      "text/plain": [
       "0.0"
      ]
     },
     "execution_count": 19,
     "metadata": {},
     "output_type": "execute_result"
    }
   ],
   "source": [
    "lr2 = 2 * (MLE_gamma_ga.fun - MLE_gb2.fun)\n",
    "1 - chi2.cdf(lr2, 4)"
   ]
  },
  {
   "cell_type": "markdown",
   "metadata": {},
   "source": [
    "Part f)"
   ]
  },
  {
   "cell_type": "code",
   "execution_count": 20,
   "metadata": {
    "scrolled": true
   },
   "outputs": [
    {
     "data": {
      "text/plain": [
       "0.13089551962909102"
      ]
     },
     "execution_count": 20,
     "metadata": {},
     "output_type": "execute_result"
    }
   ],
   "source": [
    "from scipy.integrate import quad\n",
    "\n",
    "quad(b2, 1000, np.inf, args=(a_hat, b_hat, p_hat, q_hat))[0]"
   ]
  },
  {
   "cell_type": "markdown",
   "metadata": {},
   "source": [
    "On average, 13% of claims are over $1000 (using the generalized beta distribution)."
   ]
  },
  {
   "cell_type": "code",
   "execution_count": 21,
   "metadata": {},
   "outputs": [
    {
     "data": {
      "text/plain": [
       "0.24621473849448997"
      ]
     },
     "execution_count": 21,
     "metadata": {},
     "output_type": "execute_result"
    }
   ],
   "source": [
    "quad(g, 1000, np.inf, args=(α_hat, β_hat))[0]"
   ]
  },
  {
   "cell_type": "markdown",
   "metadata": {},
   "source": [
    "On average, 25% of claims are over $1000 (using the gamma distribution)."
   ]
  },
  {
   "cell_type": "markdown",
   "metadata": {},
   "source": [
    "## Exercise 2"
   ]
  },
  {
   "cell_type": "markdown",
   "metadata": {},
   "source": [
    "Part a)"
   ]
  },
  {
   "cell_type": "code",
   "execution_count": 22,
   "metadata": {},
   "outputs": [],
   "source": [
    "macro = pd.read_csv('MacroSeries.txt', header=None,\n",
    "                    names=['c', 'k', 'w', 'r', 'y'])\n",
    "\n",
    "β = 0.99"
   ]
  },
  {
   "cell_type": "code",
   "execution_count": 23,
   "metadata": {},
   "outputs": [],
   "source": [
    "def logL_fixed(params, w, k):\n",
    "    \n",
    "    α, μ, ρ, σ = params  # Unpack parameters\n",
    "    \n",
    "    z = np.log(w / ((1 - α) * k**α))\n",
    "    \n",
    "    T = z.size\n",
    "    ɛ = z[1:] - ((1 - ρ) * μ  + ρ * z[:-1])  # calculate z - z_hat\n",
    "    \n",
    "    # Return the negative of the log-likelihood\n",
    "    return (T - 2) / 2 * np.log(2 * np.pi * σ**2) + 1/(2 * σ**2) * np.sum(ɛ**2)"
   ]
  },
  {
   "cell_type": "code",
   "execution_count": 24,
   "metadata": {},
   "outputs": [
    {
     "name": "stdout",
     "output_type": "stream",
     "text": [
      "α = 0.553\n",
      "μ = 8.106\n",
      "ρ = 0.825\n",
      "σ = 0.094\n",
      "logL = -92.951\n"
     ]
    }
   ],
   "source": [
    "w = macro.w.values\n",
    "k = macro.k.values\n",
    "\n",
    "macro_MLE = minimize(logL_fixed, np.ones(4), args=(w, k), method='L-BFGS-B', \n",
    "                     bounds=((1e-3, 0.99), (None, None), (-0.99, 0.99), (1e-3, None)))\n",
    "α_hat, μ_hat, ρ_hat, σ_hat = macro_MLE.x\n",
    "print(f'α = {α_hat:.3f}')\n",
    "print(f'μ = {μ_hat:.3f}')\n",
    "print(f'ρ = {ρ_hat:.3f}')\n",
    "print(f'σ = {σ_hat:.3f}')\n",
    "print(f'logL = {macro_MLE.fun:.3f}')"
   ]
  },
  {
   "cell_type": "markdown",
   "metadata": {},
   "source": [
    "Part b)"
   ]
  },
  {
   "cell_type": "code",
   "execution_count": 25,
   "metadata": {},
   "outputs": [],
   "source": [
    "r = macro.r.values\n",
    "\n",
    "def logL_fixed2(params, r, k):\n",
    "    \n",
    "    α, μ, ρ, σ = params  # Unpack parameters\n",
    "    \n",
    "    z = np.log(r / (α * k**(α - 1)))\n",
    "    \n",
    "    T = z.size\n",
    "    ɛ = z[1:] - ((1 - ρ) * μ  + ρ * z[:-1])  # calculate z - z_hat\n",
    "    \n",
    "    # Return the negative of the log-likelihood\n",
    "    return (T - 1) / 2 * np.log(2 * np.pi * σ**2) + 1/(2 * σ**2) * np.sum(ɛ**2)"
   ]
  },
  {
   "cell_type": "code",
   "execution_count": 26,
   "metadata": {},
   "outputs": [
    {
     "name": "stdout",
     "output_type": "stream",
     "text": [
      "α = 0.553\n",
      "μ = 7.570\n",
      "ρ = 0.825\n",
      "σ = 0.093\n",
      "logL = -94.402\n"
     ]
    }
   ],
   "source": [
    "macro_MLE2 = minimize(logL_fixed2, 1.5 * np.ones(4), args=(r, k), method='L-BFGS-B', \n",
    "                     bounds=((1e-3, 0.99), (1e-3, None), (-0.99, 0.99), (1e-3, 1e3)))\n",
    "α_hat, μ_hat, ρ_hat, σ_hat = macro_MLE2.x\n",
    "print(f'α = {α_hat:.3f}')\n",
    "print(f'μ = {μ_hat:.3f}')\n",
    "print(f'ρ = {ρ_hat:.3f}')\n",
    "print(f'σ = {σ_hat:.3f}')\n",
    "print(f'logL = {macro_MLE2.fun:.3f}')"
   ]
  },
  {
   "cell_type": "markdown",
   "metadata": {},
   "source": [
    "Part c)"
   ]
  },
  {
   "cell_type": "code",
   "execution_count": 27,
   "metadata": {},
   "outputs": [
    {
     "data": {
      "text/plain": [
       "1.0"
      ]
     },
     "execution_count": 27,
     "metadata": {},
     "output_type": "execute_result"
    }
   ],
   "source": [
    "from scipy.stats import norm\n",
    "\n",
    "k = 7_500_000\n",
    "r = 1\n",
    "z_prime = np.log(r / (α_hat * k**(α_hat - 1)))\n",
    "z = 10\n",
    "\n",
    "1 - norm(loc=(ρ_hat * z + (1 - ρ_hat) * μ_hat), scale=σ_hat).cdf(z_prime)"
   ]
  },
  {
   "cell_type": "markdown",
   "metadata": {},
   "source": [
    "The probability that the interest rate is greater than 1 is close to 1"
   ]
  },
  {
   "cell_type": "code",
   "execution_count": null,
   "metadata": {},
   "outputs": [],
   "source": []
  }
 ],
 "metadata": {
  "kernelspec": {
   "display_name": "Python 3",
   "language": "python",
   "name": "python3"
  },
  "language_info": {
   "codemirror_mode": {
    "name": "ipython",
    "version": 3
   },
   "file_extension": ".py",
   "mimetype": "text/x-python",
   "name": "python",
   "nbconvert_exporter": "python",
   "pygments_lexer": "ipython3",
   "version": "3.6.4"
  }
 },
 "nbformat": 4,
 "nbformat_minor": 2
}
