{
 "cells": [
  {
   "cell_type": "markdown",
   "metadata": {},
   "source": [
    "# OLG Homework\n",
    "\n",
    "Natasha Watkins"
   ]
  },
  {
   "cell_type": "code",
   "execution_count": 11,
   "metadata": {},
   "outputs": [],
   "source": [
    "import numpy as np\n",
    "from scipy.optimize import root\n",
    "import matplotlib.pyplot as plt\n",
    "import time"
   ]
  },
  {
   "cell_type": "markdown",
   "metadata": {},
   "source": [
    "### Exercise 2.1"
   ]
  },
  {
   "cell_type": "code",
   "execution_count": 12,
   "metadata": {},
   "outputs": [],
   "source": [
    "β = 0.442\n",
    "δ = 0.6415\n",
    "σ = 3\n",
    "A = 1\n",
    "α = 0.35\n",
    "\n",
    "nvec = np.array([1, 1, 0.2])\n",
    "n1, n2, n3 = nvec\n",
    "\n",
    "f_params = (nvec, A, α, δ)\n",
    "bvec_guess = np.array([1.0, 2.0])\n",
    "\n",
    "u = lambda c: (c**(1 - σ) - 1) / (1 - σ)   # CRRA utility\n",
    "u_prime = lambda c: c**(-σ)                # First derivative of u"
   ]
  },
  {
   "cell_type": "code",
   "execution_count": 13,
   "metadata": {},
   "outputs": [],
   "source": [
    "w = lambda α, A, L, K: (1 - α) * A * (K / L)**α\n",
    "r = lambda α, A, L, K, δ: α * A * (L / K)**(1 - α) - δ"
   ]
  },
  {
   "cell_type": "code",
   "execution_count": 14,
   "metadata": {},
   "outputs": [],
   "source": [
    "def feasible(f_params, bvec_guess):\n",
    "    \n",
    "    nvec, A, α, δ = f_params  # Unpack parameters\n",
    "    K = np.sum(bvec_guess)    # Total capital\n",
    "    L = np.sum(nvec)          # Total labour\n",
    "    \n",
    "    b_cnstr, c_cnstr = np.zeros(2, dtype=bool), np.empty(3, dtype=bool)\n",
    "    K_cnstr = np.zeros(1, dtype=bool)  # Default to False\n",
    "    \n",
    "    K_cnstr[0] = K <= 0\n",
    "    \n",
    "    w_t = w(α, A, L, K)     # Equilibrium wage rate\n",
    "    r_t = r(α, A, L, K, δ)  # Equilibrium interest rate\n",
    "            \n",
    "    c1 = nvec[0] * w_t - bvec_guess[0]\n",
    "    c2 = nvec[1] * w_t + (1 + r_t) * bvec_guess[0] - bvec_guess[1]\n",
    "    c3 = nvec[2] * w_t + (1 + r_t) * bvec_guess[1]\n",
    "    \n",
    "    c = np.array([c1, c2, c3])  # Consumption path\n",
    "    c_cnstr = c <= 0\n",
    "    \n",
    "    if c_cnstr[0]:              # If c1 <= 0\n",
    "        b_cnstr[0] = True\n",
    "    elif c_cnstr[1]:            # If c2 <= 0, set both elements to true\n",
    "        b_cnstr[:] = True\n",
    "    elif c_cnstr[2]:            # If c3 <= 0\n",
    "        b_cnstr[1] = True\n",
    "    \n",
    "    return b_cnstr, c_cnstr, K_cnstr"
   ]
  },
  {
   "cell_type": "markdown",
   "metadata": {},
   "source": [
    "**Question a)**"
   ]
  },
  {
   "cell_type": "code",
   "execution_count": 15,
   "metadata": {},
   "outputs": [
    {
     "data": {
      "text/plain": [
       "(array([ True, False]), array([ True, False, False]), array([False]))"
      ]
     },
     "execution_count": 15,
     "metadata": {},
     "output_type": "execute_result"
    }
   ],
   "source": [
    "bvec_guess = np.array([1.0, 1.2])\n",
    "feasible(f_params, bvec_guess)"
   ]
  },
  {
   "cell_type": "markdown",
   "metadata": {},
   "source": [
    "The time-1 budget constraint is violated."
   ]
  },
  {
   "cell_type": "markdown",
   "metadata": {},
   "source": [
    "**Question b)**"
   ]
  },
  {
   "cell_type": "code",
   "execution_count": 16,
   "metadata": {},
   "outputs": [
    {
     "data": {
      "text/plain": [
       "(array([False, False]), array([False, False, False]), array([False]))"
      ]
     },
     "execution_count": 16,
     "metadata": {},
     "output_type": "execute_result"
    }
   ],
   "source": [
    "bvec_guess = np.array([0.06, -0.001])\n",
    "feasible(f_params, bvec_guess)"
   ]
  },
  {
   "cell_type": "markdown",
   "metadata": {},
   "source": [
    "No budget constraints are violated."
   ]
  },
  {
   "cell_type": "markdown",
   "metadata": {},
   "source": [
    "**Question c)**"
   ]
  },
  {
   "cell_type": "code",
   "execution_count": 17,
   "metadata": {},
   "outputs": [
    {
     "data": {
      "text/plain": [
       "(array([False, False]), array([False, False, False]), array([False]))"
      ]
     },
     "execution_count": 17,
     "metadata": {},
     "output_type": "execute_result"
    }
   ],
   "source": [
    "bvec_guess = np.array([0.1, 0.1])\n",
    "feasible(f_params, bvec_guess)"
   ]
  },
  {
   "cell_type": "markdown",
   "metadata": {},
   "source": [
    "No budget constraints are violated."
   ]
  },
  {
   "cell_type": "markdown",
   "metadata": {},
   "source": [
    "### Exercise 2.2\n",
    "\n",
    "**Part a)**"
   ]
  },
  {
   "cell_type": "code",
   "execution_count": 18,
   "metadata": {},
   "outputs": [],
   "source": [
    "euler_b2 = lambda w, r, b2, b3: u_prime(n1 * w - b2) - \\\n",
    "           β * (1 + r) * u_prime(n2 * w + (1 + r) * b2 - b3)\n",
    "euler_b3 = lambda w, r, b2, b3: u_prime(n2 * w + (1 + r) * b2 - b3) - \\\n",
    "           β * (1 + r) * u_prime((1 + r) * b3 + n3 * w)"
   ]
  },
  {
   "cell_type": "code",
   "execution_count": 19,
   "metadata": {},
   "outputs": [],
   "source": [
    "SS_tol = 1e-5\n",
    "params = (β, σ, nvec, A, α, δ, SS_tol)\n",
    "\n",
    "def get_SS(params, bvec_guess, SS_graphs=False):\n",
    "    \n",
    "    start_time = time.clock()  # Start timing\n",
    "    \n",
    "    β, σ, nvec, A, α, δ, SS_tol = params\n",
    "    n1, n2, n3 = nvec  # Labour supply in each period\n",
    "    L = np.sum(nvec)   # Total labour supply\n",
    "    \n",
    "    def equations(bvec):\n",
    "        b2, b3 = bvec\n",
    "        K = np.sum(bvec)        # Total capital\n",
    "        w_t = w(α, A, L, K)     # Equilibrium wage rate\n",
    "        r_t = r(α, A, L, K, δ)  # Equilibrium interest rate\n",
    "        eq1 = euler_b2(w_t, r_t, b2, b3)\n",
    "        eq2 = euler_b3(w_t, r_t, b2, b3)\n",
    "        return eq1, eq2\n",
    "    \n",
    "    b_ss = root(equations, x0=bvec_guess, tol=SS_tol).x  # Solve for steady state b\n",
    "    K_ss = np.sum(b_ss)         # Steady state capital\n",
    "    w_ss = w(α, A, L, K_ss)     # Steady state wage\n",
    "    r_ss = r(α, A, L, K_ss, δ)  # Steady state interest rate\n",
    "    \n",
    "    # Back out consumption path\n",
    "    c_1 = n1 * w_ss - b_ss[0]\n",
    "    c_2 = n2 * w_ss + (1 + r_ss) * b_ss[0] - b_ss[1]\n",
    "    c_3 = n3 * w_ss + (1 + r_ss) * b_ss[1]\n",
    "    c_ss = np.array([c_1, c_2, c_3])  # Steady state consumption path\n",
    "    C_ss = c_ss.sum()                 # Total steady state consumption\n",
    "    \n",
    "    # Back out steady state investment path\n",
    "    I_ss = (b_ss[1] - (1 - δ) * b_ss[0]).sum()\n",
    "    \n",
    "    Y_ss = C_ss + I_ss  # Total output\n",
    "    \n",
    "    # Euler errors\n",
    "    EulErr_ss = β * (1 + r_ss) * u_prime(c_ss[1:]) - u_prime(c_ss[:-1])\n",
    "\n",
    "    # Resource contraint error\n",
    "    RCerr_ss = Y_ss - C_ss - δ * K_ss\n",
    "\n",
    "    ss_time = time.clock() - start_time  # Stop timing\n",
    "    \n",
    "    ss_output = {'b_ss': b_ss, 'c_ss': c_ss, 'w_ss': w_ss, 'r_ss': r_ss,\n",
    "                 'K_ss': K_ss, 'Y_ss': Y_ss, 'C_ss': C_ss,\n",
    "                 'EulErr_ss': EulErr_ss, 'RCerr_ss': RCerr_ss,\n",
    "                 'ss_time': ss_time}\n",
    "    \n",
    "    if SS_graphs:\n",
    "        fig, axes = plt.subplots(1, 2, figsize=(12, 4))\n",
    "        axes[0].bar(range(2, 4), b_ss)\n",
    "        axes[0].set(xticks=([2, 3]), xlabel='State', title='Steady state $b_t$')\n",
    "        axes[1].bar(range(1, 4), c_ss)\n",
    "        axes[1].set(xticks=([1, 2, 3]), xlabel='State', title='Steady state $c_t$')\n",
    "        plt.tight_layout()\n",
    "        plt.show()\n",
    "    \n",
    "    return ss_output"
   ]
  },
  {
   "cell_type": "code",
   "execution_count": 20,
   "metadata": {},
   "outputs": [
    {
     "data": {
      "text/plain": [
       "{'C_ss': 0.6329006782167177,\n",
       " 'EulErr_ss': array([ 4.50781670e-06, -8.92472291e-06]),\n",
       " 'K_ss': 0.0777236279220895,\n",
       " 'RCerr_ss': 0.0016278487132806718,\n",
       " 'Y_ss': 0.6843882342420188,\n",
       " 'b_ss': array([0.01931253, 0.0584111 ]),\n",
       " 'c_ss': array([0.18241213, 0.20961468, 0.24087387]),\n",
       " 'r_ss': 2.433062283358659,\n",
       " 'ss_time': 0.0005409999999996806,\n",
       " 'w_ss': 0.20172465936076353}"
      ]
     },
     "execution_count": 20,
     "metadata": {},
     "output_type": "execute_result"
    }
   ],
   "source": [
    "ss = get_SS(params, np.array([0.1, 0.1]))\n",
    "ss"
   ]
  },
  {
   "cell_type": "markdown",
   "metadata": {},
   "source": [
    "**Part b)**"
   ]
  },
  {
   "cell_type": "code",
   "execution_count": 21,
   "metadata": {},
   "outputs": [
    {
     "data": {
      "image/png": "[encoded data removed]",
      "text/plain": [
       "<matplotlib.figure.Figure at 0x106455438>"
      ]
     },
     "metadata": {},
     "output_type": "display_data"
    }
   ],
   "source": [
    "ss = get_SS(params, np.array([0.1, 0.1]), SS_graphs=True)"
   ]
  },
  {
   "cell_type": "markdown",
   "metadata": {},
   "source": [
    "**Part c)**"
   ]
  },
  {
   "cell_type": "code",
   "execution_count": 22,
   "metadata": {},
   "outputs": [
    {
     "data": {
      "text/plain": [
       "{'C_ss': 0.691284290244305,\n",
       " 'EulErr_ss': array([6.82726977e-08, 2.51137209e-08]),\n",
       " 'K_ss': 0.10504237016721853,\n",
       " 'RCerr_ss': -0.0006206546125954587,\n",
       " 'Y_ss': 0.7580483160939803,\n",
       " 'b_ss': array([0.02817692, 0.07686545]),\n",
       " 'c_ss': array([0.19597528, 0.22861594, 0.26669307]),\n",
       " 'r_ss': 1.8863765066381661,\n",
       " 'ss_time': 0.00030200000000002447,\n",
       " 'w_ss': 0.2241521958905792}"
      ]
     },
     "execution_count": 22,
     "metadata": {},
     "output_type": "execute_result"
    }
   ],
   "source": [
    "β = 0.55\n",
    "params = (β, σ, nvec, A, α, δ, SS_tol)\n",
    "get_SS(params, np.array([0.1, 0.1]))"
   ]
  },
  {
   "cell_type": "markdown",
   "metadata": {},
   "source": [
    "A higher $\\beta$ increases consumption and investment in every period. The equilibrium wage rate is higher, while the interest rate is lower.\n",
    "\n",
    "Increasing $\\beta$ results in an receiving greater utility from comsumption in the future than previously, and therefore is likely to consume less today and save a greater proportion of income, resulting in greater investment and a higher steady state capital level."
   ]
  },
  {
   "cell_type": "markdown",
   "metadata": {},
   "source": [
    "### Problem 2.3"
   ]
  },
  {
   "cell_type": "code",
   "execution_count": 35,
   "metadata": {},
   "outputs": [],
   "source": [
    "T = 30\n",
    "β = 0.442\n",
    "δ = 0.6415\n",
    "σ = 3\n",
    "A = 1\n",
    "α = 0.35\n",
    "nvec = np.array([1, 1, 0.2])\n",
    "n1, n2, n3 = nvec\n",
    "L = np.sum(nvec)\n",
    "bbar2, bbar3 = ss['b_ss']\n",
    "Kbar = ss['K_ss']                     # Steady state capital\n",
    "\n",
    "b21, b31 = 0.8 * bbar2, 1.1 * bbar3\n",
    "K1 = b21 + b31\n",
    "\n",
    "euler_b2 = lambda w1, w2, r2, b2, b3: u_prime(n1 * w1 - b2) - \\\n",
    "           β * (1 + r2) * u_prime(n2 * w2 + (1 + r2) * b2 - b3)\n",
    "euler_b3 = lambda w2, w3, r2, r3, b2, b3: u_prime(n2 * w2 + (1 + r2) * b2 - b3) - \\\n",
    "           β * (1 + r3) * u_prime((1 + r3) * b3 + n3 * w3)"
   ]
  },
  {
   "cell_type": "code",
   "execution_count": 36,
   "metadata": {},
   "outputs": [],
   "source": [
    "def find_b2t2_b3t3(bvec, w1, w2, w3, r2, r3):\n",
    "    \n",
    "    b2t2, b3t3 = bvec\n",
    "    \n",
    "    e1 = euler_b2(w1, w2, r2, b2t2, b3t3)\n",
    "    e2 = euler_b3(w2, w3, r2, r3, b2t2, b3t3)\n",
    "    \n",
    "    return np.array([e1, e2]).flatten()"
   ]
  },
  {
   "cell_type": "code",
   "execution_count": 161,
   "metadata": {},
   "outputs": [],
   "source": [
    "def update_bmat(b21, b31, K, bmat, T, m):\n",
    "        \n",
    "    w_t = w(α, A, L, K)\n",
    "    r_t = r(α, A, L, K, δ)\n",
    "    \n",
    "    for t in range(1, T+m-2):\n",
    "        \n",
    "        w1, w2, w3 = w_t[t-1], w_t[t], w_t[t+1]\n",
    "        r2, r3 = r_t[t], r_t[t+1]\n",
    "        \n",
    "        b2t1 = bmat[t-1, 0]\n",
    "        b3t1 = bmat[t-1, 1]\n",
    "        b3t2 = bmat[t, 1]\n",
    "        b2t2, b3t3 = root(find_b2t2_b3t3, \n",
    "                          np.zeros(2), \n",
    "                          args=(w1, w2, w3, r2, r3)).x\n",
    "        bmat[t, 0] = b2t2\n",
    "        bmat[t+1, 1] = b3t3\n",
    "        \n",
    "    return bmat"
   ]
  },
  {
   "cell_type": "code",
   "execution_count": 162,
   "metadata": {},
   "outputs": [],
   "source": [
    "def find_b32(b32, b21, w1, w2, r1, r2):\n",
    "    return euler_b3(w1, w2, r1, r2, b21, b32)"
   ]
  },
  {
   "cell_type": "code",
   "execution_count": 163,
   "metadata": {},
   "outputs": [],
   "source": [
    "def find_ss_path(b21, b31, T, ξ=0.2, ɛ=1e-9, max_iter=100):\n",
    "    \n",
    "    m = 3\n",
    "    dist = 1e3\n",
    "    i = 0\n",
    "    K = np.linspace(K1, Kbar, T+m)     # Initial guess at K\n",
    "    \n",
    "    # Initialise a matrix to store b's\n",
    "    bmat = np.zeros((T+m, 2))\n",
    "    bmat[0, :] = b21, b31\n",
    "    \n",
    "    # Solve for the value of b32\n",
    "\n",
    "    w_t = w(α, A, L, K)\n",
    "    r_t = r(α, A, L, K, δ)\n",
    "\n",
    "    bmat[1, 1] = root(find_b32, 0, args=(b21, w_t[0], w_t[1], r_t[0], r_t[1])).x\n",
    "    \n",
    "    while (i < max_iter) and (dist > ɛ):        \n",
    "        bmat = update_bmat(b21, b31, K, bmat, T, m)\n",
    "        K_prime = bmat.sum(axis=1)\n",
    "        dist = ((K_prime - K)**2).sum()\n",
    "        K = ξ * K_prime + (1 - ξ) * K\n",
    "        i += 1\n",
    "     \n",
    "    if dist < ɛ:\n",
    "        print(f'Converged in {i} iterations')\n",
    "    else:\n",
    "        print('Did not converge')\n",
    "    \n",
    "    return K[:-m], bmat[:-1]  # Solved past the steady state"
   ]
  },
  {
   "cell_type": "code",
   "execution_count": 164,
   "metadata": {},
   "outputs": [
    {
     "name": "stdout",
     "output_type": "stream",
     "text": [
      "Converged in 44 iterations\n"
     ]
    }
   ],
   "source": [
    "K_star = find_ss_path(b21, b31, 20)"
   ]
  },
  {
   "cell_type": "code",
   "execution_count": 165,
   "metadata": {},
   "outputs": [
    {
     "data": {
      "image/png": "[encoded data removed]",
      "text/plain": [
       "<matplotlib.figure.Figure at 0x15106e3860>"
      ]
     },
     "metadata": {},
     "output_type": "display_data"
    }
   ],
   "source": [
    "plt.plot(K_star[0])\n",
    "plt.show()"
   ]
  },
  {
   "cell_type": "code",
   "execution_count": 166,
   "metadata": {},
   "outputs": [
    {
     "data": {
      "text/plain": [
       "array([[0.01545002, 0.06425221],\n",
       "       [0.0202736 , 0.05561004],\n",
       "       [0.01875105, 0.05907837],\n",
       "       [0.01943275, 0.05787443],\n",
       "       [0.01920357, 0.05846354],\n",
       "       [0.01931966, 0.05829506],\n",
       "       [0.01928836, 0.05840168],\n",
       "       [0.01930975, 0.05838316],\n",
       "       [0.01930668, 0.05840496],\n",
       "       [0.01931121, 0.05840505],\n",
       "       [0.01931144, 0.0584103 ],\n",
       "       [0.01931257, 0.05841137],\n",
       "       [0.01931284, 0.05841277],\n",
       "       [0.01931314, 0.05841322],\n",
       "       [0.01931323, 0.05841352],\n",
       "       [0.01931329, 0.05841357],\n",
       "       [0.01931328, 0.05841353],\n",
       "       [0.01931319, 0.05841339],\n",
       "       [0.01931147, 0.05841286],\n",
       "       [0.0192705 , 0.05840319],\n",
       "       [0.01828807, 0.05817081],\n",
       "       [0.        , 0.05254753]])"
      ]
     },
     "execution_count": 166,
     "metadata": {},
     "output_type": "execute_result"
    }
   ],
   "source": [
    "K_star[1]"
   ]
  },
  {
   "cell_type": "code",
   "execution_count": 81,
   "metadata": {},
   "outputs": [
    {
     "data": {
      "text/plain": [
       "array([0.07970223, 0.07588206, 0.0778295 , 0.07730765, 0.07766859,\n",
       "       0.07761702, 0.0776931 , 0.07769654, 0.07771559, 0.07772032,\n",
       "       0.0777257 , 0.07772769, 0.07772906, 0.07772946, 0.0777295 ,\n",
       "       0.07772916, 0.07772673, 0.0776762 , 0.07646408])"
      ]
     },
     "execution_count": 81,
     "metadata": {},
     "output_type": "execute_result"
    }
   ],
   "source": [
    "K_star[0]"
   ]
  },
  {
   "cell_type": "code",
   "execution_count": null,
   "metadata": {},
   "outputs": [],
   "source": []
  }
 ],
 "metadata": {
  "kernelspec": {
   "display_name": "Python 3",
   "language": "python",
   "name": "python3"
  },
  "language_info": {
   "codemirror_mode": {
    "name": "ipython",
    "version": 3
   },
   "file_extension": ".py",
   "mimetype": "text/x-python",
   "name": "python",
   "nbconvert_exporter": "python",
   "pygments_lexer": "ipython3",
   "version": "3.6.4"
  }
 },
 "nbformat": 4,
 "nbformat_minor": 2
}
