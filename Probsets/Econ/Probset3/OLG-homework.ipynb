{
 "cells": [
  {
   "cell_type": "markdown",
   "metadata": {},
   "source": [
    "# OLG Homework\n",
    "\n",
    "Natasha Watkins"
   ]
  },
  {
   "cell_type": "code",
   "execution_count": 286,
   "metadata": {},
   "outputs": [],
   "source": [
    "import numpy as np\n",
    "from scipy.optimize import root\n",
    "import matplotlib.pyplot as plt\n",
    "import time"
   ]
  },
  {
   "cell_type": "markdown",
   "metadata": {},
   "source": [
    "### Exercise 2.1"
   ]
  },
  {
   "cell_type": "code",
   "execution_count": 287,
   "metadata": {},
   "outputs": [],
   "source": [
    "β = 0.442\n",
    "δ = 0.6415\n",
    "σ = 3\n",
    "A = 1\n",
    "α = 0.35\n",
    "\n",
    "nvec = np.array([1, 1, 0.2])\n",
    "n1, n2, n3 = nvec\n",
    "\n",
    "f_params = (nvec, A, α, δ)\n",
    "bvec_guess = np.array([1.0, 2.0])\n",
    "\n",
    "u = lambda c: (c**(1 - σ) - 1) / (1 - σ)   # CRRA utility\n",
    "u_prime = lambda c: c**(-σ)                # First derivative of u"
   ]
  },
  {
   "cell_type": "code",
   "execution_count": 288,
   "metadata": {},
   "outputs": [],
   "source": [
    "w = lambda α, A, L, K: (1 - α) * A * (K / L)**α\n",
    "r = lambda α, A, L, K, δ: α * A * (L / K)**(1 - α) - δ"
   ]
  },
  {
   "cell_type": "code",
   "execution_count": 289,
   "metadata": {},
   "outputs": [],
   "source": [
    "def feasible(f_params, bvec_guess):\n",
    "    \n",
    "    nvec, A, α, δ = f_params  # Unpack parameters\n",
    "    K = np.sum(bvec_guess)    # Total capital\n",
    "    L = np.sum(nvec)          # Total labour\n",
    "    \n",
    "    b_cnstr, c_cnstr = np.zeros(2, dtype=bool), np.empty(3, dtype=bool)\n",
    "    K_cnstr = np.zeros(1, dtype=bool)  # Default to False\n",
    "    \n",
    "    K_cnstr[0] = K <= 0\n",
    "    \n",
    "    w_t = w(α, A, L, K)     # Equilibrium wage rate\n",
    "    r_t = r(α, A, L, K, δ)  # Equilibrium interest rate\n",
    "            \n",
    "    c1 = nvec[0] * w_t - bvec_guess[0]\n",
    "    c2 = nvec[1] * w_t + (1 + r_t) * bvec_guess[0] - bvec_guess[1]\n",
    "    c3 = nvec[2] * w_t + (1 + r_t) * bvec_guess[1]\n",
    "    \n",
    "    c = np.array([c1, c2, c3])  # Consumption path\n",
    "    c_cnstr = c <= 0\n",
    "    \n",
    "    if c_cnstr[0]:              # If c1 <= 0\n",
    "        b_cnstr[0] = True\n",
    "    elif c_cnstr[1]:            # If c2 <= 0, set both elements to true\n",
    "        b_cnstr[:] = True\n",
    "    elif c_cnstr[2]:            # If c3 <= 0\n",
    "        b_cnstr[1] = True\n",
    "    \n",
    "    return b_cnstr, c_cnstr, K_cnstr"
   ]
  },
  {
   "cell_type": "markdown",
   "metadata": {},
   "source": [
    "**Question a)**"
   ]
  },
  {
   "cell_type": "code",
   "execution_count": 290,
   "metadata": {},
   "outputs": [
    {
     "data": {
      "text/plain": [
       "(array([ True, False]), array([ True, False, False]), array([False]))"
      ]
     },
     "execution_count": 290,
     "metadata": {},
     "output_type": "execute_result"
    }
   ],
   "source": [
    "bvec_guess = np.array([1.0, 1.2])\n",
    "feasible(f_params, bvec_guess)"
   ]
  },
  {
   "cell_type": "markdown",
   "metadata": {},
   "source": [
    "The time-1 budget constraint is violated."
   ]
  },
  {
   "cell_type": "markdown",
   "metadata": {},
   "source": [
    "**Question b)**"
   ]
  },
  {
   "cell_type": "code",
   "execution_count": 291,
   "metadata": {},
   "outputs": [
    {
     "data": {
      "text/plain": [
       "(array([False, False]), array([False, False, False]), array([False]))"
      ]
     },
     "execution_count": 291,
     "metadata": {},
     "output_type": "execute_result"
    }
   ],
   "source": [
    "bvec_guess = np.array([0.06, -0.001])\n",
    "feasible(f_params, bvec_guess)"
   ]
  },
  {
   "cell_type": "markdown",
   "metadata": {},
   "source": [
    "No budget constraints are violated."
   ]
  },
  {
   "cell_type": "markdown",
   "metadata": {},
   "source": [
    "**Question c)**"
   ]
  },
  {
   "cell_type": "code",
   "execution_count": 292,
   "metadata": {},
   "outputs": [
    {
     "data": {
      "text/plain": [
       "(array([False, False]), array([False, False, False]), array([False]))"
      ]
     },
     "execution_count": 292,
     "metadata": {},
     "output_type": "execute_result"
    }
   ],
   "source": [
    "bvec_guess = np.array([0.1, 0.1])\n",
    "feasible(f_params, bvec_guess)"
   ]
  },
  {
   "cell_type": "markdown",
   "metadata": {},
   "source": [
    "No budget constraints are violated."
   ]
  },
  {
   "cell_type": "markdown",
   "metadata": {},
   "source": [
    "### Exercise 2.2\n",
    "\n",
    "**Part a)**"
   ]
  },
  {
   "cell_type": "code",
   "execution_count": 293,
   "metadata": {},
   "outputs": [],
   "source": [
    "euler_b2 = lambda w, r, b2, b3: u_prime(n1 * w - b2) - \\\n",
    "           β * (1 + r) * u_prime(n2 * w + (1 + r) * b2 - b3)\n",
    "euler_b3 = lambda w, r, b2, b3: u_prime(n2 * w + (1 + r) * b2 - b3) - \\\n",
    "           β * (1 + r) * u_prime((1 + r) * b3 + n3 * w)"
   ]
  },
  {
   "cell_type": "code",
   "execution_count": 294,
   "metadata": {},
   "outputs": [],
   "source": [
    "SS_tol = 1e-8\n",
    "params = (β, σ, nvec, A, α, δ, SS_tol)\n",
    "\n",
    "def get_SS(params, bvec_guess, SS_graphs=False):\n",
    "    \n",
    "    start_time = time.clock()  # Start timing\n",
    "    \n",
    "    β, σ, nvec, A, α, δ, SS_tol = params\n",
    "    n1, n2, n3 = nvec  # Labour supply in each period\n",
    "    L = np.sum(nvec)   # Total labour supply\n",
    "    \n",
    "    def equations(bvec):\n",
    "        b2, b3 = bvec\n",
    "        K = np.sum(bvec)        # Total capital\n",
    "        w_t = w(α, A, L, K)     # Equilibrium wage rate\n",
    "        r_t = r(α, A, L, K, δ)  # Equilibrium interest rate\n",
    "        eq1 = euler_b2(w_t, r_t, b2, b3)\n",
    "        eq2 = euler_b3(w_t, r_t, b2, b3)\n",
    "        return eq1, eq2\n",
    "    \n",
    "    b_ss = root(equations, x0=bvec_guess, tol=SS_tol).x  # Solve for steady state b\n",
    "    K_ss = np.sum(b_ss)         # Steady state capital\n",
    "    w_ss = w(α, A, L, K_ss)     # Steady state wage\n",
    "    r_ss = r(α, A, L, K_ss, δ)  # Steady state interest rate\n",
    "    \n",
    "    # Back out consumption path\n",
    "    c_1 = n1 * w_ss - b_ss[0]\n",
    "    c_2 = n2 * w_ss + (1 + r_ss) * b_ss[0] - b_ss[1]\n",
    "    c_3 = n3 * w_ss + (1 + r_ss) * b_ss[1]\n",
    "    c_ss = np.array([c_1, c_2, c_3])  # Steady state consumption path\n",
    "    C_ss = c_ss.sum()                 # Total steady state consumption\n",
    "    \n",
    "    # Back out steady state investment path\n",
    "    I_ss = (b_ss[1] - (1 - δ) * b_ss[0]).sum()\n",
    "    \n",
    "    Y_ss = C_ss + I_ss  # Total output\n",
    "    \n",
    "    # Euler errors\n",
    "    EulErr_ss = β * (1 + r_ss) * u_prime(c_ss[1:]) - u_prime(c_ss[:-1])\n",
    "\n",
    "    # Resource contraint error\n",
    "    RCerr_ss = Y_ss - C_ss - δ * K_ss\n",
    "\n",
    "    ss_time = time.clock() - start_time  # Stop timing\n",
    "    \n",
    "    ss_output = {'b_ss': b_ss, 'c_ss': c_ss, 'w_ss': w_ss, 'r_ss': r_ss,\n",
    "                 'K_ss': K_ss, 'Y_ss': Y_ss, 'C_ss': C_ss,\n",
    "                 'EulErr_ss': EulErr_ss, 'RCerr_ss': RCerr_ss,\n",
    "                 'ss_time': ss_time}\n",
    "    \n",
    "    if SS_graphs:\n",
    "        fig, axes = plt.subplots(1, 2, figsize=(12, 4))\n",
    "        axes[0].bar(range(2, 4), b_ss)\n",
    "        axes[0].set(xticks=([2, 3]), xlabel='State', title='Steady state $b_t$')\n",
    "        axes[1].bar(range(1, 4), c_ss)\n",
    "        axes[1].set(xticks=([1, 2, 3]), xlabel='State', title='Steady state $c_t$')\n",
    "        plt.tight_layout()\n",
    "        plt.show()\n",
    "    \n",
    "    return ss_output"
   ]
  },
  {
   "cell_type": "code",
   "execution_count": 295,
   "metadata": {},
   "outputs": [
    {
     "data": {
      "text/plain": [
       "{'C_ss': 0.6329006729395864,\n",
       " 'EulErr_ss': array([ 1.39266376e-12, -2.62900812e-12]),\n",
       " 'K_ss': 0.07772362575316386,\n",
       " 'RCerr_ss': 0.0016278480557004593,\n",
       " 'Y_ss': 0.6843882269159415,\n",
       " 'b_ss': array([0.01931253, 0.0584111 ]),\n",
       " 'c_ss': array([0.18241213, 0.20961468, 0.24087387]),\n",
       " 'r_ss': 2.433062339127069,\n",
       " 'ss_time': 0.0003889999999984184,\n",
       " 'w_ss': 0.20172465739052575}"
      ]
     },
     "execution_count": 295,
     "metadata": {},
     "output_type": "execute_result"
    }
   ],
   "source": [
    "ss = get_SS(params, np.array([0.1, 0.1]))\n",
    "ss"
   ]
  },
  {
   "cell_type": "markdown",
   "metadata": {},
   "source": [
    "**Part b)**"
   ]
  },
  {
   "cell_type": "code",
   "execution_count": 296,
   "metadata": {},
   "outputs": [
    {
     "data": {
      "image/png": "[encoded data removed]",
      "text/plain": [
       "<matplotlib.figure.Figure at 0x151b4dcc18>"
      ]
     },
     "metadata": {},
     "output_type": "display_data"
    }
   ],
   "source": [
    "ss = get_SS(params, np.array([0.1, 0.1]), SS_graphs=True)"
   ]
  },
  {
   "cell_type": "markdown",
   "metadata": {},
   "source": [
    "**Part c)**"
   ]
  },
  {
   "cell_type": "code",
   "execution_count": 297,
   "metadata": {},
   "outputs": [
    {
     "data": {
      "text/plain": [
       "{'C_ss': 0.6912842903551526,\n",
       " 'EulErr_ss': array([-6.87805368e-12, -2.52953214e-12]),\n",
       " 'K_ss': 0.1050423702259807,\n",
       " 'RCerr_ss': -0.0006206546202607438,\n",
       " 'Y_ss': 0.7580483162348585,\n",
       " 'b_ss': array([0.02817692, 0.07686545]),\n",
       " 'c_ss': array([0.19597528, 0.22861594, 0.26669307]),\n",
       " 'r_ss': 1.8863765057189819,\n",
       " 'ss_time': 0.00043700000000512773,\n",
       " 'w_ss': 0.22415219593446706}"
      ]
     },
     "execution_count": 297,
     "metadata": {},
     "output_type": "execute_result"
    }
   ],
   "source": [
    "β = 0.55\n",
    "params = (β, σ, nvec, A, α, δ, SS_tol)\n",
    "get_SS(params, np.array([0.1, 0.1]))"
   ]
  },
  {
   "cell_type": "markdown",
   "metadata": {},
   "source": [
    "A higher $\\beta$ increases consumption and investment in every period. The equilibrium wage rate is higher, while the interest rate is lower.\n",
    "\n",
    "Increasing $\\beta$ results in an receiving greater utility from comsumption in the future than previously, and therefore is likely to consume less today and save a greater proportion of income, resulting in greater investment and a higher steady state capital level."
   ]
  },
  {
   "cell_type": "markdown",
   "metadata": {},
   "source": [
    "### Problem 2.3"
   ]
  },
  {
   "cell_type": "markdown",
   "metadata": {},
   "source": [
    "Part a)"
   ]
  },
  {
   "cell_type": "code",
   "execution_count": 298,
   "metadata": {},
   "outputs": [],
   "source": [
    "T = 30\n",
    "δ = 0.6415\n",
    "σ = 3\n",
    "A = 1\n",
    "α = 0.35\n",
    "nvec = np.array([1, 1, 0.2])\n",
    "n1, n2, n3 = nvec\n",
    "L = np.sum(nvec)\n",
    "bbar2, bbar3 = ss['b_ss']\n",
    "Kbar = ss['K_ss']                     # Steady state capital\n",
    "\n",
    "b21, b31 = 0.8 * bbar2, 1.1 * bbar3\n",
    "K1 = b21 + b31\n",
    "\n",
    "euler_b2 = lambda w1, w2, r2, b2, b3, β: u_prime(n1 * w1 - b2) - \\\n",
    "           β * (1 + r2) * u_prime(n2 * w2 + (1 + r2) * b2 - b3)\n",
    "euler_b3 = lambda w2, w3, r2, r3, b2, b3, β: u_prime(n2 * w2 + (1 + r2) * b2 - b3) - \\\n",
    "           β * (1 + r3) * u_prime((1 + r3) * b3 + n3 * w3)"
   ]
  },
  {
   "cell_type": "code",
   "execution_count": 299,
   "metadata": {},
   "outputs": [],
   "source": [
    "def find_b2t2_b3t3(bvec, w1, w2, w3, r2, r3, β):\n",
    "    \n",
    "    b2t2, b3t3 = bvec\n",
    "    \n",
    "    e1 = euler_b2(w1, w2, r2, b2t2, b3t3, β)\n",
    "    e2 = euler_b3(w2, w3, r2, r3, b2t2, b3t3, β)\n",
    "    \n",
    "    return np.array([e1, e2]).flatten()"
   ]
  },
  {
   "cell_type": "code",
   "execution_count": 300,
   "metadata": {},
   "outputs": [],
   "source": [
    "def update_bmat(b21, b31, K, bmat, T, m, β):\n",
    "        \n",
    "    w_t = w(α, A, L, K)\n",
    "    r_t = r(α, A, L, K, δ)\n",
    "    euler_errors = np.ones((T+m, 2))\n",
    "    \n",
    "    for t in range(1, T+m-2):\n",
    "        \n",
    "        w1, w2, w3 = w_t[t-1], w_t[t], w_t[t+1]\n",
    "        r2, r3 = r_t[t], r_t[t+1]\n",
    "        \n",
    "        solution = root(find_b2t2_b3t3, \n",
    "                          np.zeros(2), \n",
    "                          args=(w1, w2, w3, r2, r3, β))\n",
    "        b2t2, b3t3 = solution.x\n",
    "        euler_errors[t-1, :] = solution.fun\n",
    "        bmat[t, 0] = b2t2\n",
    "        bmat[t+1, 1] = b3t3\n",
    "        \n",
    "    return bmat, euler_errors"
   ]
  },
  {
   "cell_type": "code",
   "execution_count": 301,
   "metadata": {},
   "outputs": [],
   "source": [
    "def find_b32(b32, b21, w1, w2, r1, r2, β):\n",
    "    return euler_b3(w1, w2, r1, r2, b21, b32, β)"
   ]
  },
  {
   "cell_type": "code",
   "execution_count": 368,
   "metadata": {},
   "outputs": [],
   "source": [
    "def find_ss_path(b21, b31, T, β=0.442, ξ=0.2, ɛ=1e-9, max_iter=100):\n",
    "    \n",
    "    start_time = time.clock()  # Start timing\n",
    "    \n",
    "    m = 5\n",
    "    dist = 1e3\n",
    "    i = 0\n",
    "    K = np.linspace(K1, Kbar, T+m)     # Initial guess at K\n",
    "    \n",
    "    # Initialise a matrix to store b's\n",
    "    bmat = np.zeros((T+m, 2))\n",
    "    bmat[0, :] = b21, b31\n",
    "    \n",
    "    # Solve for the value of b32\n",
    "    w_t = w(α, A, L, K)\n",
    "    r_t = r(α, A, L, K, δ)\n",
    "\n",
    "    bmat[1, 1] = root(find_b32, b31, args=(b21, w_t[0], w_t[1], r_t[0], r_t[1], β)).x\n",
    "    \n",
    "    while (i < max_iter) and (dist > ɛ):        \n",
    "        bmat, e = update_bmat(b21, b31, K, bmat, T, m, β)\n",
    "        K_prime = bmat.sum(axis=1)\n",
    "        dist = ((K_prime - K)**2).sum()\n",
    "        K = ξ * K_prime + (1 - ξ) * K\n",
    "        i += 1\n",
    "        \n",
    "    ss_time = time.clock() - start_time  # Stop timing\n",
    "     \n",
    "    if dist < ɛ:\n",
    "        print(f'Converged in {i} iterations')\n",
    "    else:\n",
    "        print('Did not converge')\n",
    "        \n",
    "    K_path = K\n",
    "    b2_path = bmat[:, 0]\n",
    "    b3_path = bmat[:, 1]\n",
    "    euler_errors = e[:-m]\n",
    "    print(f'The maximum Euler error is {euler_errors.max()}')\n",
    "    \n",
    "    w_path = w(α, A, L, K_path)\n",
    "    r_path = r(α, A, L, K_path, δ)\n",
    "    \n",
    "    c_1_path = n1 * w_path - b2_path\n",
    "    c_2_path = n2 * w_path + (1 + r_path) * b2_path - b3_path\n",
    "    c_3_path = n3 * w_path + (1 + r_path) * b3_path\n",
    "    c_path = np.array([c_1_path, c_2_path, c_3_path])\n",
    "    C_path = c_path.sum(axis=0)\n",
    "    \n",
    "    I_path = K_path[1:] - (1 - δ) * K_path[:-1]\n",
    "    Y_path = C_path[:-1] + I_path  # Total output\n",
    "    \n",
    "    # Resource contraint error\n",
    "    RCerr_bar = Y_path - C_path[:-1] - δ * I_path\n",
    "    print(f'The maximum resource constraint error is {RCerr_bar[:-m].max()}')\n",
    "    \n",
    "    return K_path[:-m], w_path[:-m], r_path[:-m]  # Solved past the steady state"
   ]
  },
  {
   "cell_type": "code",
   "execution_count": 369,
   "metadata": {},
   "outputs": [
    {
     "name": "stdout",
     "output_type": "stream",
     "text": [
      "Converged in 44 iterations\n",
      "The maximum Euler error is 5.25091081726714e-10\n",
      "The maximum resource constraint error is 0.01814919645561623\n"
     ]
    }
   ],
   "source": [
    "path = find_ss_path(b21, b31, 20)"
   ]
  },
  {
   "cell_type": "markdown",
   "metadata": {},
   "source": [
    "Part b)"
   ]
  },
  {
   "cell_type": "code",
   "execution_count": 370,
   "metadata": {},
   "outputs": [
    {
     "data": {
      "image/png": "[encoded data removed]",
      "text/plain": [
       "<matplotlib.figure.Figure at 0x15167922b0>"
      ]
     },
     "metadata": {},
     "output_type": "display_data"
    }
   ],
   "source": [
    "fig, axes = plt.subplots(3, 1, figsize=(10, 13))\n",
    "\n",
    "titles = ['Equilibrium time path of $K_t$',\n",
    "          'Equilibrium time path of $w_t$',\n",
    "          'Equilibrium time path of $r_t$']\n",
    "\n",
    "for i in range(3):\n",
    "\n",
    "    axes[i].plot(path[i])\n",
    "    axes[i].set_title(titles[i])\n",
    "    axes[i].grid()\n",
    "    \n",
    "plt.show()"
   ]
  },
  {
   "cell_type": "markdown",
   "metadata": {},
   "source": [
    "Part c)"
   ]
  },
  {
   "cell_type": "code",
   "execution_count": 382,
   "metadata": {},
   "outputs": [
    {
     "data": {
      "text/plain": [
       "array([[ 2],\n",
       "       [ 4],\n",
       "       [ 5],\n",
       "       [ 6],\n",
       "       [ 7],\n",
       "       [ 8],\n",
       "       [ 9],\n",
       "       [10],\n",
       "       [11],\n",
       "       [12],\n",
       "       [13],\n",
       "       [14],\n",
       "       [15],\n",
       "       [16],\n",
       "       [17],\n",
       "       [18],\n",
       "       [19],\n",
       "       [20]])"
      ]
     },
     "execution_count": 382,
     "metadata": {},
     "output_type": "execute_result"
    }
   ],
   "source": [
    "np.argwhere((path[0] - Kbar) < 0.00001) + 1"
   ]
  },
  {
   "cell_type": "markdown",
   "metadata": {},
   "source": [
    "The economy was within 0.00001 of the steady state at period 2. After period 4, the economy is never again father than 0.00001 away from the stead state/"
   ]
  },
  {
   "cell_type": "code",
   "execution_count": null,
   "metadata": {},
   "outputs": [],
   "source": []
  }
 ],
 "metadata": {
  "kernelspec": {
   "display_name": "Python 3",
   "language": "python",
   "name": "python3"
  },
  "language_info": {
   "codemirror_mode": {
    "name": "ipython",
    "version": 3
   },
   "file_extension": ".py",
   "mimetype": "text/x-python",
   "name": "python",
   "nbconvert_exporter": "python",
   "pygments_lexer": "ipython3",
   "version": "3.6.4"
  }
 },
 "nbformat": 4,
 "nbformat_minor": 2
}
