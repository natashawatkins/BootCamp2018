{
 "cells": [
  {
   "cell_type": "markdown",
   "metadata": {},
   "source": [
    "# Asset Pricing Homework\n",
    "\n",
    "Natasha Watkins"
   ]
  },
  {
   "cell_type": "code",
   "execution_count": 1,
   "metadata": {},
   "outputs": [],
   "source": [
    "import numpy as np\n",
    "import pandas as pd\n",
    "import matplotlib.pyplot as plt\n",
    "from functools import partial\n",
    "from scipy.optimize import broyden1, minimize\n",
    "from fredapi import Fred\n",
    "fred = Fred(api_key='16fc433e0cb217bb8cb94bf76b981f2f')"
   ]
  },
  {
   "cell_type": "markdown",
   "metadata": {},
   "source": [
    "### Exercises Part 1"
   ]
  },
  {
   "cell_type": "markdown",
   "metadata": {},
   "source": [
    "Problem 1)"
   ]
  },
  {
   "cell_type": "code",
   "execution_count": 2,
   "metadata": {},
   "outputs": [],
   "source": [
    "β = 0.99"
   ]
  },
  {
   "cell_type": "code",
   "execution_count": 3,
   "metadata": {},
   "outputs": [],
   "source": [
    "c = fred.get_series('PCECC96').fillna(method='ffill')            # Real personal consumption expenditures\n",
    "gdp_deflator = fred.get_series('GDPDEF').fillna(method='ffill')  # GDP deflator\n",
    "index = fred.get_series('WILL5000INDFC').fillna(method='ffill')  # Return to US stock market\n",
    "riskfree = fred.get_series('TB3MS').fillna(method='ffill')       # Risk-free rate"
   ]
  },
  {
   "cell_type": "code",
   "execution_count": 4,
   "metadata": {},
   "outputs": [],
   "source": [
    "index = index.resample('QS').first()      # Resample to quarterly data\n",
    "rf = riskfree.resample('QS').first() / 100"
   ]
  },
  {
   "cell_type": "code",
   "execution_count": 5,
   "metadata": {},
   "outputs": [],
   "source": [
    "gdp_deflator = gdp_deflator.resample('QS').first()\n",
    "real_index = index / (gdp_deflator / 100)\n",
    "R = real_index / real_index.shift(1)  # Calculate gross quarterly real returns"
   ]
  },
  {
   "cell_type": "code",
   "execution_count": 6,
   "metadata": {},
   "outputs": [],
   "source": [
    "# Resample data to equal length\n",
    "start_year = '1971'\n",
    "end_year = '2017'\n",
    "R = R[start_year:end_year]\n",
    "c = c[start_year:end_year]\n",
    "rf = rf[start_year:end_year]"
   ]
  },
  {
   "cell_type": "code",
   "execution_count": 7,
   "metadata": {},
   "outputs": [],
   "source": [
    "def objective(β, c, R, γ):\n",
    "    mc = c**(-γ)\n",
    "    m = β * mc / mc.shift(1)\n",
    "    m = m[1:]\n",
    "    R = R[1:]\n",
    "    covariance = np.cov(m, R)[0, 1]\n",
    "    return (1 - covariance - m.mean() * R.mean())**2"
   ]
  },
  {
   "cell_type": "code",
   "execution_count": 8,
   "metadata": {},
   "outputs": [
    {
     "data": {
      "text/plain": [
       "array(1.57915233)"
      ]
     },
     "execution_count": 8,
     "metadata": {},
     "output_type": "execute_result"
    }
   ],
   "source": [
    "# Evaluate function partially\n",
    "objective_partial = partial(objective, β, c, R)\n",
    "\n",
    "# Find root of objective function\n",
    "broyden1(objective_partial, 2)"
   ]
  },
  {
   "cell_type": "markdown",
   "metadata": {},
   "source": [
    "Problem 3)"
   ]
  },
  {
   "cell_type": "code",
   "execution_count": 9,
   "metadata": {},
   "outputs": [],
   "source": [
    "def objective2(β, c, rf, γ):\n",
    "    mc = c**(-γ)\n",
    "    m = β * mc / mc.shift(1)\n",
    "    return np.mean((1 + rf - 1 / m)**2)"
   ]
  },
  {
   "cell_type": "code",
   "execution_count": 10,
   "metadata": {},
   "outputs": [
    {
     "data": {
      "text/plain": [
       " final_simplex: (array([[2.72314453],\n",
       "       [2.72324219]]), array([0.00180092, 0.00180092]))\n",
       "           fun: 0.001800924514941144\n",
       "       message: 'Optimization terminated successfully.'\n",
       "          nfev: 30\n",
       "           nit: 15\n",
       "        status: 0\n",
       "       success: True\n",
       "             x: array([2.72314453])"
      ]
     },
     "execution_count": 10,
     "metadata": {},
     "output_type": "execute_result"
    }
   ],
   "source": [
    "objective2_partial = partial(objective2, β, c, rf)\n",
    "\n",
    "minimize(objective2_partial, 2, method='Nelder-Mead')"
   ]
  },
  {
   "cell_type": "markdown",
   "metadata": {},
   "source": [
    "Problem 4)"
   ]
  },
  {
   "cell_type": "code",
   "execution_count": 18,
   "metadata": {},
   "outputs": [],
   "source": [
    "def objective3(params, c, R, rf):\n",
    "    \n",
    "    γ, β = params\n",
    "    \n",
    "    moments = np.empty(2)\n",
    "    W = np.eye(2)\n",
    "    \n",
    "    mc = c**(-γ)\n",
    "    m = β * mc / mc.shift(1)\n",
    "    \n",
    "    m = m[1:]\n",
    "    R = R[1:]\n",
    "    covariance = np.cov(m, R)[0, 1]\n",
    "    moments[0] = (1 - covariance - m.mean() * R.mean())**2\n",
    "    \n",
    "    rf = rf[1:]\n",
    "    moments[1] = np.mean((1 + rf - 1 / m)**2)\n",
    "    \n",
    "    return moments.T @ W @ moments"
   ]
  },
  {
   "cell_type": "code",
   "execution_count": 19,
   "metadata": {},
   "outputs": [
    {
     "data": {
      "text/plain": [
       "(1.9999785276629491, 0.9745194505875416)"
      ]
     },
     "execution_count": 19,
     "metadata": {},
     "output_type": "execute_result"
    }
   ],
   "source": [
    "γ_gmm, β_gmm = minimize(objective3, [2, 2], args=(c, R, rf), method='L-BFGS-B', bounds=((1e-3, None), (1e-3, 1))).x\n",
    "γ_gmm, β_gmm"
   ]
  },
  {
   "cell_type": "code",
   "execution_count": 21,
   "metadata": {},
   "outputs": [],
   "source": [
    "n = 60\n",
    "N = 5\n",
    "γ_grid = np.linspace(0, 4, n)\n",
    "β_grid = np.linspace(0.95, 0.99, N)\n",
    "\n",
    "gmm_values = np.empty((n, N))\n",
    "for i in range(n):\n",
    "    for j in range(N):\n",
    "        gmm_values[i, j] = objective3((γ_grid[i], β_grid[j]), c, R, rf)"
   ]
  },
  {
   "cell_type": "code",
   "execution_count": 22,
   "metadata": {},
   "outputs": [
    {
     "data": {
      "image/png": "[encoded data removed]",
      "text/plain": [
       "<matplotlib.figure.Figure at 0x151184fef0>"
      ]
     },
     "metadata": {},
     "output_type": "display_data"
    }
   ],
   "source": [
    "plt.figure(figsize=(10, 8))\n",
    "for j in range(N):\n",
    "    plt.plot(γ_grid, gmm_values[:, j], label=rf'$\\beta$ = {β_grid[j]:.2f}')\n",
    "plt.title('Value of GMM objective function')\n",
    "plt.xlabel('$\\gamma$')\n",
    "plt.legend()\n",
    "plt.show()"
   ]
  },
  {
   "cell_type": "code",
   "execution_count": 15,
   "metadata": {},
   "outputs": [
    {
     "data": {
      "text/plain": [
       "0.99"
      ]
     },
     "execution_count": 15,
     "metadata": {},
     "output_type": "execute_result"
    }
   ],
   "source": [
    "β"
   ]
  },
  {
   "cell_type": "code",
   "execution_count": null,
   "metadata": {},
   "outputs": [],
   "source": []
  }
 ],
 "metadata": {
  "kernelspec": {
   "display_name": "Python 3",
   "language": "python",
   "name": "python3"
  },
  "language_info": {
   "codemirror_mode": {
    "name": "ipython",
    "version": 3
   },
   "file_extension": ".py",
   "mimetype": "text/x-python",
   "name": "python",
   "nbconvert_exporter": "python",
   "pygments_lexer": "ipython3",
   "version": "3.6.4"
  }
 },
 "nbformat": 4,
 "nbformat_minor": 2
}
